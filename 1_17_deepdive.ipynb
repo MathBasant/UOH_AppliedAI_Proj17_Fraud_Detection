{
 "cells": [
  {
   "cell_type": "markdown",
   "metadata": {},
   "source": [
    "# TRAIN SET Transformation \n",
    "and basic analysis"
   ]
  },
  {
   "cell_type": "code",
   "execution_count": 1,
   "metadata": {},
   "outputs": [],
   "source": [
    "import pandas as pd\n",
    "pd.set_option('display.max_columns', 50)\n",
    "\n",
    "import numpy as np\n",
    "import matplotlib as mp\n",
    "import matplotlib.pyplot as mplt\n",
    "import seaborn as sn\n",
    "from scipy import stats\n",
    "\n",
    "import sklearn\n",
    "from sklearn.impute import SimpleImputer\n",
    "from sklearn.model_selection import train_test_split\n",
    "#from sklearn.model_selection import GridSearchCV\n",
    "from sklearn.preprocessing import StandardScaler\n",
    "from sklearn.linear_model import LogisticRegression\n",
    "from sklearn.ensemble import RandomForestClassifier\n",
    "from xgboost import XGBClassifier\n",
    "from sklearn.metrics import accuracy_score\n",
    "from sklearn.metrics import confusion_matrix , classification_report , f1_score"
   ]
  },
  {
   "cell_type": "markdown",
   "metadata": {},
   "source": [
    "We have two tables that require to be merged into one for modelling. train_identity and train_transaction are 2 csv files. We will clean them individually and then merge them and then perform further analysis before we do any featurization and modelling."
   ]
  },
  {
   "cell_type": "markdown",
   "metadata": {},
   "source": [
    "# *IDENTITY TABLE*"
   ]
  },
  {
   "cell_type": "code",
   "execution_count": 2,
   "metadata": {},
   "outputs": [
    {
     "data": {
      "text/plain": [
       "(144233, 41)"
      ]
     },
     "execution_count": 2,
     "metadata": {},
     "output_type": "execute_result"
    }
   ],
   "source": [
    "df_i = pd.read_csv(\"train_identity.csv\")\n",
    "\n",
    "df_i.shape"
   ]
  },
  {
   "cell_type": "code",
   "execution_count": 3,
   "metadata": {
    "scrolled": false
   },
   "outputs": [
    {
     "name": "stdout",
     "output_type": "stream",
     "text": [
      "<class 'pandas.core.frame.DataFrame'>\n",
      "RangeIndex: 144233 entries, 0 to 144232\n",
      "Data columns (total 41 columns):\n",
      " #   Column         Non-Null Count   Dtype  \n",
      "---  ------         --------------   -----  \n",
      " 0   TransactionID  144233 non-null  int64  \n",
      " 1   id_01          144233 non-null  float64\n",
      " 2   id_02          140872 non-null  float64\n",
      " 3   id_03          66324 non-null   float64\n",
      " 4   id_04          66324 non-null   float64\n",
      " 5   id_05          136865 non-null  float64\n",
      " 6   id_06          136865 non-null  float64\n",
      " 7   id_07          5155 non-null    float64\n",
      " 8   id_08          5155 non-null    float64\n",
      " 9   id_09          74926 non-null   float64\n",
      " 10  id_10          74926 non-null   float64\n",
      " 11  id_11          140978 non-null  float64\n",
      " 12  id_12          144233 non-null  object \n",
      " 13  id_13          127320 non-null  float64\n",
      " 14  id_14          80044 non-null   float64\n",
      " 15  id_15          140985 non-null  object \n",
      " 16  id_16          129340 non-null  object \n",
      " 17  id_17          139369 non-null  float64\n",
      " 18  id_18          45113 non-null   float64\n",
      " 19  id_19          139318 non-null  float64\n",
      " 20  id_20          139261 non-null  float64\n",
      " 21  id_21          5159 non-null    float64\n",
      " 22  id_22          5169 non-null    float64\n",
      " 23  id_23          5169 non-null    object \n",
      " 24  id_24          4747 non-null    float64\n",
      " 25  id_25          5132 non-null    float64\n",
      " 26  id_26          5163 non-null    float64\n",
      " 27  id_27          5169 non-null    object \n",
      " 28  id_28          140978 non-null  object \n",
      " 29  id_29          140978 non-null  object \n",
      " 30  id_30          77565 non-null   object \n",
      " 31  id_31          140282 non-null  object \n",
      " 32  id_32          77586 non-null   float64\n",
      " 33  id_33          73289 non-null   object \n",
      " 34  id_34          77805 non-null   object \n",
      " 35  id_35          140985 non-null  object \n",
      " 36  id_36          140985 non-null  object \n",
      " 37  id_37          140985 non-null  object \n",
      " 38  id_38          140985 non-null  object \n",
      " 39  DeviceType     140810 non-null  object \n",
      " 40  DeviceInfo     118666 non-null  object \n",
      "dtypes: float64(23), int64(1), object(17)\n",
      "memory usage: 45.1+ MB\n"
     ]
    }
   ],
   "source": [
    "df_i.info()"
   ]
  },
  {
   "cell_type": "markdown",
   "metadata": {},
   "source": [
    "id_12 to id_38 , DeviceType , DeviceInfo are categorical features given by the Kaggle host."
   ]
  },
  {
   "cell_type": "code",
   "execution_count": 4,
   "metadata": {},
   "outputs": [
    {
     "data": {
      "text/plain": [
       "Index(['TransactionID', 'id_01', 'id_02', 'id_03', 'id_04', 'id_05', 'id_06',\n",
       "       'id_07', 'id_08', 'id_09', 'id_10', 'id_11', 'id_12', 'id_13', 'id_14',\n",
       "       'id_15', 'id_16', 'id_17', 'id_18', 'id_19', 'id_20', 'id_21', 'id_22',\n",
       "       'id_23', 'id_24', 'id_25', 'id_26', 'id_27', 'id_28', 'id_29', 'id_30',\n",
       "       'id_31', 'id_32', 'id_33', 'id_34', 'id_35', 'id_36', 'id_37', 'id_38',\n",
       "       'DeviceType', 'DeviceInfo'],\n",
       "      dtype='object')"
      ]
     },
     "execution_count": 4,
     "metadata": {},
     "output_type": "execute_result"
    }
   ],
   "source": [
    "df_i.columns"
   ]
  },
  {
   "cell_type": "code",
   "execution_count": 5,
   "metadata": {
    "scrolled": false
   },
   "outputs": [
    {
     "name": "stdout",
     "output_type": "stream",
     "text": [
      "TransactionID -> 0.0 %\n",
      "id_01 -> 0.0 %\n",
      "id_02 -> 2.33025729202055 %\n",
      "id_03 -> 54.016071218098496 %\n",
      "id_04 -> 54.016071218098496 %\n",
      "id_05 -> 5.108400990064687 %\n",
      "id_06 -> 5.108400990064687 %\n",
      "id_07 -> 96.42592194574057 %\n",
      "id_08 -> 96.42592194574057 %\n",
      "id_09 -> 48.05211012736336 %\n",
      "id_10 -> 48.05211012736336 %\n",
      "id_11 -> 2.256765095366525 %\n",
      "id_12 -> 0.0 %\n",
      "id_13 -> 11.726165301976662 %\n",
      "id_14 -> 44.50368500967185 %\n",
      "id_15 -> 2.2519118370969196 %\n",
      "id_16 -> 10.325653629890525 %\n",
      "id_17 -> 3.37232117476583 %\n",
      "id_18 -> 68.72213709761289 %\n",
      "id_19 -> 3.4076806278729554 %\n",
      "id_20 -> 3.4472000166397425 %\n",
      "id_21 -> 96.42314865530079 %\n",
      "id_22 -> 96.41621542920136 %\n",
      "id_23 -> 96.41621542920136 %\n",
      "id_24 -> 96.70879757059757 %\n",
      "id_25 -> 96.44186836576928 %\n",
      "id_26 -> 96.42037536486103 %\n",
      "id_27 -> 96.41621542920136 %\n",
      "id_28 -> 2.256765095366525 %\n",
      "id_29 -> 2.256765095366525 %\n",
      "id_30 -> 46.22243175972211 %\n",
      "id_31 -> 2.7393176318872934 %\n",
      "id_32 -> 46.2078719849133 %\n",
      "id_33 -> 49.18707923984109 %\n",
      "id_34 -> 46.056034333335646 %\n",
      "id_35 -> 2.2519118370969196 %\n",
      "id_36 -> 2.2519118370969196 %\n",
      "id_37 -> 2.2519118370969196 %\n",
      "id_38 -> 2.2519118370969196 %\n",
      "DeviceType -> 2.373243293837055 %\n",
      "DeviceInfo -> 17.72617916842886 %\n"
     ]
    }
   ],
   "source": [
    "# null values in each column\n",
    "\n",
    "for column in df_i:\n",
    "    btao = df_i[column].isna().sum()\n",
    "    btao2 = (btao * 100)/len(df_i)\n",
    "    print(column + \" -> \" + str(btao2) + ' %')"
   ]
  },
  {
   "cell_type": "markdown",
   "metadata": {},
   "source": [
    "We can see that the train_idetity.csv table has a few features with over 70% missing values. Although simply dropping the feature is not advisable, there is no use for features with so many missing values. Imputing values for these features will not be statistically consistent since the population is very small.\n",
    "Therefore we can drop features with a majority of missing values, like the features with over 70% missing values\n",
    "For features with fewer missing values we can impute the mean/median or perhaps interpolate."
   ]
  },
  {
   "cell_type": "code",
   "execution_count": 6,
   "metadata": {},
   "outputs": [
    {
     "data": {
      "text/plain": [
       "['id_07',\n",
       " 'id_08',\n",
       " 'id_21',\n",
       " 'id_22',\n",
       " 'id_23',\n",
       " 'id_24',\n",
       " 'id_25',\n",
       " 'id_26',\n",
       " 'id_27']"
      ]
     },
     "execution_count": 6,
     "metadata": {},
     "output_type": "execute_result"
    }
   ],
   "source": [
    "drop_identity = []\n",
    "for column in df_i:\n",
    "    btao = df_i[column].isna().sum()\n",
    "    btao2 = (btao * 100)/len(df_i)\n",
    "    if btao2 > 70:\n",
    "        drop_identity.append(column)\n",
    "\n",
    "drop_identity"
   ]
  },
  {
   "cell_type": "code",
   "execution_count": 7,
   "metadata": {},
   "outputs": [],
   "source": [
    "for value in drop_identity:\n",
    "    df_i.pop(value)\n",
    "\n",
    "#df_i"
   ]
  },
  {
   "cell_type": "code",
   "execution_count": 8,
   "metadata": {
    "scrolled": true
   },
   "outputs": [
    {
     "name": "stdout",
     "output_type": "stream",
     "text": [
      "desktop    85165\n",
      "mobile     55645\n",
      "Name: DeviceType, dtype: int64\n"
     ]
    }
   ],
   "source": [
    "# Categorical feature\n",
    "print(df_i['DeviceType'].value_counts(dropna = 'True'))"
   ]
  },
  {
   "cell_type": "code",
   "execution_count": 9,
   "metadata": {},
   "outputs": [
    {
     "data": {
      "image/png": "[encoded data removed]",
      "text/plain": [
       "<Figure size 432x288 with 1 Axes>"
      ]
     },
     "metadata": {
      "needs_background": "light"
     },
     "output_type": "display_data"
    }
   ],
   "source": [
    "sn.countplot(x='DeviceType', data=df_i)\n",
    "mplt.title(\" 'DeviceType' values\")\n",
    "mplt.savefig('DeviceTYpe_hist')\n",
    "mplt.show()"
   ]
  },
  {
   "cell_type": "code",
   "execution_count": 10,
   "metadata": {},
   "outputs": [
    {
     "data": {
      "text/plain": [
       "Windows                        47722\n",
       "iOS Device                     19782\n",
       "MacOS                          12573\n",
       "Trident/7.0                     7440\n",
       "rv:11.0                         1901\n",
       "                               ...  \n",
       "LGLS755                            1\n",
       "SM-N910T3                          1\n",
       "STUDIO_G_HD                        1\n",
       "ZTE BLADE A321 Build/NMF26F        1\n",
       "9203A Build/MRA58K                 1\n",
       "Name: DeviceInfo, Length: 1786, dtype: int64"
      ]
     },
     "execution_count": 10,
     "metadata": {},
     "output_type": "execute_result"
    }
   ],
   "source": [
    "# Categorical feature\n",
    "df_i['DeviceInfo'].value_counts()"
   ]
  },
  {
   "cell_type": "markdown",
   "metadata": {},
   "source": [
    "We can also drop the DeviceInfo feature since it only describes the device details that are unique to a device like its build number, OS. Also there is no consistency in this feature in terms of what data has been captured, as can be see using the value_counts method. There are too many categories, 1786, although device OS is the most common captured data. \n",
    "The categories 'Windows', 'iOS Device' and 'MacOS' are the most common categories, contributing to 80,077 rows of data or 55.5% of the feature's categories. The remaining 44.5% values are too varied. Therefore we will drop DeviceInfo."
   ]
  },
  {
   "cell_type": "code",
   "execution_count": 11,
   "metadata": {},
   "outputs": [],
   "source": [
    "deviceInfo = df_i.pop('DeviceInfo')"
   ]
  },
  {
   "cell_type": "code",
   "execution_count": 12,
   "metadata": {},
   "outputs": [],
   "source": [
    "drop_identity.append('DeviceInfo')"
   ]
  },
  {
   "cell_type": "code",
   "execution_count": 13,
   "metadata": {},
   "outputs": [],
   "source": [
    "#there are no missing values in the categorical feature id_12\n",
    "#df_i['id_12'].value_counts()"
   ]
  },
  {
   "cell_type": "code",
   "execution_count": 14,
   "metadata": {},
   "outputs": [],
   "source": [
    "#id_12 = df_i.pop('id_12')"
   ]
  },
  {
   "cell_type": "code",
   "execution_count": 15,
   "metadata": {},
   "outputs": [
    {
     "data": {
      "text/plain": [
       "Found      67728\n",
       "New        61612\n",
       "Unknown    11645\n",
       "Name: id_15, dtype: int64"
      ]
     },
     "execution_count": 15,
     "metadata": {},
     "output_type": "execute_result"
    }
   ],
   "source": [
    "# id_15 is also a categorical feature\n",
    "df_i['id_15'].value_counts()"
   ]
  },
  {
   "cell_type": "code",
   "execution_count": 16,
   "metadata": {},
   "outputs": [
    {
     "data": {
      "image/png": "[encoded data removed]",
      "text/plain": [
       "<Figure size 432x288 with 1 Axes>"
      ]
     },
     "metadata": {
      "needs_background": "light"
     },
     "output_type": "display_data"
    }
   ],
   "source": [
    "sn.countplot(x='id_15', data=df_i)\n",
    "mplt.title(\" 'id_15' values\")\n",
    "mplt.savefig('id_15_hist')\n",
    "mplt.show()"
   ]
  },
  {
   "cell_type": "code",
   "execution_count": 17,
   "metadata": {},
   "outputs": [
    {
     "data": {
      "text/plain": [
       "Found       66324\n",
       "NotFound    63016\n",
       "Name: id_16, dtype: int64"
      ]
     },
     "execution_count": 17,
     "metadata": {},
     "output_type": "execute_result"
    }
   ],
   "source": [
    "# id_16 is also a categorical feature\n",
    "df_i['id_16'].value_counts()"
   ]
  },
  {
   "cell_type": "code",
   "execution_count": 18,
   "metadata": {},
   "outputs": [
    {
     "data": {
      "image/png": "[encoded data removed]",
      "text/plain": [
       "<Figure size 432x288 with 1 Axes>"
      ]
     },
     "metadata": {
      "needs_background": "light"
     },
     "output_type": "display_data"
    }
   ],
   "source": [
    "sn.countplot(x='id_16', data=df_i)\n",
    "mplt.title(\" 'id_16' values\")\n",
    "mplt.savefig('id_16_hist')\n",
    "mplt.show()"
   ]
  },
  {
   "cell_type": "code",
   "execution_count": 19,
   "metadata": {},
   "outputs": [
    {
     "data": {
      "text/plain": [
       "Found    76232\n",
       "New      64746\n",
       "Name: id_28, dtype: int64"
      ]
     },
     "execution_count": 19,
     "metadata": {},
     "output_type": "execute_result"
    }
   ],
   "source": [
    "# id_28 is also a categorical feature\n",
    "df_i['id_28'].value_counts()"
   ]
  },
  {
   "cell_type": "code",
   "execution_count": 20,
   "metadata": {},
   "outputs": [
    {
     "data": {
      "image/png": "[encoded data removed]",
      "text/plain": [
       "<Figure size 432x288 with 1 Axes>"
      ]
     },
     "metadata": {
      "needs_background": "light"
     },
     "output_type": "display_data"
    }
   ],
   "source": [
    "sn.countplot(x='id_28', data=df_i)\n",
    "mplt.title(\" 'id_28' values\")\n",
    "mplt.savefig('id_28_hist')\n",
    "mplt.show()"
   ]
  },
  {
   "cell_type": "code",
   "execution_count": 21,
   "metadata": {},
   "outputs": [
    {
     "data": {
      "text/plain": [
       "Found       74926\n",
       "NotFound    66052\n",
       "Name: id_29, dtype: int64"
      ]
     },
     "execution_count": 21,
     "metadata": {},
     "output_type": "execute_result"
    }
   ],
   "source": [
    "# id_29 is also a categorical feature\n",
    "df_i['id_29'].value_counts()"
   ]
  },
  {
   "cell_type": "code",
   "execution_count": 22,
   "metadata": {},
   "outputs": [
    {
     "data": {
      "image/png": "[encoded data removed]",
      "text/plain": [
       "<Figure size 432x288 with 1 Axes>"
      ]
     },
     "metadata": {
      "needs_background": "light"
     },
     "output_type": "display_data"
    }
   ],
   "source": [
    "sn.countplot(x='id_29', data=df_i)\n",
    "mplt.title(\" 'id_29' values\")\n",
    "mplt.savefig('id_29_hist')\n",
    "mplt.show()"
   ]
  },
  {
   "cell_type": "code",
   "execution_count": 23,
   "metadata": {},
   "outputs": [
    {
     "data": {
      "text/html": [
       "<div>\n",
       "<style scoped>\n",
       "    .dataframe tbody tr th:only-of-type {\n",
       "        vertical-align: middle;\n",
       "    }\n",
       "\n",
       "    .dataframe tbody tr th {\n",
       "        vertical-align: top;\n",
       "    }\n",
       "\n",
       "    .dataframe thead th {\n",
       "        text-align: right;\n",
       "    }\n",
       "</style>\n",
       "<table border=\"1\" class=\"dataframe\">\n",
       "  <thead>\n",
       "    <tr style=\"text-align: right;\">\n",
       "      <th></th>\n",
       "      <th>id_30</th>\n",
       "    </tr>\n",
       "  </thead>\n",
       "  <tbody>\n",
       "    <tr>\n",
       "      <th>Windows 10</th>\n",
       "      <td>21155</td>\n",
       "    </tr>\n",
       "    <tr>\n",
       "      <th>Windows 7</th>\n",
       "      <td>13110</td>\n",
       "    </tr>\n",
       "    <tr>\n",
       "      <th>iOS 11.2.1</th>\n",
       "      <td>3722</td>\n",
       "    </tr>\n",
       "    <tr>\n",
       "      <th>iOS 11.1.2</th>\n",
       "      <td>3699</td>\n",
       "    </tr>\n",
       "    <tr>\n",
       "      <th>Android 7.0</th>\n",
       "      <td>2871</td>\n",
       "    </tr>\n",
       "    <tr>\n",
       "      <th>...</th>\n",
       "      <td>...</td>\n",
       "    </tr>\n",
       "    <tr>\n",
       "      <th>func</th>\n",
       "      <td>10</td>\n",
       "    </tr>\n",
       "    <tr>\n",
       "      <th>iOS 11.4.0</th>\n",
       "      <td>5</td>\n",
       "    </tr>\n",
       "    <tr>\n",
       "      <th>Mac OS X 10_13_5</th>\n",
       "      <td>4</td>\n",
       "    </tr>\n",
       "    <tr>\n",
       "      <th>Windows</th>\n",
       "      <td>3</td>\n",
       "    </tr>\n",
       "    <tr>\n",
       "      <th>iOS 11.4.1</th>\n",
       "      <td>1</td>\n",
       "    </tr>\n",
       "  </tbody>\n",
       "</table>\n",
       "<p>75 rows × 1 columns</p>\n",
       "</div>"
      ],
      "text/plain": [
       "                  id_30\n",
       "Windows 10        21155\n",
       "Windows 7         13110\n",
       "iOS 11.2.1         3722\n",
       "iOS 11.1.2         3699\n",
       "Android 7.0        2871\n",
       "...                 ...\n",
       "func                 10\n",
       "iOS 11.4.0            5\n",
       "Mac OS X 10_13_5      4\n",
       "Windows               3\n",
       "iOS 11.4.1            1\n",
       "\n",
       "[75 rows x 1 columns]"
      ]
     },
     "execution_count": 23,
     "metadata": {},
     "output_type": "execute_result"
    }
   ],
   "source": [
    "# id_30 is also a categorical feature\n",
    "df_i['id_30'].value_counts().to_frame()"
   ]
  },
  {
   "cell_type": "markdown",
   "metadata": {},
   "source": [
    "We can see that id_30 is a categorical deature that describes the OS version and is therefore a categorical feature with far too many categories. So we can see this as a dataframe. By doing so we can see the number of unique categories, i.e 75 categories. Encoding this would take two routes-> either a binary vector of shape 1x75 or we can group the iOS versions into fewer categories like iOS 11.2.x (all 11.2's), etc, which would still end up adding more columns/features. Since we already have 400+ features, we need to reduce dimensionalty and not increase it. As we can see from the feature 'DeviceInfo', we might not find important trends using this feature since encoding would only increase the size of the dataset. We can drop this feature for now.\n",
    "Also, id_30 -> 46.22243175972211 % missing values"
   ]
  },
  {
   "cell_type": "code",
   "execution_count": 24,
   "metadata": {},
   "outputs": [],
   "source": [
    "id_30 =  df_i.pop('id_30')"
   ]
  },
  {
   "cell_type": "code",
   "execution_count": 25,
   "metadata": {},
   "outputs": [],
   "source": [
    "drop_identity.append('id_30')"
   ]
  },
  {
   "cell_type": "code",
   "execution_count": 26,
   "metadata": {
    "scrolled": false
   },
   "outputs": [
    {
     "data": {
      "text/html": [
       "<div>\n",
       "<style scoped>\n",
       "    .dataframe tbody tr th:only-of-type {\n",
       "        vertical-align: middle;\n",
       "    }\n",
       "\n",
       "    .dataframe tbody tr th {\n",
       "        vertical-align: top;\n",
       "    }\n",
       "\n",
       "    .dataframe thead th {\n",
       "        text-align: right;\n",
       "    }\n",
       "</style>\n",
       "<table border=\"1\" class=\"dataframe\">\n",
       "  <thead>\n",
       "    <tr style=\"text-align: right;\">\n",
       "      <th></th>\n",
       "      <th>id_31</th>\n",
       "    </tr>\n",
       "  </thead>\n",
       "  <tbody>\n",
       "    <tr>\n",
       "      <th>chrome 63.0</th>\n",
       "      <td>22000</td>\n",
       "    </tr>\n",
       "    <tr>\n",
       "      <th>mobile safari 11.0</th>\n",
       "      <td>13423</td>\n",
       "    </tr>\n",
       "    <tr>\n",
       "      <th>mobile safari generic</th>\n",
       "      <td>11474</td>\n",
       "    </tr>\n",
       "    <tr>\n",
       "      <th>ie 11.0 for desktop</th>\n",
       "      <td>9030</td>\n",
       "    </tr>\n",
       "    <tr>\n",
       "      <th>safari generic</th>\n",
       "      <td>8195</td>\n",
       "    </tr>\n",
       "    <tr>\n",
       "      <th>...</th>\n",
       "      <td>...</td>\n",
       "    </tr>\n",
       "    <tr>\n",
       "      <th>chrome 69.0</th>\n",
       "      <td>1</td>\n",
       "    </tr>\n",
       "    <tr>\n",
       "      <th>firefox mobile 61.0</th>\n",
       "      <td>1</td>\n",
       "    </tr>\n",
       "    <tr>\n",
       "      <th>seamonkey</th>\n",
       "      <td>1</td>\n",
       "    </tr>\n",
       "    <tr>\n",
       "      <th>Cherry</th>\n",
       "      <td>1</td>\n",
       "    </tr>\n",
       "    <tr>\n",
       "      <th>M4Tel/M4</th>\n",
       "      <td>1</td>\n",
       "    </tr>\n",
       "  </tbody>\n",
       "</table>\n",
       "<p>130 rows × 1 columns</p>\n",
       "</div>"
      ],
      "text/plain": [
       "                       id_31\n",
       "chrome 63.0            22000\n",
       "mobile safari 11.0     13423\n",
       "mobile safari generic  11474\n",
       "ie 11.0 for desktop     9030\n",
       "safari generic          8195\n",
       "...                      ...\n",
       "chrome 69.0                1\n",
       "firefox mobile 61.0        1\n",
       "seamonkey                  1\n",
       "Cherry                     1\n",
       "M4Tel/M4                   1\n",
       "\n",
       "[130 rows x 1 columns]"
      ]
     },
     "execution_count": 26,
     "metadata": {},
     "output_type": "execute_result"
    }
   ],
   "source": [
    "# id_31 is also a categorical feature\n",
    "df_i['id_31'].value_counts().to_frame()"
   ]
  },
  {
   "cell_type": "markdown",
   "metadata": {},
   "source": [
    "id_31 has 130 categories. But id_31 -> 2.7393176318872934 % missign values. \n",
    "Much more sensible to drop it than increase dimensionality"
   ]
  },
  {
   "cell_type": "code",
   "execution_count": 27,
   "metadata": {},
   "outputs": [],
   "source": [
    "id_31 = df_i.pop('id_31')\n",
    "\n",
    "drop_identity.append('id_31')"
   ]
  },
  {
   "cell_type": "code",
   "execution_count": 28,
   "metadata": {},
   "outputs": [
    {
     "data": {
      "text/html": [
       "<div>\n",
       "<style scoped>\n",
       "    .dataframe tbody tr th:only-of-type {\n",
       "        vertical-align: middle;\n",
       "    }\n",
       "\n",
       "    .dataframe tbody tr th {\n",
       "        vertical-align: top;\n",
       "    }\n",
       "\n",
       "    .dataframe thead th {\n",
       "        text-align: right;\n",
       "    }\n",
       "</style>\n",
       "<table border=\"1\" class=\"dataframe\">\n",
       "  <thead>\n",
       "    <tr style=\"text-align: right;\">\n",
       "      <th></th>\n",
       "      <th>id_33</th>\n",
       "    </tr>\n",
       "  </thead>\n",
       "  <tbody>\n",
       "    <tr>\n",
       "      <th>1920x1080</th>\n",
       "      <td>16874</td>\n",
       "    </tr>\n",
       "    <tr>\n",
       "      <th>1366x768</th>\n",
       "      <td>8605</td>\n",
       "    </tr>\n",
       "    <tr>\n",
       "      <th>1334x750</th>\n",
       "      <td>6447</td>\n",
       "    </tr>\n",
       "    <tr>\n",
       "      <th>2208x1242</th>\n",
       "      <td>4900</td>\n",
       "    </tr>\n",
       "    <tr>\n",
       "      <th>1440x900</th>\n",
       "      <td>4384</td>\n",
       "    </tr>\n",
       "    <tr>\n",
       "      <th>...</th>\n",
       "      <td>...</td>\n",
       "    </tr>\n",
       "    <tr>\n",
       "      <th>3696x2310</th>\n",
       "      <td>1</td>\n",
       "    </tr>\n",
       "    <tr>\n",
       "      <th>921x691</th>\n",
       "      <td>1</td>\n",
       "    </tr>\n",
       "    <tr>\n",
       "      <th>1264x924</th>\n",
       "      <td>1</td>\n",
       "    </tr>\n",
       "    <tr>\n",
       "      <th>2048x1080</th>\n",
       "      <td>1</td>\n",
       "    </tr>\n",
       "    <tr>\n",
       "      <th>1496x844</th>\n",
       "      <td>1</td>\n",
       "    </tr>\n",
       "  </tbody>\n",
       "</table>\n",
       "<p>260 rows × 1 columns</p>\n",
       "</div>"
      ],
      "text/plain": [
       "           id_33\n",
       "1920x1080  16874\n",
       "1366x768    8605\n",
       "1334x750    6447\n",
       "2208x1242   4900\n",
       "1440x900    4384\n",
       "...          ...\n",
       "3696x2310      1\n",
       "921x691        1\n",
       "1264x924       1\n",
       "2048x1080      1\n",
       "1496x844       1\n",
       "\n",
       "[260 rows x 1 columns]"
      ]
     },
     "execution_count": 28,
     "metadata": {},
     "output_type": "execute_result"
    }
   ],
   "source": [
    "# id_33 is also a categorical feature\n",
    "df_i['id_33'].value_counts().to_frame()"
   ]
  },
  {
   "cell_type": "markdown",
   "metadata": {},
   "source": [
    "id_33 -> 49.18707923984109 % missing values along with 260 categories. Must be dropped as well."
   ]
  },
  {
   "cell_type": "code",
   "execution_count": 29,
   "metadata": {},
   "outputs": [],
   "source": [
    "id_33 = df_i.pop('id_33')\n",
    "\n",
    "drop_identity.append('id_33')"
   ]
  },
  {
   "cell_type": "code",
   "execution_count": 30,
   "metadata": {},
   "outputs": [
    {
     "data": {
      "text/plain": [
       "match_status:2     60011\n",
       "match_status:1     17376\n",
       "match_status:0       415\n",
       "match_status:-1        3\n",
       "Name: id_34, dtype: int64"
      ]
     },
     "execution_count": 30,
     "metadata": {},
     "output_type": "execute_result"
    }
   ],
   "source": [
    "# id_34 is also a categorical feature\n",
    "df_i['id_34'].value_counts()"
   ]
  },
  {
   "cell_type": "markdown",
   "metadata": {},
   "source": [
    "id_34 -> 46.056034333335646 % missing values and there are 4 categories. Although this feature can be encoded easily but there are too many missing values for any values to be imputed or interpolated since we also don't know what the feature represents. Again, we should drop this feature as well."
   ]
  },
  {
   "cell_type": "code",
   "execution_count": 31,
   "metadata": {},
   "outputs": [],
   "source": [
    "id_34 = df_i.pop('id_34')\n",
    "\n",
    "drop_identity.append('id_34')"
   ]
  },
  {
   "cell_type": "code",
   "execution_count": 32,
   "metadata": {},
   "outputs": [
    {
     "data": {
      "text/plain": [
       "T    77814\n",
       "F    63171\n",
       "Name: id_35, dtype: int64"
      ]
     },
     "execution_count": 32,
     "metadata": {},
     "output_type": "execute_result"
    }
   ],
   "source": [
    "# id_35 is also a categorical feature\n",
    "df_i['id_35'].value_counts()"
   ]
  },
  {
   "cell_type": "code",
   "execution_count": 33,
   "metadata": {},
   "outputs": [
    {
     "data": {
      "image/png": "[encoded data removed]",
      "text/plain": [
       "<Figure size 432x288 with 1 Axes>"
      ]
     },
     "metadata": {
      "needs_background": "light"
     },
     "output_type": "display_data"
    }
   ],
   "source": [
    "sn.countplot(x='id_35', data=df_i)\n",
    "mplt.title(\" 'id_35' values\")\n",
    "mplt.savefig('id_35_hist')\n",
    "mplt.show()"
   ]
  },
  {
   "cell_type": "code",
   "execution_count": 34,
   "metadata": {},
   "outputs": [
    {
     "data": {
      "text/plain": [
       "F    134066\n",
       "T      6919\n",
       "Name: id_36, dtype: int64"
      ]
     },
     "execution_count": 34,
     "metadata": {},
     "output_type": "execute_result"
    }
   ],
   "source": [
    "# id_36 is also a categorical feature\n",
    "df_i['id_36'].value_counts()"
   ]
  },
  {
   "cell_type": "code",
   "execution_count": 35,
   "metadata": {},
   "outputs": [
    {
     "data": {
      "image/png": "[encoded data removed]",
      "text/plain": [
       "<Figure size 432x288 with 1 Axes>"
      ]
     },
     "metadata": {
      "needs_background": "light"
     },
     "output_type": "display_data"
    }
   ],
   "source": [
    "sn.countplot(x='id_36', data=df_i)\n",
    "mplt.title(\" 'id_36' values\")\n",
    "mplt.savefig('id_36_hist')\n",
    "mplt.show()"
   ]
  },
  {
   "cell_type": "code",
   "execution_count": 36,
   "metadata": {},
   "outputs": [],
   "source": [
    "# we can drop id_36 since it is imbalanced and so it won't add much to the customer trends that we want to visualize\n",
    "id_36 = df_i.pop('id_36')\n",
    "\n",
    "drop_identity.append('id_36')"
   ]
  },
  {
   "cell_type": "code",
   "execution_count": 37,
   "metadata": {},
   "outputs": [
    {
     "data": {
      "text/plain": [
       "T    110452\n",
       "F     30533\n",
       "Name: id_37, dtype: int64"
      ]
     },
     "execution_count": 37,
     "metadata": {},
     "output_type": "execute_result"
    }
   ],
   "source": [
    "# id_37 is also a categorical feature\n",
    "df_i['id_37'].value_counts()"
   ]
  },
  {
   "cell_type": "code",
   "execution_count": 38,
   "metadata": {},
   "outputs": [
    {
     "data": {
      "image/png": "[encoded data removed]",
      "text/plain": [
       "<Figure size 432x288 with 1 Axes>"
      ]
     },
     "metadata": {
      "needs_background": "light"
     },
     "output_type": "display_data"
    }
   ],
   "source": [
    "sn.countplot(x='id_37', data=df_i)\n",
    "mplt.title(\" 'id_37' values\")\n",
    "mplt.savefig('id_37_hist')\n",
    "mplt.show()"
   ]
  },
  {
   "cell_type": "code",
   "execution_count": 39,
   "metadata": {},
   "outputs": [],
   "source": [
    "# we can drop id_37 since it is imbalanced and so it won't add much to the customer trends that we want to visualize\n",
    "id_37 = df_i.pop('id_37')\n",
    "\n",
    "drop_identity.append('id_37')"
   ]
  },
  {
   "cell_type": "markdown",
   "metadata": {},
   "source": [
    "id_36 and id_37 are imbalanced binary features and hence we dropped these as well. (just like id_12)"
   ]
  },
  {
   "cell_type": "code",
   "execution_count": 40,
   "metadata": {},
   "outputs": [
    {
     "data": {
      "text/plain": [
       "F    73922\n",
       "T    67063\n",
       "Name: id_38, dtype: int64"
      ]
     },
     "execution_count": 40,
     "metadata": {},
     "output_type": "execute_result"
    }
   ],
   "source": [
    "# id_38 is also a categorical feature\n",
    "df_i['id_38'].value_counts()"
   ]
  },
  {
   "cell_type": "code",
   "execution_count": 41,
   "metadata": {},
   "outputs": [
    {
     "data": {
      "image/png": "[encoded data removed]",
      "text/plain": [
       "<Figure size 432x288 with 1 Axes>"
      ]
     },
     "metadata": {
      "needs_background": "light"
     },
     "output_type": "display_data"
    }
   ],
   "source": [
    "sn.countplot(x='id_38', data=df_i)\n",
    "mplt.title(\" 'id_38' values\")\n",
    "mplt.savefig('id_38_hist')\n",
    "mplt.show()"
   ]
  },
  {
   "cell_type": "code",
   "execution_count": 42,
   "metadata": {},
   "outputs": [
    {
     "data": {
      "text/html": [
       "<div>\n",
       "<style scoped>\n",
       "    .dataframe tbody tr th:only-of-type {\n",
       "        vertical-align: middle;\n",
       "    }\n",
       "\n",
       "    .dataframe tbody tr th {\n",
       "        vertical-align: top;\n",
       "    }\n",
       "\n",
       "    .dataframe thead th {\n",
       "        text-align: right;\n",
       "    }\n",
       "</style>\n",
       "<table border=\"1\" class=\"dataframe\">\n",
       "  <thead>\n",
       "    <tr style=\"text-align: right;\">\n",
       "      <th></th>\n",
       "      <th>TransactionID</th>\n",
       "      <th>id_01</th>\n",
       "      <th>id_02</th>\n",
       "      <th>id_03</th>\n",
       "      <th>id_04</th>\n",
       "      <th>id_05</th>\n",
       "      <th>id_06</th>\n",
       "      <th>id_09</th>\n",
       "      <th>id_10</th>\n",
       "      <th>id_11</th>\n",
       "      <th>id_12</th>\n",
       "      <th>id_13</th>\n",
       "      <th>id_14</th>\n",
       "      <th>id_15</th>\n",
       "      <th>id_16</th>\n",
       "      <th>id_17</th>\n",
       "      <th>id_18</th>\n",
       "      <th>id_19</th>\n",
       "      <th>id_20</th>\n",
       "      <th>id_28</th>\n",
       "      <th>id_29</th>\n",
       "      <th>id_32</th>\n",
       "      <th>id_35</th>\n",
       "      <th>id_38</th>\n",
       "      <th>DeviceType</th>\n",
       "    </tr>\n",
       "  </thead>\n",
       "  <tbody>\n",
       "    <tr>\n",
       "      <th>0</th>\n",
       "      <td>2987004</td>\n",
       "      <td>0.0</td>\n",
       "      <td>70787.0</td>\n",
       "      <td>NaN</td>\n",
       "      <td>NaN</td>\n",
       "      <td>NaN</td>\n",
       "      <td>NaN</td>\n",
       "      <td>NaN</td>\n",
       "      <td>NaN</td>\n",
       "      <td>100.0</td>\n",
       "      <td>NotFound</td>\n",
       "      <td>NaN</td>\n",
       "      <td>-480.0</td>\n",
       "      <td>New</td>\n",
       "      <td>NotFound</td>\n",
       "      <td>166.0</td>\n",
       "      <td>NaN</td>\n",
       "      <td>542.0</td>\n",
       "      <td>144.0</td>\n",
       "      <td>New</td>\n",
       "      <td>NotFound</td>\n",
       "      <td>32.0</td>\n",
       "      <td>T</td>\n",
       "      <td>T</td>\n",
       "      <td>mobile</td>\n",
       "    </tr>\n",
       "    <tr>\n",
       "      <th>1</th>\n",
       "      <td>2987008</td>\n",
       "      <td>-5.0</td>\n",
       "      <td>98945.0</td>\n",
       "      <td>NaN</td>\n",
       "      <td>NaN</td>\n",
       "      <td>0.0</td>\n",
       "      <td>-5.0</td>\n",
       "      <td>NaN</td>\n",
       "      <td>NaN</td>\n",
       "      <td>100.0</td>\n",
       "      <td>NotFound</td>\n",
       "      <td>49.0</td>\n",
       "      <td>-300.0</td>\n",
       "      <td>New</td>\n",
       "      <td>NotFound</td>\n",
       "      <td>166.0</td>\n",
       "      <td>NaN</td>\n",
       "      <td>621.0</td>\n",
       "      <td>500.0</td>\n",
       "      <td>New</td>\n",
       "      <td>NotFound</td>\n",
       "      <td>32.0</td>\n",
       "      <td>T</td>\n",
       "      <td>T</td>\n",
       "      <td>mobile</td>\n",
       "    </tr>\n",
       "    <tr>\n",
       "      <th>2</th>\n",
       "      <td>2987010</td>\n",
       "      <td>-5.0</td>\n",
       "      <td>191631.0</td>\n",
       "      <td>0.0</td>\n",
       "      <td>0.0</td>\n",
       "      <td>0.0</td>\n",
       "      <td>0.0</td>\n",
       "      <td>0.0</td>\n",
       "      <td>0.0</td>\n",
       "      <td>100.0</td>\n",
       "      <td>NotFound</td>\n",
       "      <td>52.0</td>\n",
       "      <td>NaN</td>\n",
       "      <td>Found</td>\n",
       "      <td>Found</td>\n",
       "      <td>121.0</td>\n",
       "      <td>NaN</td>\n",
       "      <td>410.0</td>\n",
       "      <td>142.0</td>\n",
       "      <td>Found</td>\n",
       "      <td>Found</td>\n",
       "      <td>NaN</td>\n",
       "      <td>F</td>\n",
       "      <td>T</td>\n",
       "      <td>desktop</td>\n",
       "    </tr>\n",
       "    <tr>\n",
       "      <th>3</th>\n",
       "      <td>2987011</td>\n",
       "      <td>-5.0</td>\n",
       "      <td>221832.0</td>\n",
       "      <td>NaN</td>\n",
       "      <td>NaN</td>\n",
       "      <td>0.0</td>\n",
       "      <td>-6.0</td>\n",
       "      <td>NaN</td>\n",
       "      <td>NaN</td>\n",
       "      <td>100.0</td>\n",
       "      <td>NotFound</td>\n",
       "      <td>52.0</td>\n",
       "      <td>NaN</td>\n",
       "      <td>New</td>\n",
       "      <td>NotFound</td>\n",
       "      <td>225.0</td>\n",
       "      <td>NaN</td>\n",
       "      <td>176.0</td>\n",
       "      <td>507.0</td>\n",
       "      <td>New</td>\n",
       "      <td>NotFound</td>\n",
       "      <td>NaN</td>\n",
       "      <td>F</td>\n",
       "      <td>T</td>\n",
       "      <td>desktop</td>\n",
       "    </tr>\n",
       "    <tr>\n",
       "      <th>4</th>\n",
       "      <td>2987016</td>\n",
       "      <td>0.0</td>\n",
       "      <td>7460.0</td>\n",
       "      <td>0.0</td>\n",
       "      <td>0.0</td>\n",
       "      <td>1.0</td>\n",
       "      <td>0.0</td>\n",
       "      <td>0.0</td>\n",
       "      <td>0.0</td>\n",
       "      <td>100.0</td>\n",
       "      <td>NotFound</td>\n",
       "      <td>NaN</td>\n",
       "      <td>-300.0</td>\n",
       "      <td>Found</td>\n",
       "      <td>Found</td>\n",
       "      <td>166.0</td>\n",
       "      <td>15.0</td>\n",
       "      <td>529.0</td>\n",
       "      <td>575.0</td>\n",
       "      <td>Found</td>\n",
       "      <td>Found</td>\n",
       "      <td>24.0</td>\n",
       "      <td>T</td>\n",
       "      <td>T</td>\n",
       "      <td>desktop</td>\n",
       "    </tr>\n",
       "    <tr>\n",
       "      <th>...</th>\n",
       "      <td>...</td>\n",
       "      <td>...</td>\n",
       "      <td>...</td>\n",
       "      <td>...</td>\n",
       "      <td>...</td>\n",
       "      <td>...</td>\n",
       "      <td>...</td>\n",
       "      <td>...</td>\n",
       "      <td>...</td>\n",
       "      <td>...</td>\n",
       "      <td>...</td>\n",
       "      <td>...</td>\n",
       "      <td>...</td>\n",
       "      <td>...</td>\n",
       "      <td>...</td>\n",
       "      <td>...</td>\n",
       "      <td>...</td>\n",
       "      <td>...</td>\n",
       "      <td>...</td>\n",
       "      <td>...</td>\n",
       "      <td>...</td>\n",
       "      <td>...</td>\n",
       "      <td>...</td>\n",
       "      <td>...</td>\n",
       "      <td>...</td>\n",
       "    </tr>\n",
       "    <tr>\n",
       "      <th>144228</th>\n",
       "      <td>3577521</td>\n",
       "      <td>-15.0</td>\n",
       "      <td>145955.0</td>\n",
       "      <td>0.0</td>\n",
       "      <td>0.0</td>\n",
       "      <td>0.0</td>\n",
       "      <td>0.0</td>\n",
       "      <td>0.0</td>\n",
       "      <td>0.0</td>\n",
       "      <td>100.0</td>\n",
       "      <td>NotFound</td>\n",
       "      <td>27.0</td>\n",
       "      <td>NaN</td>\n",
       "      <td>Found</td>\n",
       "      <td>Found</td>\n",
       "      <td>225.0</td>\n",
       "      <td>NaN</td>\n",
       "      <td>427.0</td>\n",
       "      <td>139.0</td>\n",
       "      <td>Found</td>\n",
       "      <td>Found</td>\n",
       "      <td>NaN</td>\n",
       "      <td>F</td>\n",
       "      <td>F</td>\n",
       "      <td>mobile</td>\n",
       "    </tr>\n",
       "    <tr>\n",
       "      <th>144229</th>\n",
       "      <td>3577526</td>\n",
       "      <td>-5.0</td>\n",
       "      <td>172059.0</td>\n",
       "      <td>NaN</td>\n",
       "      <td>NaN</td>\n",
       "      <td>1.0</td>\n",
       "      <td>-5.0</td>\n",
       "      <td>NaN</td>\n",
       "      <td>NaN</td>\n",
       "      <td>100.0</td>\n",
       "      <td>NotFound</td>\n",
       "      <td>27.0</td>\n",
       "      <td>-300.0</td>\n",
       "      <td>New</td>\n",
       "      <td>NotFound</td>\n",
       "      <td>166.0</td>\n",
       "      <td>15.0</td>\n",
       "      <td>352.0</td>\n",
       "      <td>333.0</td>\n",
       "      <td>New</td>\n",
       "      <td>NotFound</td>\n",
       "      <td>32.0</td>\n",
       "      <td>T</td>\n",
       "      <td>F</td>\n",
       "      <td>mobile</td>\n",
       "    </tr>\n",
       "    <tr>\n",
       "      <th>144230</th>\n",
       "      <td>3577529</td>\n",
       "      <td>-20.0</td>\n",
       "      <td>632381.0</td>\n",
       "      <td>NaN</td>\n",
       "      <td>NaN</td>\n",
       "      <td>-1.0</td>\n",
       "      <td>-36.0</td>\n",
       "      <td>NaN</td>\n",
       "      <td>NaN</td>\n",
       "      <td>100.0</td>\n",
       "      <td>NotFound</td>\n",
       "      <td>27.0</td>\n",
       "      <td>NaN</td>\n",
       "      <td>New</td>\n",
       "      <td>NotFound</td>\n",
       "      <td>225.0</td>\n",
       "      <td>27.0</td>\n",
       "      <td>567.0</td>\n",
       "      <td>411.0</td>\n",
       "      <td>New</td>\n",
       "      <td>NotFound</td>\n",
       "      <td>NaN</td>\n",
       "      <td>F</td>\n",
       "      <td>F</td>\n",
       "      <td>mobile</td>\n",
       "    </tr>\n",
       "    <tr>\n",
       "      <th>144231</th>\n",
       "      <td>3577531</td>\n",
       "      <td>-5.0</td>\n",
       "      <td>55528.0</td>\n",
       "      <td>0.0</td>\n",
       "      <td>0.0</td>\n",
       "      <td>0.0</td>\n",
       "      <td>-7.0</td>\n",
       "      <td>0.0</td>\n",
       "      <td>0.0</td>\n",
       "      <td>100.0</td>\n",
       "      <td>NotFound</td>\n",
       "      <td>27.0</td>\n",
       "      <td>-300.0</td>\n",
       "      <td>Found</td>\n",
       "      <td>Found</td>\n",
       "      <td>166.0</td>\n",
       "      <td>15.0</td>\n",
       "      <td>352.0</td>\n",
       "      <td>368.0</td>\n",
       "      <td>Found</td>\n",
       "      <td>Found</td>\n",
       "      <td>24.0</td>\n",
       "      <td>T</td>\n",
       "      <td>F</td>\n",
       "      <td>desktop</td>\n",
       "    </tr>\n",
       "    <tr>\n",
       "      <th>144232</th>\n",
       "      <td>3577534</td>\n",
       "      <td>-45.0</td>\n",
       "      <td>339406.0</td>\n",
       "      <td>NaN</td>\n",
       "      <td>NaN</td>\n",
       "      <td>-10.0</td>\n",
       "      <td>-100.0</td>\n",
       "      <td>NaN</td>\n",
       "      <td>NaN</td>\n",
       "      <td>100.0</td>\n",
       "      <td>NotFound</td>\n",
       "      <td>27.0</td>\n",
       "      <td>NaN</td>\n",
       "      <td>New</td>\n",
       "      <td>NotFound</td>\n",
       "      <td>225.0</td>\n",
       "      <td>15.0</td>\n",
       "      <td>417.0</td>\n",
       "      <td>595.0</td>\n",
       "      <td>New</td>\n",
       "      <td>NotFound</td>\n",
       "      <td>NaN</td>\n",
       "      <td>F</td>\n",
       "      <td>F</td>\n",
       "      <td>mobile</td>\n",
       "    </tr>\n",
       "  </tbody>\n",
       "</table>\n",
       "<p>144233 rows × 25 columns</p>\n",
       "</div>"
      ],
      "text/plain": [
       "        TransactionID  id_01     id_02  id_03  id_04  id_05  id_06  id_09  \\\n",
       "0             2987004    0.0   70787.0    NaN    NaN    NaN    NaN    NaN   \n",
       "1             2987008   -5.0   98945.0    NaN    NaN    0.0   -5.0    NaN   \n",
       "2             2987010   -5.0  191631.0    0.0    0.0    0.0    0.0    0.0   \n",
       "3             2987011   -5.0  221832.0    NaN    NaN    0.0   -6.0    NaN   \n",
       "4             2987016    0.0    7460.0    0.0    0.0    1.0    0.0    0.0   \n",
       "...               ...    ...       ...    ...    ...    ...    ...    ...   \n",
       "144228        3577521  -15.0  145955.0    0.0    0.0    0.0    0.0    0.0   \n",
       "144229        3577526   -5.0  172059.0    NaN    NaN    1.0   -5.0    NaN   \n",
       "144230        3577529  -20.0  632381.0    NaN    NaN   -1.0  -36.0    NaN   \n",
       "144231        3577531   -5.0   55528.0    0.0    0.0    0.0   -7.0    0.0   \n",
       "144232        3577534  -45.0  339406.0    NaN    NaN  -10.0 -100.0    NaN   \n",
       "\n",
       "        id_10  id_11     id_12  id_13  id_14  id_15     id_16  id_17  id_18  \\\n",
       "0         NaN  100.0  NotFound    NaN -480.0    New  NotFound  166.0    NaN   \n",
       "1         NaN  100.0  NotFound   49.0 -300.0    New  NotFound  166.0    NaN   \n",
       "2         0.0  100.0  NotFound   52.0    NaN  Found     Found  121.0    NaN   \n",
       "3         NaN  100.0  NotFound   52.0    NaN    New  NotFound  225.0    NaN   \n",
       "4         0.0  100.0  NotFound    NaN -300.0  Found     Found  166.0   15.0   \n",
       "...       ...    ...       ...    ...    ...    ...       ...    ...    ...   \n",
       "144228    0.0  100.0  NotFound   27.0    NaN  Found     Found  225.0    NaN   \n",
       "144229    NaN  100.0  NotFound   27.0 -300.0    New  NotFound  166.0   15.0   \n",
       "144230    NaN  100.0  NotFound   27.0    NaN    New  NotFound  225.0   27.0   \n",
       "144231    0.0  100.0  NotFound   27.0 -300.0  Found     Found  166.0   15.0   \n",
       "144232    NaN  100.0  NotFound   27.0    NaN    New  NotFound  225.0   15.0   \n",
       "\n",
       "        id_19  id_20  id_28     id_29  id_32 id_35 id_38 DeviceType  \n",
       "0       542.0  144.0    New  NotFound   32.0     T     T     mobile  \n",
       "1       621.0  500.0    New  NotFound   32.0     T     T     mobile  \n",
       "2       410.0  142.0  Found     Found    NaN     F     T    desktop  \n",
       "3       176.0  507.0    New  NotFound    NaN     F     T    desktop  \n",
       "4       529.0  575.0  Found     Found   24.0     T     T    desktop  \n",
       "...       ...    ...    ...       ...    ...   ...   ...        ...  \n",
       "144228  427.0  139.0  Found     Found    NaN     F     F     mobile  \n",
       "144229  352.0  333.0    New  NotFound   32.0     T     F     mobile  \n",
       "144230  567.0  411.0    New  NotFound    NaN     F     F     mobile  \n",
       "144231  352.0  368.0  Found     Found   24.0     T     F    desktop  \n",
       "144232  417.0  595.0    New  NotFound    NaN     F     F     mobile  \n",
       "\n",
       "[144233 rows x 25 columns]"
      ]
     },
     "execution_count": 42,
     "metadata": {},
     "output_type": "execute_result"
    }
   ],
   "source": [
    "#Let's look at the table again\n",
    "df_i"
   ]
  },
  {
   "cell_type": "code",
   "execution_count": 43,
   "metadata": {},
   "outputs": [
    {
     "data": {
      "text/plain": [
       "NotFound    123025\n",
       "Found        21208\n",
       "Name: id_12, dtype: int64"
      ]
     },
     "execution_count": 43,
     "metadata": {},
     "output_type": "execute_result"
    }
   ],
   "source": [
    "#df_i.describe()\n",
    "df_i['id_12'].value_counts()"
   ]
  },
  {
   "cell_type": "code",
   "execution_count": 44,
   "metadata": {},
   "outputs": [
    {
     "data": {
      "image/png": "[encoded data removed]",
      "text/plain": [
       "<Figure size 432x288 with 1 Axes>"
      ]
     },
     "metadata": {
      "needs_background": "light"
     },
     "output_type": "display_data"
    }
   ],
   "source": [
    "# id_12 is a binary catergorical feature represnted by the values 'Found' and 'NotFound'\n",
    "sn.countplot(x='id_12', data=df_i)\n",
    "mplt.title(\" 'id_12' values\")\n",
    "mplt.savefig('id_12_hist')\n",
    "mplt.show()"
   ]
  },
  {
   "cell_type": "markdown",
   "metadata": {},
   "source": [
    "We see that id_12 is a binary categorical feature and and is imbalanced, but has no missing values. So we can keep it for now."
   ]
  },
  {
   "cell_type": "code",
   "execution_count": 45,
   "metadata": {},
   "outputs": [],
   "source": [
    "#id_12 = df_i.pop('id_12')"
   ]
  },
  {
   "cell_type": "code",
   "execution_count": 45,
   "metadata": {},
   "outputs": [
    {
     "data": {
      "image/png": "[encoded data removed]",
      "text/plain": [
       "<Figure size 864x576 with 1 Axes>"
      ]
     },
     "metadata": {
      "needs_background": "light"
     },
     "output_type": "display_data"
    }
   ],
   "source": [
    "mplt.figure(figsize=(12,8))\n",
    "df_i.boxplot('id_01')\n",
    "mplt.show()"
   ]
  },
  {
   "cell_type": "code",
   "execution_count": 46,
   "metadata": {},
   "outputs": [
    {
     "data": {
      "text/plain": [
       "<matplotlib.axes._subplots.AxesSubplot at 0x222b3ce8280>"
      ]
     },
     "execution_count": 46,
     "metadata": {},
     "output_type": "execute_result"
    },
    {
     "data": {
      "image/png": "[encoded data removed]",
      "text/plain": [
       "<Figure size 864x576 with 1 Axes>"
      ]
     },
     "metadata": {
      "needs_background": "light"
     },
     "output_type": "display_data"
    }
   ],
   "source": [
    "fig, ax = mplt.subplots(figsize=(12,8))\n",
    "sn.distplot(df_i.id_01)"
   ]
  },
  {
   "cell_type": "code",
   "execution_count": 47,
   "metadata": {},
   "outputs": [
    {
     "data": {
      "image/png": "[encoded data removed]",
      "text/plain": [
       "<Figure size 864x576 with 1 Axes>"
      ]
     },
     "metadata": {
      "needs_background": "light"
     },
     "output_type": "display_data"
    }
   ],
   "source": [
    "mplt.figure(figsize=(12,8))\n",
    "df_i.boxplot('id_02')\n",
    "mplt.show()"
   ]
  },
  {
   "cell_type": "code",
   "execution_count": 48,
   "metadata": {},
   "outputs": [
    {
     "data": {
      "text/plain": [
       "<matplotlib.axes._subplots.AxesSubplot at 0x222b3eb9040>"
      ]
     },
     "execution_count": 48,
     "metadata": {},
     "output_type": "execute_result"
    },
    {
     "data": {
      "image/png": "[encoded data removed]",
      "text/plain": [
       "<Figure size 864x576 with 1 Axes>"
      ]
     },
     "metadata": {
      "needs_background": "light"
     },
     "output_type": "display_data"
    }
   ],
   "source": [
    "fig, ax = mplt.subplots(figsize=(12,8))\n",
    "sn.distplot(df_i.id_02)"
   ]
  },
  {
   "cell_type": "markdown",
   "metadata": {},
   "source": [
    "id_03 -> 54.016071218098496 % missing values\n"
   ]
  },
  {
   "cell_type": "code",
   "execution_count": 49,
   "metadata": {
    "scrolled": false
   },
   "outputs": [
    {
     "data": {
      "image/png": "[encoded data removed]",
      "text/plain": [
       "<Figure size 864x576 with 1 Axes>"
      ]
     },
     "metadata": {
      "needs_background": "light"
     },
     "output_type": "display_data"
    }
   ],
   "source": [
    "mplt.figure(figsize=(12,8))\n",
    "df_i.boxplot('id_03')\n",
    "mplt.show()"
   ]
  },
  {
   "cell_type": "code",
   "execution_count": 50,
   "metadata": {},
   "outputs": [
    {
     "name": "stderr",
     "output_type": "stream",
     "text": [
      "C:\\Users\\leobu\\anaconda3\\lib\\site-packages\\seaborn\\distributions.py:369: UserWarning: Default bandwidth for data is 0; skipping density estimation.\n",
      "  warnings.warn(msg, UserWarning)\n"
     ]
    },
    {
     "data": {
      "text/plain": [
       "<matplotlib.axes._subplots.AxesSubplot at 0x222b41b6d00>"
      ]
     },
     "execution_count": 50,
     "metadata": {},
     "output_type": "execute_result"
    },
    {
     "data": {
      "image/png": "[encoded data removed]",
      "text/plain": [
       "<Figure size 864x576 with 1 Axes>"
      ]
     },
     "metadata": {
      "needs_background": "light"
     },
     "output_type": "display_data"
    }
   ],
   "source": [
    "fig, ax = mplt.subplots(figsize=(12,8))\n",
    "sn.distplot(df_i.id_03)"
   ]
  },
  {
   "cell_type": "code",
   "execution_count": 51,
   "metadata": {},
   "outputs": [
    {
     "data": {
      "text/plain": [
       "(-1.5, 4.25]        65967\n",
       "(4.25, 10.0]          182\n",
       "(-7.25, -1.5]         126\n",
       "(-13.024, -7.25]       49\n",
       "Name: id_03, dtype: int64"
      ]
     },
     "execution_count": 51,
     "metadata": {},
     "output_type": "execute_result"
    }
   ],
   "source": [
    "df_i['id_03'].value_counts(bins=4)"
   ]
  },
  {
   "cell_type": "markdown",
   "metadata": {},
   "source": [
    "id_04 -> 54.016071218098496 % missing values"
   ]
  },
  {
   "cell_type": "code",
   "execution_count": 52,
   "metadata": {},
   "outputs": [
    {
     "name": "stderr",
     "output_type": "stream",
     "text": [
      "C:\\Users\\leobu\\anaconda3\\lib\\site-packages\\seaborn\\distributions.py:369: UserWarning: Default bandwidth for data is 0; skipping density estimation.\n",
      "  warnings.warn(msg, UserWarning)\n"
     ]
    },
    {
     "data": {
      "text/plain": [
       "<matplotlib.axes._subplots.AxesSubplot at 0x222b43117f0>"
      ]
     },
     "execution_count": 52,
     "metadata": {},
     "output_type": "execute_result"
    },
    {
     "data": {
      "image/png": "[encoded data removed]",
      "text/plain": [
       "<Figure size 864x576 with 1 Axes>"
      ]
     },
     "metadata": {
      "needs_background": "light"
     },
     "output_type": "display_data"
    }
   ],
   "source": [
    "fig, ax = mplt.subplots(figsize=(12,8))\n",
    "sn.distplot(df_i.id_04)"
   ]
  },
  {
   "cell_type": "code",
   "execution_count": 53,
   "metadata": {},
   "outputs": [
    {
     "data": {
      "text/plain": [
       "(-7.0, 0.0]         66088\n",
       "(-14.0, -7.0]         234\n",
       "(-28.029, -21.0]        2\n",
       "(-21.0, -14.0]          0\n",
       "Name: id_04, dtype: int64"
      ]
     },
     "execution_count": 53,
     "metadata": {},
     "output_type": "execute_result"
    }
   ],
   "source": [
    "df_i['id_04'].value_counts(bins=4)"
   ]
  },
  {
   "cell_type": "markdown",
   "metadata": {},
   "source": [
    "We can see from the distributions of id_03 and id_04 that these are rather consistent values (very thin or highly peaked distributions).\n",
    "\n",
    "id_03 has majority values lying in the interval (-1.5, 4.25] \n",
    "\n",
    "id_04 has majority values lying in the interval (-7.0, 0.0]\n",
    "\n",
    "Adding to this, both these features have over 50% missing values. If we impute mean/median or interpolate these values to fill up the missing values, the intervals will largely remain the same. Since these values show very little variation, it would be like a constant when modelling. Therefore it would just be an extra feature that will be taken into consideration. Keeping it or removing it won't matter since there is very little variation.\n",
    "\n",
    "At the same time, it can be said that there is very little variation (i.e. values lie in an interval) in these features and therefore imputing the missing values is safe"
   ]
  },
  {
   "cell_type": "code",
   "execution_count": 54,
   "metadata": {},
   "outputs": [],
   "source": [
    "#id_03 = df_i.pop('id_03')\n",
    "#id_04 = df_i.pop('id_04')"
   ]
  },
  {
   "cell_type": "markdown",
   "metadata": {},
   "source": [
    "id_05 and id_06 have only 5% missing values and we can simply impute these with the mean/median in a later phase.\n",
    "\n",
    "We are only focussed with features that have a large missing value corpus which were not previously filtered out as a further study will determine if these features are required, as can be seen with id_03 and id_04."
   ]
  },
  {
   "cell_type": "markdown",
   "metadata": {},
   "source": [
    "id_09 -> 48.05211012736336 % missing values"
   ]
  },
  {
   "cell_type": "code",
   "execution_count": 55,
   "metadata": {},
   "outputs": [
    {
     "name": "stderr",
     "output_type": "stream",
     "text": [
      "C:\\Users\\leobu\\anaconda3\\lib\\site-packages\\seaborn\\distributions.py:369: UserWarning: Default bandwidth for data is 0; skipping density estimation.\n",
      "  warnings.warn(msg, UserWarning)\n"
     ]
    },
    {
     "data": {
      "text/plain": [
       "<matplotlib.axes._subplots.AxesSubplot at 0x222b4355bb0>"
      ]
     },
     "execution_count": 55,
     "metadata": {},
     "output_type": "execute_result"
    },
    {
     "data": {
      "image/png": "[encoded data removed]",
      "text/plain": [
       "<Figure size 864x576 with 1 Axes>"
      ]
     },
     "metadata": {
      "needs_background": "light"
     },
     "output_type": "display_data"
    }
   ],
   "source": [
    "fig, ax = mplt.subplots(figsize=(12,8))\n",
    "sn.distplot(df_i.id_09)"
   ]
  },
  {
   "cell_type": "code",
   "execution_count": 56,
   "metadata": {},
   "outputs": [
    {
     "data": {
      "text/plain": [
       "(-5.5, 9.75]         74625\n",
       "(-20.75, -5.5]         246\n",
       "(9.75, 25.0]            36\n",
       "(-36.062, -20.75]       19\n",
       "Name: id_09, dtype: int64"
      ]
     },
     "execution_count": 56,
     "metadata": {},
     "output_type": "execute_result"
    }
   ],
   "source": [
    "df_i['id_09'].value_counts(bins=4)"
   ]
  },
  {
   "cell_type": "markdown",
   "metadata": {},
   "source": [
    "id_10 -> 48.05211012736336 % missing values"
   ]
  },
  {
   "cell_type": "code",
   "execution_count": 57,
   "metadata": {},
   "outputs": [
    {
     "name": "stderr",
     "output_type": "stream",
     "text": [
      "C:\\Users\\leobu\\anaconda3\\lib\\site-packages\\seaborn\\distributions.py:369: UserWarning: Default bandwidth for data is 0; skipping density estimation.\n",
      "  warnings.warn(msg, UserWarning)\n"
     ]
    },
    {
     "data": {
      "text/plain": [
       "<matplotlib.axes._subplots.AxesSubplot at 0x222b3fc3dc0>"
      ]
     },
     "execution_count": 57,
     "metadata": {},
     "output_type": "execute_result"
    },
    {
     "data": {
      "image/png": "[encoded data removed]",
      "text/plain": [
       "<Figure size 864x576 with 1 Axes>"
      ]
     },
     "metadata": {
      "needs_background": "light"
     },
     "output_type": "display_data"
    }
   ],
   "source": [
    "fig, ax = mplt.subplots(figsize=(12,8))\n",
    "sn.distplot(df_i.id_10)"
   ]
  },
  {
   "cell_type": "code",
   "execution_count": 58,
   "metadata": {},
   "outputs": [
    {
     "data": {
      "text/plain": [
       "(-25.0, 0.0]         74743\n",
       "(-50.0, -25.0]         137\n",
       "(-75.0, -50.0]          26\n",
       "(-100.101, -75.0]       20\n",
       "Name: id_10, dtype: int64"
      ]
     },
     "execution_count": 58,
     "metadata": {},
     "output_type": "execute_result"
    }
   ],
   "source": [
    "df_i['id_10'].value_counts(bins=4)"
   ]
  },
  {
   "cell_type": "markdown",
   "metadata": {},
   "source": [
    "We see the same trend with id_09 and id_10. "
   ]
  },
  {
   "cell_type": "code",
   "execution_count": 59,
   "metadata": {},
   "outputs": [],
   "source": [
    "#id_09 = df_i.pop('id_09')\n",
    "#id_10 = df_i.pop('id_10')"
   ]
  },
  {
   "cell_type": "markdown",
   "metadata": {},
   "source": [
    "id_32 -> 46.2078719849133 % (numerical)"
   ]
  },
  {
   "cell_type": "code",
   "execution_count": 60,
   "metadata": {},
   "outputs": [
    {
     "data": {
      "image/png": "[encoded data removed]",
      "text/plain": [
       "<Figure size 864x576 with 1 Axes>"
      ]
     },
     "metadata": {
      "needs_background": "light"
     },
     "output_type": "display_data"
    }
   ],
   "source": [
    "mplt.figure(figsize=(12,8))\n",
    "df_i.boxplot('id_32')\n",
    "mplt.show()"
   ]
  },
  {
   "cell_type": "code",
   "execution_count": 61,
   "metadata": {},
   "outputs": [
    {
     "data": {
      "text/plain": [
       "<matplotlib.axes._subplots.AxesSubplot at 0x222b3da6df0>"
      ]
     },
     "execution_count": 61,
     "metadata": {},
     "output_type": "execute_result"
    },
    {
     "data": {
      "image/png": "[encoded data removed]",
      "text/plain": [
       "<Figure size 864x576 with 1 Axes>"
      ]
     },
     "metadata": {
      "needs_background": "light"
     },
     "output_type": "display_data"
    }
   ],
   "source": [
    "fig, ax = mplt.subplots(figsize=(12,8))\n",
    "sn.distplot(df_i.id_32)"
   ]
  },
  {
   "cell_type": "code",
   "execution_count": 62,
   "metadata": {},
   "outputs": [
    {
     "data": {
      "text/plain": [
       "(16.0, 24.0]     53071\n",
       "(24.0, 32.0]     24428\n",
       "(8.0, 16.0]         81\n",
       "(-0.033, 8.0]        6\n",
       "Name: id_32, dtype: int64"
      ]
     },
     "execution_count": 62,
     "metadata": {},
     "output_type": "execute_result"
    }
   ],
   "source": [
    "df_i['id_32'].value_counts(bins=4)"
   ]
  },
  {
   "cell_type": "code",
   "execution_count": 63,
   "metadata": {},
   "outputs": [
    {
     "data": {
      "text/plain": [
       "16"
      ]
     },
     "execution_count": 63,
     "metadata": {},
     "output_type": "execute_result"
    }
   ],
   "source": [
    "# we have dropped the following number of features from the identity table \n",
    "len(drop_identity)"
   ]
  },
  {
   "cell_type": "markdown",
   "metadata": {},
   "source": [
    "the values of id_32 lie within [ 16.0 , 32.0 ]\n",
    "\n"
   ]
  },
  {
   "cell_type": "markdown",
   "metadata": {},
   "source": [
    "# *TRANSACTION TABLE*"
   ]
  },
  {
   "cell_type": "code",
   "execution_count": 64,
   "metadata": {},
   "outputs": [
    {
     "data": {
      "text/plain": [
       "(590540, 394)"
      ]
     },
     "execution_count": 64,
     "metadata": {},
     "output_type": "execute_result"
    }
   ],
   "source": [
    "df_t = pd.read_csv(\"train_transaction.csv\")\n",
    "\n",
    "df_t.shape"
   ]
  },
  {
   "cell_type": "code",
   "execution_count": 65,
   "metadata": {},
   "outputs": [
    {
     "name": "stdout",
     "output_type": "stream",
     "text": [
      "<class 'pandas.core.frame.DataFrame'>\n",
      "RangeIndex: 590540 entries, 0 to 590539\n",
      "Columns: 394 entries, TransactionID to V339\n",
      "dtypes: float64(376), int64(4), object(14)\n",
      "memory usage: 1.7+ GB\n"
     ]
    }
   ],
   "source": [
    "df_t.info()"
   ]
  },
  {
   "cell_type": "code",
   "execution_count": 66,
   "metadata": {},
   "outputs": [
    {
     "data": {
      "text/plain": [
       "Index(['TransactionID', 'isFraud', 'TransactionDT', 'TransactionAmt',\n",
       "       'ProductCD', 'card1', 'card2', 'card3', 'card4', 'card5',\n",
       "       ...\n",
       "       'V330', 'V331', 'V332', 'V333', 'V334', 'V335', 'V336', 'V337', 'V338',\n",
       "       'V339'],\n",
       "      dtype='object', length=394)"
      ]
     },
     "execution_count": 66,
     "metadata": {},
     "output_type": "execute_result"
    }
   ],
   "source": [
    "df_t.columns"
   ]
  },
  {
   "cell_type": "code",
   "execution_count": 67,
   "metadata": {},
   "outputs": [
    {
     "data": {
      "text/html": [
       "<div>\n",
       "<style scoped>\n",
       "    .dataframe tbody tr th:only-of-type {\n",
       "        vertical-align: middle;\n",
       "    }\n",
       "\n",
       "    .dataframe tbody tr th {\n",
       "        vertical-align: top;\n",
       "    }\n",
       "\n",
       "    .dataframe thead th {\n",
       "        text-align: right;\n",
       "    }\n",
       "</style>\n",
       "<table border=\"1\" class=\"dataframe\">\n",
       "  <thead>\n",
       "    <tr style=\"text-align: right;\">\n",
       "      <th></th>\n",
       "      <th>TransactionID</th>\n",
       "      <th>isFraud</th>\n",
       "      <th>TransactionDT</th>\n",
       "      <th>TransactionAmt</th>\n",
       "      <th>card1</th>\n",
       "      <th>card2</th>\n",
       "      <th>card3</th>\n",
       "      <th>card5</th>\n",
       "      <th>addr1</th>\n",
       "      <th>addr2</th>\n",
       "      <th>dist1</th>\n",
       "      <th>dist2</th>\n",
       "      <th>C1</th>\n",
       "      <th>C2</th>\n",
       "      <th>C3</th>\n",
       "      <th>C4</th>\n",
       "      <th>C5</th>\n",
       "      <th>C6</th>\n",
       "      <th>C7</th>\n",
       "      <th>C8</th>\n",
       "      <th>C9</th>\n",
       "      <th>C10</th>\n",
       "      <th>C11</th>\n",
       "      <th>C12</th>\n",
       "      <th>C13</th>\n",
       "      <th>...</th>\n",
       "      <th>V315</th>\n",
       "      <th>V316</th>\n",
       "      <th>V317</th>\n",
       "      <th>V318</th>\n",
       "      <th>V319</th>\n",
       "      <th>V320</th>\n",
       "      <th>V321</th>\n",
       "      <th>V322</th>\n",
       "      <th>V323</th>\n",
       "      <th>V324</th>\n",
       "      <th>V325</th>\n",
       "      <th>V326</th>\n",
       "      <th>V327</th>\n",
       "      <th>V328</th>\n",
       "      <th>V329</th>\n",
       "      <th>V330</th>\n",
       "      <th>V331</th>\n",
       "      <th>V332</th>\n",
       "      <th>V333</th>\n",
       "      <th>V334</th>\n",
       "      <th>V335</th>\n",
       "      <th>V336</th>\n",
       "      <th>V337</th>\n",
       "      <th>V338</th>\n",
       "      <th>V339</th>\n",
       "    </tr>\n",
       "  </thead>\n",
       "  <tbody>\n",
       "    <tr>\n",
       "      <th>count</th>\n",
       "      <td>5.905400e+05</td>\n",
       "      <td>590540.000000</td>\n",
       "      <td>5.905400e+05</td>\n",
       "      <td>590540.000000</td>\n",
       "      <td>590540.000000</td>\n",
       "      <td>581607.000000</td>\n",
       "      <td>588975.000000</td>\n",
       "      <td>586281.000000</td>\n",
       "      <td>524834.000000</td>\n",
       "      <td>524834.000000</td>\n",
       "      <td>238269.000000</td>\n",
       "      <td>37627.000000</td>\n",
       "      <td>590540.000000</td>\n",
       "      <td>590540.000000</td>\n",
       "      <td>590540.000000</td>\n",
       "      <td>590540.000000</td>\n",
       "      <td>590540.000000</td>\n",
       "      <td>590540.000000</td>\n",
       "      <td>590540.000000</td>\n",
       "      <td>590540.000000</td>\n",
       "      <td>590540.000000</td>\n",
       "      <td>590540.000000</td>\n",
       "      <td>590540.000000</td>\n",
       "      <td>590540.000000</td>\n",
       "      <td>590540.000000</td>\n",
       "      <td>...</td>\n",
       "      <td>589271.000000</td>\n",
       "      <td>590528.000000</td>\n",
       "      <td>590528.000000</td>\n",
       "      <td>590528.000000</td>\n",
       "      <td>590528.000000</td>\n",
       "      <td>590528.000000</td>\n",
       "      <td>590528.000000</td>\n",
       "      <td>82351.000000</td>\n",
       "      <td>82351.000000</td>\n",
       "      <td>82351.000000</td>\n",
       "      <td>82351.000000</td>\n",
       "      <td>82351.000000</td>\n",
       "      <td>82351.000000</td>\n",
       "      <td>82351.000000</td>\n",
       "      <td>82351.000000</td>\n",
       "      <td>82351.000000</td>\n",
       "      <td>82351.000000</td>\n",
       "      <td>82351.000000</td>\n",
       "      <td>82351.000000</td>\n",
       "      <td>82351.000000</td>\n",
       "      <td>82351.00000</td>\n",
       "      <td>82351.000000</td>\n",
       "      <td>82351.000000</td>\n",
       "      <td>82351.000000</td>\n",
       "      <td>82351.000000</td>\n",
       "    </tr>\n",
       "    <tr>\n",
       "      <th>mean</th>\n",
       "      <td>3.282270e+06</td>\n",
       "      <td>0.034990</td>\n",
       "      <td>7.372311e+06</td>\n",
       "      <td>135.027176</td>\n",
       "      <td>9898.734658</td>\n",
       "      <td>362.555488</td>\n",
       "      <td>153.194925</td>\n",
       "      <td>199.278897</td>\n",
       "      <td>290.733794</td>\n",
       "      <td>86.800630</td>\n",
       "      <td>118.502180</td>\n",
       "      <td>231.855423</td>\n",
       "      <td>14.092458</td>\n",
       "      <td>15.269734</td>\n",
       "      <td>0.005644</td>\n",
       "      <td>4.092185</td>\n",
       "      <td>5.571526</td>\n",
       "      <td>9.071082</td>\n",
       "      <td>2.848478</td>\n",
       "      <td>5.144574</td>\n",
       "      <td>4.480240</td>\n",
       "      <td>5.240343</td>\n",
       "      <td>10.241521</td>\n",
       "      <td>4.076227</td>\n",
       "      <td>32.539918</td>\n",
       "      <td>...</td>\n",
       "      <td>26.806977</td>\n",
       "      <td>109.818544</td>\n",
       "      <td>247.606741</td>\n",
       "      <td>162.153398</td>\n",
       "      <td>18.372476</td>\n",
       "      <td>42.073133</td>\n",
       "      <td>28.326584</td>\n",
       "      <td>6.220289</td>\n",
       "      <td>13.103775</td>\n",
       "      <td>9.184612</td>\n",
       "      <td>0.058494</td>\n",
       "      <td>0.851040</td>\n",
       "      <td>0.296633</td>\n",
       "      <td>0.336790</td>\n",
       "      <td>1.312844</td>\n",
       "      <td>0.775874</td>\n",
       "      <td>721.741883</td>\n",
       "      <td>1375.783644</td>\n",
       "      <td>1014.622782</td>\n",
       "      <td>9.807015</td>\n",
       "      <td>59.16455</td>\n",
       "      <td>28.530903</td>\n",
       "      <td>55.352422</td>\n",
       "      <td>151.160542</td>\n",
       "      <td>100.700882</td>\n",
       "    </tr>\n",
       "    <tr>\n",
       "      <th>std</th>\n",
       "      <td>1.704744e+05</td>\n",
       "      <td>0.183755</td>\n",
       "      <td>4.617224e+06</td>\n",
       "      <td>239.162522</td>\n",
       "      <td>4901.170153</td>\n",
       "      <td>157.793246</td>\n",
       "      <td>11.336444</td>\n",
       "      <td>41.244453</td>\n",
       "      <td>101.741072</td>\n",
       "      <td>2.690623</td>\n",
       "      <td>371.872026</td>\n",
       "      <td>529.053494</td>\n",
       "      <td>133.569018</td>\n",
       "      <td>154.668899</td>\n",
       "      <td>0.150536</td>\n",
       "      <td>68.848459</td>\n",
       "      <td>25.786976</td>\n",
       "      <td>71.508467</td>\n",
       "      <td>61.727304</td>\n",
       "      <td>95.378574</td>\n",
       "      <td>16.674897</td>\n",
       "      <td>95.581443</td>\n",
       "      <td>94.336292</td>\n",
       "      <td>86.666218</td>\n",
       "      <td>129.364844</td>\n",
       "      <td>...</td>\n",
       "      <td>116.853222</td>\n",
       "      <td>2270.033202</td>\n",
       "      <td>3980.042828</td>\n",
       "      <td>2793.343636</td>\n",
       "      <td>332.304848</td>\n",
       "      <td>473.499307</td>\n",
       "      <td>382.053171</td>\n",
       "      <td>56.022561</td>\n",
       "      <td>106.739813</td>\n",
       "      <td>73.627893</td>\n",
       "      <td>0.304415</td>\n",
       "      <td>3.950295</td>\n",
       "      <td>1.364356</td>\n",
       "      <td>1.580144</td>\n",
       "      <td>8.769083</td>\n",
       "      <td>4.727971</td>\n",
       "      <td>6217.223583</td>\n",
       "      <td>11169.275702</td>\n",
       "      <td>7955.735482</td>\n",
       "      <td>243.861391</td>\n",
       "      <td>387.62948</td>\n",
       "      <td>274.576920</td>\n",
       "      <td>668.486833</td>\n",
       "      <td>1095.034387</td>\n",
       "      <td>814.946722</td>\n",
       "    </tr>\n",
       "    <tr>\n",
       "      <th>min</th>\n",
       "      <td>2.987000e+06</td>\n",
       "      <td>0.000000</td>\n",
       "      <td>8.640000e+04</td>\n",
       "      <td>0.251000</td>\n",
       "      <td>1000.000000</td>\n",
       "      <td>100.000000</td>\n",
       "      <td>100.000000</td>\n",
       "      <td>100.000000</td>\n",
       "      <td>100.000000</td>\n",
       "      <td>10.000000</td>\n",
       "      <td>0.000000</td>\n",
       "      <td>0.000000</td>\n",
       "      <td>0.000000</td>\n",
       "      <td>0.000000</td>\n",
       "      <td>0.000000</td>\n",
       "      <td>0.000000</td>\n",
       "      <td>0.000000</td>\n",
       "      <td>0.000000</td>\n",
       "      <td>0.000000</td>\n",
       "      <td>0.000000</td>\n",
       "      <td>0.000000</td>\n",
       "      <td>0.000000</td>\n",
       "      <td>0.000000</td>\n",
       "      <td>0.000000</td>\n",
       "      <td>0.000000</td>\n",
       "      <td>...</td>\n",
       "      <td>0.000000</td>\n",
       "      <td>0.000000</td>\n",
       "      <td>0.000000</td>\n",
       "      <td>0.000000</td>\n",
       "      <td>0.000000</td>\n",
       "      <td>0.000000</td>\n",
       "      <td>0.000000</td>\n",
       "      <td>0.000000</td>\n",
       "      <td>0.000000</td>\n",
       "      <td>0.000000</td>\n",
       "      <td>0.000000</td>\n",
       "      <td>0.000000</td>\n",
       "      <td>0.000000</td>\n",
       "      <td>0.000000</td>\n",
       "      <td>0.000000</td>\n",
       "      <td>0.000000</td>\n",
       "      <td>0.000000</td>\n",
       "      <td>0.000000</td>\n",
       "      <td>0.000000</td>\n",
       "      <td>0.000000</td>\n",
       "      <td>0.00000</td>\n",
       "      <td>0.000000</td>\n",
       "      <td>0.000000</td>\n",
       "      <td>0.000000</td>\n",
       "      <td>0.000000</td>\n",
       "    </tr>\n",
       "    <tr>\n",
       "      <th>25%</th>\n",
       "      <td>3.134635e+06</td>\n",
       "      <td>0.000000</td>\n",
       "      <td>3.027058e+06</td>\n",
       "      <td>43.321000</td>\n",
       "      <td>6019.000000</td>\n",
       "      <td>214.000000</td>\n",
       "      <td>150.000000</td>\n",
       "      <td>166.000000</td>\n",
       "      <td>204.000000</td>\n",
       "      <td>87.000000</td>\n",
       "      <td>3.000000</td>\n",
       "      <td>7.000000</td>\n",
       "      <td>1.000000</td>\n",
       "      <td>1.000000</td>\n",
       "      <td>0.000000</td>\n",
       "      <td>0.000000</td>\n",
       "      <td>0.000000</td>\n",
       "      <td>1.000000</td>\n",
       "      <td>0.000000</td>\n",
       "      <td>0.000000</td>\n",
       "      <td>0.000000</td>\n",
       "      <td>0.000000</td>\n",
       "      <td>1.000000</td>\n",
       "      <td>0.000000</td>\n",
       "      <td>1.000000</td>\n",
       "      <td>...</td>\n",
       "      <td>0.000000</td>\n",
       "      <td>0.000000</td>\n",
       "      <td>0.000000</td>\n",
       "      <td>0.000000</td>\n",
       "      <td>0.000000</td>\n",
       "      <td>0.000000</td>\n",
       "      <td>0.000000</td>\n",
       "      <td>0.000000</td>\n",
       "      <td>0.000000</td>\n",
       "      <td>0.000000</td>\n",
       "      <td>0.000000</td>\n",
       "      <td>0.000000</td>\n",
       "      <td>0.000000</td>\n",
       "      <td>0.000000</td>\n",
       "      <td>0.000000</td>\n",
       "      <td>0.000000</td>\n",
       "      <td>0.000000</td>\n",
       "      <td>0.000000</td>\n",
       "      <td>0.000000</td>\n",
       "      <td>0.000000</td>\n",
       "      <td>0.00000</td>\n",
       "      <td>0.000000</td>\n",
       "      <td>0.000000</td>\n",
       "      <td>0.000000</td>\n",
       "      <td>0.000000</td>\n",
       "    </tr>\n",
       "    <tr>\n",
       "      <th>50%</th>\n",
       "      <td>3.282270e+06</td>\n",
       "      <td>0.000000</td>\n",
       "      <td>7.306528e+06</td>\n",
       "      <td>68.769000</td>\n",
       "      <td>9678.000000</td>\n",
       "      <td>361.000000</td>\n",
       "      <td>150.000000</td>\n",
       "      <td>226.000000</td>\n",
       "      <td>299.000000</td>\n",
       "      <td>87.000000</td>\n",
       "      <td>8.000000</td>\n",
       "      <td>37.000000</td>\n",
       "      <td>1.000000</td>\n",
       "      <td>1.000000</td>\n",
       "      <td>0.000000</td>\n",
       "      <td>0.000000</td>\n",
       "      <td>0.000000</td>\n",
       "      <td>1.000000</td>\n",
       "      <td>0.000000</td>\n",
       "      <td>0.000000</td>\n",
       "      <td>1.000000</td>\n",
       "      <td>0.000000</td>\n",
       "      <td>1.000000</td>\n",
       "      <td>0.000000</td>\n",
       "      <td>3.000000</td>\n",
       "      <td>...</td>\n",
       "      <td>0.000000</td>\n",
       "      <td>0.000000</td>\n",
       "      <td>0.000000</td>\n",
       "      <td>0.000000</td>\n",
       "      <td>0.000000</td>\n",
       "      <td>0.000000</td>\n",
       "      <td>0.000000</td>\n",
       "      <td>0.000000</td>\n",
       "      <td>0.000000</td>\n",
       "      <td>0.000000</td>\n",
       "      <td>0.000000</td>\n",
       "      <td>0.000000</td>\n",
       "      <td>0.000000</td>\n",
       "      <td>0.000000</td>\n",
       "      <td>0.000000</td>\n",
       "      <td>0.000000</td>\n",
       "      <td>0.000000</td>\n",
       "      <td>0.000000</td>\n",
       "      <td>0.000000</td>\n",
       "      <td>0.000000</td>\n",
       "      <td>0.00000</td>\n",
       "      <td>0.000000</td>\n",
       "      <td>0.000000</td>\n",
       "      <td>0.000000</td>\n",
       "      <td>0.000000</td>\n",
       "    </tr>\n",
       "    <tr>\n",
       "      <th>75%</th>\n",
       "      <td>3.429904e+06</td>\n",
       "      <td>0.000000</td>\n",
       "      <td>1.124662e+07</td>\n",
       "      <td>125.000000</td>\n",
       "      <td>14184.000000</td>\n",
       "      <td>512.000000</td>\n",
       "      <td>150.000000</td>\n",
       "      <td>226.000000</td>\n",
       "      <td>330.000000</td>\n",
       "      <td>87.000000</td>\n",
       "      <td>24.000000</td>\n",
       "      <td>206.000000</td>\n",
       "      <td>3.000000</td>\n",
       "      <td>3.000000</td>\n",
       "      <td>0.000000</td>\n",
       "      <td>0.000000</td>\n",
       "      <td>1.000000</td>\n",
       "      <td>2.000000</td>\n",
       "      <td>0.000000</td>\n",
       "      <td>0.000000</td>\n",
       "      <td>2.000000</td>\n",
       "      <td>0.000000</td>\n",
       "      <td>2.000000</td>\n",
       "      <td>0.000000</td>\n",
       "      <td>12.000000</td>\n",
       "      <td>...</td>\n",
       "      <td>0.000000</td>\n",
       "      <td>0.000000</td>\n",
       "      <td>0.000000</td>\n",
       "      <td>0.000000</td>\n",
       "      <td>0.000000</td>\n",
       "      <td>0.000000</td>\n",
       "      <td>0.000000</td>\n",
       "      <td>0.000000</td>\n",
       "      <td>1.000000</td>\n",
       "      <td>0.000000</td>\n",
       "      <td>0.000000</td>\n",
       "      <td>0.000000</td>\n",
       "      <td>0.000000</td>\n",
       "      <td>0.000000</td>\n",
       "      <td>0.000000</td>\n",
       "      <td>0.000000</td>\n",
       "      <td>0.000000</td>\n",
       "      <td>25.000000</td>\n",
       "      <td>0.000000</td>\n",
       "      <td>0.000000</td>\n",
       "      <td>0.00000</td>\n",
       "      <td>0.000000</td>\n",
       "      <td>0.000000</td>\n",
       "      <td>0.000000</td>\n",
       "      <td>0.000000</td>\n",
       "    </tr>\n",
       "    <tr>\n",
       "      <th>max</th>\n",
       "      <td>3.577539e+06</td>\n",
       "      <td>1.000000</td>\n",
       "      <td>1.581113e+07</td>\n",
       "      <td>31937.391000</td>\n",
       "      <td>18396.000000</td>\n",
       "      <td>600.000000</td>\n",
       "      <td>231.000000</td>\n",
       "      <td>237.000000</td>\n",
       "      <td>540.000000</td>\n",
       "      <td>102.000000</td>\n",
       "      <td>10286.000000</td>\n",
       "      <td>11623.000000</td>\n",
       "      <td>4685.000000</td>\n",
       "      <td>5691.000000</td>\n",
       "      <td>26.000000</td>\n",
       "      <td>2253.000000</td>\n",
       "      <td>349.000000</td>\n",
       "      <td>2253.000000</td>\n",
       "      <td>2255.000000</td>\n",
       "      <td>3331.000000</td>\n",
       "      <td>210.000000</td>\n",
       "      <td>3257.000000</td>\n",
       "      <td>3188.000000</td>\n",
       "      <td>3188.000000</td>\n",
       "      <td>2918.000000</td>\n",
       "      <td>...</td>\n",
       "      <td>4817.470215</td>\n",
       "      <td>93736.000000</td>\n",
       "      <td>134021.000000</td>\n",
       "      <td>98476.000000</td>\n",
       "      <td>104060.000000</td>\n",
       "      <td>104060.000000</td>\n",
       "      <td>104060.000000</td>\n",
       "      <td>880.000000</td>\n",
       "      <td>1411.000000</td>\n",
       "      <td>976.000000</td>\n",
       "      <td>12.000000</td>\n",
       "      <td>44.000000</td>\n",
       "      <td>18.000000</td>\n",
       "      <td>15.000000</td>\n",
       "      <td>99.000000</td>\n",
       "      <td>55.000000</td>\n",
       "      <td>160000.000000</td>\n",
       "      <td>160000.000000</td>\n",
       "      <td>160000.000000</td>\n",
       "      <td>55125.000000</td>\n",
       "      <td>55125.00000</td>\n",
       "      <td>55125.000000</td>\n",
       "      <td>104060.000000</td>\n",
       "      <td>104060.000000</td>\n",
       "      <td>104060.000000</td>\n",
       "    </tr>\n",
       "  </tbody>\n",
       "</table>\n",
       "<p>8 rows × 380 columns</p>\n",
       "</div>"
      ],
      "text/plain": [
       "       TransactionID        isFraud  TransactionDT  TransactionAmt  \\\n",
       "count   5.905400e+05  590540.000000   5.905400e+05   590540.000000   \n",
       "mean    3.282270e+06       0.034990   7.372311e+06      135.027176   \n",
       "std     1.704744e+05       0.183755   4.617224e+06      239.162522   \n",
       "min     2.987000e+06       0.000000   8.640000e+04        0.251000   \n",
       "25%     3.134635e+06       0.000000   3.027058e+06       43.321000   \n",
       "50%     3.282270e+06       0.000000   7.306528e+06       68.769000   \n",
       "75%     3.429904e+06       0.000000   1.124662e+07      125.000000   \n",
       "max     3.577539e+06       1.000000   1.581113e+07    31937.391000   \n",
       "\n",
       "               card1          card2          card3          card5  \\\n",
       "count  590540.000000  581607.000000  588975.000000  586281.000000   \n",
       "mean     9898.734658     362.555488     153.194925     199.278897   \n",
       "std      4901.170153     157.793246      11.336444      41.244453   \n",
       "min      1000.000000     100.000000     100.000000     100.000000   \n",
       "25%      6019.000000     214.000000     150.000000     166.000000   \n",
       "50%      9678.000000     361.000000     150.000000     226.000000   \n",
       "75%     14184.000000     512.000000     150.000000     226.000000   \n",
       "max     18396.000000     600.000000     231.000000     237.000000   \n",
       "\n",
       "               addr1          addr2          dist1         dist2  \\\n",
       "count  524834.000000  524834.000000  238269.000000  37627.000000   \n",
       "mean      290.733794      86.800630     118.502180    231.855423   \n",
       "std       101.741072       2.690623     371.872026    529.053494   \n",
       "min       100.000000      10.000000       0.000000      0.000000   \n",
       "25%       204.000000      87.000000       3.000000      7.000000   \n",
       "50%       299.000000      87.000000       8.000000     37.000000   \n",
       "75%       330.000000      87.000000      24.000000    206.000000   \n",
       "max       540.000000     102.000000   10286.000000  11623.000000   \n",
       "\n",
       "                  C1             C2             C3             C4  \\\n",
       "count  590540.000000  590540.000000  590540.000000  590540.000000   \n",
       "mean       14.092458      15.269734       0.005644       4.092185   \n",
       "std       133.569018     154.668899       0.150536      68.848459   \n",
       "min         0.000000       0.000000       0.000000       0.000000   \n",
       "25%         1.000000       1.000000       0.000000       0.000000   \n",
       "50%         1.000000       1.000000       0.000000       0.000000   \n",
       "75%         3.000000       3.000000       0.000000       0.000000   \n",
       "max      4685.000000    5691.000000      26.000000    2253.000000   \n",
       "\n",
       "                  C5             C6             C7             C8  \\\n",
       "count  590540.000000  590540.000000  590540.000000  590540.000000   \n",
       "mean        5.571526       9.071082       2.848478       5.144574   \n",
       "std        25.786976      71.508467      61.727304      95.378574   \n",
       "min         0.000000       0.000000       0.000000       0.000000   \n",
       "25%         0.000000       1.000000       0.000000       0.000000   \n",
       "50%         0.000000       1.000000       0.000000       0.000000   \n",
       "75%         1.000000       2.000000       0.000000       0.000000   \n",
       "max       349.000000    2253.000000    2255.000000    3331.000000   \n",
       "\n",
       "                  C9            C10            C11            C12  \\\n",
       "count  590540.000000  590540.000000  590540.000000  590540.000000   \n",
       "mean        4.480240       5.240343      10.241521       4.076227   \n",
       "std        16.674897      95.581443      94.336292      86.666218   \n",
       "min         0.000000       0.000000       0.000000       0.000000   \n",
       "25%         0.000000       0.000000       1.000000       0.000000   \n",
       "50%         1.000000       0.000000       1.000000       0.000000   \n",
       "75%         2.000000       0.000000       2.000000       0.000000   \n",
       "max       210.000000    3257.000000    3188.000000    3188.000000   \n",
       "\n",
       "                 C13  ...           V315           V316           V317  \\\n",
       "count  590540.000000  ...  589271.000000  590528.000000  590528.000000   \n",
       "mean       32.539918  ...      26.806977     109.818544     247.606741   \n",
       "std       129.364844  ...     116.853222    2270.033202    3980.042828   \n",
       "min         0.000000  ...       0.000000       0.000000       0.000000   \n",
       "25%         1.000000  ...       0.000000       0.000000       0.000000   \n",
       "50%         3.000000  ...       0.000000       0.000000       0.000000   \n",
       "75%        12.000000  ...       0.000000       0.000000       0.000000   \n",
       "max      2918.000000  ...    4817.470215   93736.000000  134021.000000   \n",
       "\n",
       "                V318           V319           V320           V321  \\\n",
       "count  590528.000000  590528.000000  590528.000000  590528.000000   \n",
       "mean      162.153398      18.372476      42.073133      28.326584   \n",
       "std      2793.343636     332.304848     473.499307     382.053171   \n",
       "min         0.000000       0.000000       0.000000       0.000000   \n",
       "25%         0.000000       0.000000       0.000000       0.000000   \n",
       "50%         0.000000       0.000000       0.000000       0.000000   \n",
       "75%         0.000000       0.000000       0.000000       0.000000   \n",
       "max     98476.000000  104060.000000  104060.000000  104060.000000   \n",
       "\n",
       "               V322          V323          V324          V325          V326  \\\n",
       "count  82351.000000  82351.000000  82351.000000  82351.000000  82351.000000   \n",
       "mean       6.220289     13.103775      9.184612      0.058494      0.851040   \n",
       "std       56.022561    106.739813     73.627893      0.304415      3.950295   \n",
       "min        0.000000      0.000000      0.000000      0.000000      0.000000   \n",
       "25%        0.000000      0.000000      0.000000      0.000000      0.000000   \n",
       "50%        0.000000      0.000000      0.000000      0.000000      0.000000   \n",
       "75%        0.000000      1.000000      0.000000      0.000000      0.000000   \n",
       "max      880.000000   1411.000000    976.000000     12.000000     44.000000   \n",
       "\n",
       "               V327          V328          V329          V330           V331  \\\n",
       "count  82351.000000  82351.000000  82351.000000  82351.000000   82351.000000   \n",
       "mean       0.296633      0.336790      1.312844      0.775874     721.741883   \n",
       "std        1.364356      1.580144      8.769083      4.727971    6217.223583   \n",
       "min        0.000000      0.000000      0.000000      0.000000       0.000000   \n",
       "25%        0.000000      0.000000      0.000000      0.000000       0.000000   \n",
       "50%        0.000000      0.000000      0.000000      0.000000       0.000000   \n",
       "75%        0.000000      0.000000      0.000000      0.000000       0.000000   \n",
       "max       18.000000     15.000000     99.000000     55.000000  160000.000000   \n",
       "\n",
       "                V332           V333          V334         V335          V336  \\\n",
       "count   82351.000000   82351.000000  82351.000000  82351.00000  82351.000000   \n",
       "mean     1375.783644    1014.622782      9.807015     59.16455     28.530903   \n",
       "std     11169.275702    7955.735482    243.861391    387.62948    274.576920   \n",
       "min         0.000000       0.000000      0.000000      0.00000      0.000000   \n",
       "25%         0.000000       0.000000      0.000000      0.00000      0.000000   \n",
       "50%         0.000000       0.000000      0.000000      0.00000      0.000000   \n",
       "75%        25.000000       0.000000      0.000000      0.00000      0.000000   \n",
       "max    160000.000000  160000.000000  55125.000000  55125.00000  55125.000000   \n",
       "\n",
       "                V337           V338           V339  \n",
       "count   82351.000000   82351.000000   82351.000000  \n",
       "mean       55.352422     151.160542     100.700882  \n",
       "std       668.486833    1095.034387     814.946722  \n",
       "min         0.000000       0.000000       0.000000  \n",
       "25%         0.000000       0.000000       0.000000  \n",
       "50%         0.000000       0.000000       0.000000  \n",
       "75%         0.000000       0.000000       0.000000  \n",
       "max    104060.000000  104060.000000  104060.000000  \n",
       "\n",
       "[8 rows x 380 columns]"
      ]
     },
     "execution_count": 67,
     "metadata": {},
     "output_type": "execute_result"
    }
   ],
   "source": [
    "df_t.describe()"
   ]
  },
  {
   "cell_type": "code",
   "execution_count": 68,
   "metadata": {
    "scrolled": true
   },
   "outputs": [
    {
     "name": "stdout",
     "output_type": "stream",
     "text": [
      "TransactionID -> 0.0 %\n",
      "isFraud -> 0.0 %\n",
      "TransactionDT -> 0.0 %\n",
      "TransactionAmt -> 0.0 %\n",
      "ProductCD -> 0.0 %\n",
      "card1 -> 0.0 %\n",
      "card2 -> 1.5126833068039423 %\n",
      "card3 -> 0.26501168422122123 %\n",
      "card4 -> 0.267043722694483 %\n",
      "card5 -> 0.7212043214684865 %\n",
      "card6 -> 0.26602770345785215 %\n",
      "addr1 -> 11.12642666034477 %\n",
      "addr2 -> 11.12642666034477 %\n",
      "dist1 -> 59.6523520845328 %\n",
      "dist2 -> 93.62837403054831 %\n",
      "P_emaildomain -> 15.99485216920107 %\n",
      "R_emaildomain -> 76.75161716395164 %\n",
      "C1 -> 0.0 %\n",
      "C2 -> 0.0 %\n",
      "C3 -> 0.0 %\n",
      "C4 -> 0.0 %\n",
      "C5 -> 0.0 %\n",
      "C6 -> 0.0 %\n",
      "C7 -> 0.0 %\n",
      "C8 -> 0.0 %\n",
      "C9 -> 0.0 %\n",
      "C10 -> 0.0 %\n",
      "C11 -> 0.0 %\n",
      "C12 -> 0.0 %\n",
      "C13 -> 0.0 %\n",
      "C14 -> 0.0 %\n",
      "D1 -> 0.21488806854743117 %\n",
      "D2 -> 47.54919226470688 %\n",
      "D3 -> 44.514850814508755 %\n",
      "D4 -> 28.604666915026925 %\n",
      "D5 -> 52.46740271615809 %\n",
      "D6 -> 87.60676668811597 %\n",
      "D7 -> 93.40992989467267 %\n",
      "D8 -> 87.31229044603245 %\n",
      "D9 -> 87.31229044603245 %\n",
      "D10 -> 12.873302401192129 %\n",
      "D11 -> 47.29349409015477 %\n",
      "D12 -> 89.04104717715988 %\n",
      "D13 -> 89.50926270870728 %\n",
      "D14 -> 89.46946862193924 %\n",
      "D15 -> 15.090087038981272 %\n",
      "M1 -> 45.90713584177194 %\n",
      "M2 -> 45.90713584177194 %\n",
      "M3 -> 45.90713584177194 %\n",
      "M4 -> 47.658753005723575 %\n",
      "M5 -> 59.34940901547736 %\n",
      "M6 -> 28.678836319300977 %\n",
      "M7 -> 58.63531682866529 %\n",
      "M8 -> 58.633115453652586 %\n",
      "M9 -> 58.633115453652586 %\n",
      "V1 -> 47.29349409015477 %\n",
      "V2 -> 47.29349409015477 %\n",
      "V3 -> 47.29349409015477 %\n",
      "V4 -> 47.29349409015477 %\n",
      "V5 -> 47.29349409015477 %\n",
      "V6 -> 47.29349409015477 %\n",
      "V7 -> 47.29349409015477 %\n",
      "V8 -> 47.29349409015477 %\n",
      "V9 -> 47.29349409015477 %\n",
      "V10 -> 47.29349409015477 %\n",
      "V11 -> 47.29349409015477 %\n",
      "V12 -> 12.881938564703491 %\n",
      "V13 -> 12.881938564703491 %\n",
      "V14 -> 12.881938564703491 %\n",
      "V15 -> 12.881938564703491 %\n",
      "V16 -> 12.881938564703491 %\n",
      "V17 -> 12.881938564703491 %\n",
      "V18 -> 12.881938564703491 %\n",
      "V19 -> 12.881938564703491 %\n",
      "V20 -> 12.881938564703491 %\n",
      "V21 -> 12.881938564703491 %\n",
      "V22 -> 12.881938564703491 %\n",
      "V23 -> 12.881938564703491 %\n",
      "V24 -> 12.881938564703491 %\n",
      "V25 -> 12.881938564703491 %\n",
      "V26 -> 12.881938564703491 %\n",
      "V27 -> 12.881938564703491 %\n",
      "V28 -> 12.881938564703491 %\n",
      "V29 -> 12.881938564703491 %\n",
      "V30 -> 12.881938564703491 %\n",
      "V31 -> 12.881938564703491 %\n",
      "V32 -> 12.881938564703491 %\n",
      "V33 -> 12.881938564703491 %\n",
      "V34 -> 12.881938564703491 %\n",
      "V35 -> 28.612625732380533 %\n",
      "V36 -> 28.612625732380533 %\n",
      "V37 -> 28.612625732380533 %\n",
      "V38 -> 28.612625732380533 %\n",
      "V39 -> 28.612625732380533 %\n",
      "V40 -> 28.612625732380533 %\n",
      "V41 -> 28.612625732380533 %\n",
      "V42 -> 28.612625732380533 %\n",
      "V43 -> 28.612625732380533 %\n",
      "V44 -> 28.612625732380533 %\n",
      "V45 -> 28.612625732380533 %\n",
      "V46 -> 28.612625732380533 %\n",
      "V47 -> 28.612625732380533 %\n",
      "V48 -> 28.612625732380533 %\n",
      "V49 -> 28.612625732380533 %\n",
      "V50 -> 28.612625732380533 %\n",
      "V51 -> 28.612625732380533 %\n",
      "V52 -> 28.612625732380533 %\n",
      "V53 -> 13.055169844549058 %\n",
      "V54 -> 13.055169844549058 %\n",
      "V55 -> 13.055169844549058 %\n",
      "V56 -> 13.055169844549058 %\n",
      "V57 -> 13.055169844549058 %\n",
      "V58 -> 13.055169844549058 %\n",
      "V59 -> 13.055169844549058 %\n",
      "V60 -> 13.055169844549058 %\n",
      "V61 -> 13.055169844549058 %\n",
      "V62 -> 13.055169844549058 %\n",
      "V63 -> 13.055169844549058 %\n",
      "V64 -> 13.055169844549058 %\n",
      "V65 -> 13.055169844549058 %\n",
      "V66 -> 13.055169844549058 %\n",
      "V67 -> 13.055169844549058 %\n",
      "V68 -> 13.055169844549058 %\n",
      "V69 -> 13.055169844549058 %\n",
      "V70 -> 13.055169844549058 %\n",
      "V71 -> 13.055169844549058 %\n",
      "V72 -> 13.055169844549058 %\n",
      "V73 -> 13.055169844549058 %\n",
      "V74 -> 13.055169844549058 %\n",
      "V75 -> 15.098723202492634 %\n",
      "V76 -> 15.098723202492634 %\n",
      "V77 -> 15.098723202492634 %\n",
      "V78 -> 15.098723202492634 %\n",
      "V79 -> 15.098723202492634 %\n",
      "V80 -> 15.098723202492634 %\n",
      "V81 -> 15.098723202492634 %\n",
      "V82 -> 15.098723202492634 %\n",
      "V83 -> 15.098723202492634 %\n",
      "V84 -> 15.098723202492634 %\n",
      "V85 -> 15.098723202492634 %\n",
      "V86 -> 15.098723202492634 %\n",
      "V87 -> 15.098723202492634 %\n",
      "V88 -> 15.098723202492634 %\n",
      "V89 -> 15.098723202492634 %\n",
      "V90 -> 15.098723202492634 %\n",
      "V91 -> 15.098723202492634 %\n",
      "V92 -> 15.098723202492634 %\n",
      "V93 -> 15.098723202492634 %\n",
      "V94 -> 15.098723202492634 %\n",
      "V95 -> 0.053171673383682734 %\n",
      "V96 -> 0.053171673383682734 %\n",
      "V97 -> 0.053171673383682734 %\n",
      "V98 -> 0.053171673383682734 %\n",
      "V99 -> 0.053171673383682734 %\n",
      "V100 -> 0.053171673383682734 %\n",
      "V101 -> 0.053171673383682734 %\n",
      "V102 -> 0.053171673383682734 %\n",
      "V103 -> 0.053171673383682734 %\n",
      "V104 -> 0.053171673383682734 %\n",
      "V105 -> 0.053171673383682734 %\n",
      "V106 -> 0.053171673383682734 %\n",
      "V107 -> 0.053171673383682734 %\n",
      "V108 -> 0.053171673383682734 %\n",
      "V109 -> 0.053171673383682734 %\n",
      "V110 -> 0.053171673383682734 %\n",
      "V111 -> 0.053171673383682734 %\n",
      "V112 -> 0.053171673383682734 %\n",
      "V113 -> 0.053171673383682734 %\n",
      "V114 -> 0.053171673383682734 %\n",
      "V115 -> 0.053171673383682734 %\n",
      "V116 -> 0.053171673383682734 %\n",
      "V117 -> 0.053171673383682734 %\n",
      "V118 -> 0.053171673383682734 %\n",
      "V119 -> 0.053171673383682734 %\n",
      "V120 -> 0.053171673383682734 %\n",
      "V121 -> 0.053171673383682734 %\n",
      "V122 -> 0.053171673383682734 %\n",
      "V123 -> 0.053171673383682734 %\n",
      "V124 -> 0.053171673383682734 %\n",
      "V125 -> 0.053171673383682734 %\n",
      "V126 -> 0.053171673383682734 %\n",
      "V127 -> 0.053171673383682734 %\n",
      "V128 -> 0.053171673383682734 %\n",
      "V129 -> 0.053171673383682734 %\n",
      "V130 -> 0.053171673383682734 %\n",
      "V131 -> 0.053171673383682734 %\n",
      "V132 -> 0.053171673383682734 %\n",
      "V133 -> 0.053171673383682734 %\n",
      "V134 -> 0.053171673383682734 %\n",
      "V135 -> 0.053171673383682734 %\n",
      "V136 -> 0.053171673383682734 %\n",
      "V137 -> 0.053171673383682734 %\n",
      "V138 -> 86.12371727571376 %\n",
      "V139 -> 86.12371727571376 %\n",
      "V140 -> 86.12371727571376 %\n",
      "V141 -> 86.12371727571376 %\n",
      "V142 -> 86.12371727571376 %\n",
      "V143 -> 86.12270125647713 %\n",
      "V144 -> 86.12270125647713 %\n",
      "V145 -> 86.12270125647713 %\n",
      "V146 -> 86.12371727571376 %\n",
      "V147 -> 86.12371727571376 %\n",
      "V148 -> 86.12371727571376 %\n",
      "V149 -> 86.12371727571376 %\n",
      "V150 -> 86.12270125647713 %\n",
      "V151 -> 86.12270125647713 %\n",
      "V152 -> 86.12270125647713 %\n",
      "V153 -> 86.12371727571376 %\n",
      "V154 -> 86.12371727571376 %\n",
      "V155 -> 86.12371727571376 %\n",
      "V156 -> 86.12371727571376 %\n",
      "V157 -> 86.12371727571376 %\n",
      "V158 -> 86.12371727571376 %\n",
      "V159 -> 86.12270125647713 %\n",
      "V160 -> 86.12270125647713 %\n",
      "V161 -> 86.12371727571376 %\n",
      "V162 -> 86.12371727571376 %\n",
      "V163 -> 86.12371727571376 %\n",
      "V164 -> 86.12270125647713 %\n",
      "V165 -> 86.12270125647713 %\n",
      "V166 -> 86.12270125647713 %\n",
      "V167 -> 76.35536966166559 %\n",
      "V168 -> 76.35536966166559 %\n",
      "V169 -> 76.32353439225116 %\n",
      "V170 -> 76.32353439225116 %\n",
      "V171 -> 76.32353439225116 %\n",
      "V172 -> 76.35536966166559 %\n",
      "V173 -> 76.35536966166559 %\n",
      "V174 -> 76.32353439225116 %\n",
      "V175 -> 76.32353439225116 %\n",
      "V176 -> 76.35536966166559 %\n",
      "V177 -> 76.35536966166559 %\n",
      "V178 -> 76.35536966166559 %\n",
      "V179 -> 76.35536966166559 %\n",
      "V180 -> 76.32353439225116 %\n",
      "V181 -> 76.35536966166559 %\n",
      "V182 -> 76.35536966166559 %\n",
      "V183 -> 76.35536966166559 %\n",
      "V184 -> 76.32353439225116 %\n",
      "V185 -> 76.32353439225116 %\n",
      "V186 -> 76.35536966166559 %\n",
      "V187 -> 76.35536966166559 %\n",
      "V188 -> 76.32353439225116 %\n",
      "V189 -> 76.32353439225116 %\n",
      "V190 -> 76.35536966166559 %\n",
      "V191 -> 76.35536966166559 %\n",
      "V192 -> 76.35536966166559 %\n",
      "V193 -> 76.35536966166559 %\n",
      "V194 -> 76.32353439225116 %\n",
      "V195 -> 76.32353439225116 %\n",
      "V196 -> 76.35536966166559 %\n",
      "V197 -> 76.32353439225116 %\n",
      "V198 -> 76.32353439225116 %\n",
      "V199 -> 76.35536966166559 %\n",
      "V200 -> 76.32353439225116 %\n",
      "V201 -> 76.32353439225116 %\n",
      "V202 -> 76.35536966166559 %\n",
      "V203 -> 76.35536966166559 %\n",
      "V204 -> 76.35536966166559 %\n",
      "V205 -> 76.35536966166559 %\n",
      "V206 -> 76.35536966166559 %\n",
      "V207 -> 76.35536966166559 %\n",
      "V208 -> 76.32353439225116 %\n",
      "V209 -> 76.32353439225116 %\n",
      "V210 -> 76.32353439225116 %\n",
      "V211 -> 76.35536966166559 %\n",
      "V212 -> 76.35536966166559 %\n",
      "V213 -> 76.35536966166559 %\n",
      "V214 -> 76.35536966166559 %\n",
      "V215 -> 76.35536966166559 %\n",
      "V216 -> 76.35536966166559 %\n",
      "V217 -> 77.91343516103905 %\n",
      "V218 -> 77.91343516103905 %\n",
      "V219 -> 77.91343516103905 %\n",
      "V220 -> 76.0531039387679 %\n",
      "V221 -> 76.0531039387679 %\n",
      "V222 -> 76.0531039387679 %\n",
      "V223 -> 77.91343516103905 %\n",
      "V224 -> 77.91343516103905 %\n",
      "V225 -> 77.91343516103905 %\n",
      "V226 -> 77.91343516103905 %\n",
      "V227 -> 76.0531039387679 %\n",
      "V228 -> 77.91343516103905 %\n",
      "V229 -> 77.91343516103905 %\n",
      "V230 -> 77.91343516103905 %\n",
      "V231 -> 77.91343516103905 %\n",
      "V232 -> 77.91343516103905 %\n",
      "V233 -> 77.91343516103905 %\n",
      "V234 -> 76.0531039387679 %\n",
      "V235 -> 77.91343516103905 %\n",
      "V236 -> 77.91343516103905 %\n",
      "V237 -> 77.91343516103905 %\n",
      "V238 -> 76.0531039387679 %\n",
      "V239 -> 76.0531039387679 %\n",
      "V240 -> 77.91343516103905 %\n",
      "V241 -> 77.91343516103905 %\n",
      "V242 -> 77.91343516103905 %\n",
      "V243 -> 77.91343516103905 %\n",
      "V244 -> 77.91343516103905 %\n",
      "V245 -> 76.0531039387679 %\n",
      "V246 -> 77.91343516103905 %\n",
      "V247 -> 77.91343516103905 %\n",
      "V248 -> 77.91343516103905 %\n",
      "V249 -> 77.91343516103905 %\n",
      "V250 -> 76.0531039387679 %\n",
      "V251 -> 76.0531039387679 %\n",
      "V252 -> 77.91343516103905 %\n",
      "V253 -> 77.91343516103905 %\n",
      "V254 -> 77.91343516103905 %\n",
      "V255 -> 76.0531039387679 %\n",
      "V256 -> 76.0531039387679 %\n",
      "V257 -> 77.91343516103905 %\n",
      "V258 -> 77.91343516103905 %\n",
      "V259 -> 76.0531039387679 %\n",
      "V260 -> 77.91343516103905 %\n",
      "V261 -> 77.91343516103905 %\n",
      "V262 -> 77.91343516103905 %\n",
      "V263 -> 77.91343516103905 %\n",
      "V264 -> 77.91343516103905 %\n",
      "V265 -> 77.91343516103905 %\n",
      "V266 -> 77.91343516103905 %\n",
      "V267 -> 77.91343516103905 %\n",
      "V268 -> 77.91343516103905 %\n",
      "V269 -> 77.91343516103905 %\n",
      "V270 -> 76.0531039387679 %\n",
      "V271 -> 76.0531039387679 %\n",
      "V272 -> 76.0531039387679 %\n",
      "V273 -> 77.91343516103905 %\n",
      "V274 -> 77.91343516103905 %\n",
      "V275 -> 77.91343516103905 %\n",
      "V276 -> 77.91343516103905 %\n",
      "V277 -> 77.91343516103905 %\n",
      "V278 -> 77.91343516103905 %\n",
      "V279 -> 0.0020320384732617604 %\n",
      "V280 -> 0.0020320384732617604 %\n",
      "V281 -> 0.21488806854743117 %\n",
      "V282 -> 0.21488806854743117 %\n",
      "V283 -> 0.21488806854743117 %\n",
      "V284 -> 0.0020320384732617604 %\n",
      "V285 -> 0.0020320384732617604 %\n",
      "V286 -> 0.0020320384732617604 %\n",
      "V287 -> 0.0020320384732617604 %\n",
      "V288 -> 0.21488806854743117 %\n",
      "V289 -> 0.21488806854743117 %\n",
      "V290 -> 0.0020320384732617604 %\n",
      "V291 -> 0.0020320384732617604 %\n",
      "V292 -> 0.0020320384732617604 %\n",
      "V293 -> 0.0020320384732617604 %\n",
      "V294 -> 0.0020320384732617604 %\n",
      "V295 -> 0.0020320384732617604 %\n",
      "V296 -> 0.21488806854743117 %\n",
      "V297 -> 0.0020320384732617604 %\n",
      "V298 -> 0.0020320384732617604 %\n",
      "V299 -> 0.0020320384732617604 %\n",
      "V300 -> 0.21488806854743117 %\n",
      "V301 -> 0.21488806854743117 %\n",
      "V302 -> 0.0020320384732617604 %\n",
      "V303 -> 0.0020320384732617604 %\n",
      "V304 -> 0.0020320384732617604 %\n",
      "V305 -> 0.0020320384732617604 %\n",
      "V306 -> 0.0020320384732617604 %\n",
      "V307 -> 0.0020320384732617604 %\n",
      "V308 -> 0.0020320384732617604 %\n",
      "V309 -> 0.0020320384732617604 %\n",
      "V310 -> 0.0020320384732617604 %\n",
      "V311 -> 0.0020320384732617604 %\n",
      "V312 -> 0.0020320384732617604 %\n",
      "V313 -> 0.21488806854743117 %\n",
      "V314 -> 0.21488806854743117 %\n",
      "V315 -> 0.21488806854743117 %\n",
      "V316 -> 0.0020320384732617604 %\n",
      "V317 -> 0.0020320384732617604 %\n",
      "V318 -> 0.0020320384732617604 %\n",
      "V319 -> 0.0020320384732617604 %\n",
      "V320 -> 0.0020320384732617604 %\n",
      "V321 -> 0.0020320384732617604 %\n",
      "V322 -> 86.05496664070174 %\n",
      "V323 -> 86.05496664070174 %\n",
      "V324 -> 86.05496664070174 %\n",
      "V325 -> 86.05496664070174 %\n",
      "V326 -> 86.05496664070174 %\n",
      "V327 -> 86.05496664070174 %\n",
      "V328 -> 86.05496664070174 %\n",
      "V329 -> 86.05496664070174 %\n",
      "V330 -> 86.05496664070174 %\n",
      "V331 -> 86.05496664070174 %\n",
      "V332 -> 86.05496664070174 %\n",
      "V333 -> 86.05496664070174 %\n",
      "V334 -> 86.05496664070174 %\n",
      "V335 -> 86.05496664070174 %\n",
      "V336 -> 86.05496664070174 %\n",
      "V337 -> 86.05496664070174 %\n",
      "V338 -> 86.05496664070174 %\n",
      "V339 -> 86.05496664070174 %\n"
     ]
    }
   ],
   "source": [
    "# find % of empty values in each feature\n",
    "\n",
    "for column in df_t:\n",
    "    btao = df_t[column].isna().sum()\n",
    "    btao2 = (btao * 100)/len(df_t)\n",
    "    print(column + \" -> \" + str(btao2) + ' %')"
   ]
  },
  {
   "cell_type": "markdown",
   "metadata": {},
   "source": [
    "We can see that there are over a 100 features with at least 70% missing values. Since these features are not defined (or vaguely defined), we will have to drop these features."
   ]
  },
  {
   "cell_type": "code",
   "execution_count": 69,
   "metadata": {},
   "outputs": [
    {
     "data": {
      "text/plain": [
       "['dist2',\n",
       " 'R_emaildomain',\n",
       " 'D6',\n",
       " 'D7',\n",
       " 'D8',\n",
       " 'D9',\n",
       " 'D12',\n",
       " 'D13',\n",
       " 'D14',\n",
       " 'V138',\n",
       " 'V139',\n",
       " 'V140',\n",
       " 'V141',\n",
       " 'V142',\n",
       " 'V143',\n",
       " 'V144',\n",
       " 'V145',\n",
       " 'V146',\n",
       " 'V147',\n",
       " 'V148',\n",
       " 'V149',\n",
       " 'V150',\n",
       " 'V151',\n",
       " 'V152',\n",
       " 'V153',\n",
       " 'V154',\n",
       " 'V155',\n",
       " 'V156',\n",
       " 'V157',\n",
       " 'V158',\n",
       " 'V159',\n",
       " 'V160',\n",
       " 'V161',\n",
       " 'V162',\n",
       " 'V163',\n",
       " 'V164',\n",
       " 'V165',\n",
       " 'V166',\n",
       " 'V167',\n",
       " 'V168',\n",
       " 'V169',\n",
       " 'V170',\n",
       " 'V171',\n",
       " 'V172',\n",
       " 'V173',\n",
       " 'V174',\n",
       " 'V175',\n",
       " 'V176',\n",
       " 'V177',\n",
       " 'V178',\n",
       " 'V179',\n",
       " 'V180',\n",
       " 'V181',\n",
       " 'V182',\n",
       " 'V183',\n",
       " 'V184',\n",
       " 'V185',\n",
       " 'V186',\n",
       " 'V187',\n",
       " 'V188',\n",
       " 'V189',\n",
       " 'V190',\n",
       " 'V191',\n",
       " 'V192',\n",
       " 'V193',\n",
       " 'V194',\n",
       " 'V195',\n",
       " 'V196',\n",
       " 'V197',\n",
       " 'V198',\n",
       " 'V199',\n",
       " 'V200',\n",
       " 'V201',\n",
       " 'V202',\n",
       " 'V203',\n",
       " 'V204',\n",
       " 'V205',\n",
       " 'V206',\n",
       " 'V207',\n",
       " 'V208',\n",
       " 'V209',\n",
       " 'V210',\n",
       " 'V211',\n",
       " 'V212',\n",
       " 'V213',\n",
       " 'V214',\n",
       " 'V215',\n",
       " 'V216',\n",
       " 'V217',\n",
       " 'V218',\n",
       " 'V219',\n",
       " 'V220',\n",
       " 'V221',\n",
       " 'V222',\n",
       " 'V223',\n",
       " 'V224',\n",
       " 'V225',\n",
       " 'V226',\n",
       " 'V227',\n",
       " 'V228',\n",
       " 'V229',\n",
       " 'V230',\n",
       " 'V231',\n",
       " 'V232',\n",
       " 'V233',\n",
       " 'V234',\n",
       " 'V235',\n",
       " 'V236',\n",
       " 'V237',\n",
       " 'V238',\n",
       " 'V239',\n",
       " 'V240',\n",
       " 'V241',\n",
       " 'V242',\n",
       " 'V243',\n",
       " 'V244',\n",
       " 'V245',\n",
       " 'V246',\n",
       " 'V247',\n",
       " 'V248',\n",
       " 'V249',\n",
       " 'V250',\n",
       " 'V251',\n",
       " 'V252',\n",
       " 'V253',\n",
       " 'V254',\n",
       " 'V255',\n",
       " 'V256',\n",
       " 'V257',\n",
       " 'V258',\n",
       " 'V259',\n",
       " 'V260',\n",
       " 'V261',\n",
       " 'V262',\n",
       " 'V263',\n",
       " 'V264',\n",
       " 'V265',\n",
       " 'V266',\n",
       " 'V267',\n",
       " 'V268',\n",
       " 'V269',\n",
       " 'V270',\n",
       " 'V271',\n",
       " 'V272',\n",
       " 'V273',\n",
       " 'V274',\n",
       " 'V275',\n",
       " 'V276',\n",
       " 'V277',\n",
       " 'V278',\n",
       " 'V322',\n",
       " 'V323',\n",
       " 'V324',\n",
       " 'V325',\n",
       " 'V326',\n",
       " 'V327',\n",
       " 'V328',\n",
       " 'V329',\n",
       " 'V330',\n",
       " 'V331',\n",
       " 'V332',\n",
       " 'V333',\n",
       " 'V334',\n",
       " 'V335',\n",
       " 'V336',\n",
       " 'V337',\n",
       " 'V338',\n",
       " 'V339']"
      ]
     },
     "execution_count": 69,
     "metadata": {},
     "output_type": "execute_result"
    }
   ],
   "source": [
    "drop_transaction = []\n",
    "for column in df_t:\n",
    "    btao = df_t[column].isna().sum()\n",
    "    btao2 = (btao * 100)/len(df_t)\n",
    "    if btao2 > 70:\n",
    "        drop_transaction.append(column)\n",
    "\n",
    "drop_transaction"
   ]
  },
  {
   "cell_type": "code",
   "execution_count": 70,
   "metadata": {},
   "outputs": [],
   "source": [
    "for value in drop_transaction:\n",
    "    df_t.pop(value)\n",
    "\n",
    "#df_t"
   ]
  },
  {
   "cell_type": "code",
   "execution_count": 71,
   "metadata": {},
   "outputs": [
    {
     "data": {
      "text/plain": [
       "(590540, 226)"
      ]
     },
     "execution_count": 71,
     "metadata": {},
     "output_type": "execute_result"
    }
   ],
   "source": [
    "df_t.shape"
   ]
  },
  {
   "cell_type": "markdown",
   "metadata": {},
   "source": [
    "168 features with more than 70% missing values have been dropped. Let us analyse the remaining 226.\n",
    "\n",
    "TARGET VARIABLE"
   ]
  },
  {
   "cell_type": "code",
   "execution_count": 72,
   "metadata": {},
   "outputs": [
    {
     "data": {
      "text/plain": [
       "0    569877\n",
       "1     20663\n",
       "Name: isFraud, dtype: int64"
      ]
     },
     "execution_count": 72,
     "metadata": {},
     "output_type": "execute_result"
    }
   ],
   "source": [
    "df_t['isFraud'].value_counts()"
   ]
  },
  {
   "cell_type": "code",
   "execution_count": 73,
   "metadata": {},
   "outputs": [
    {
     "data": {
      "image/png": "[encoded data removed]",
      "text/plain": [
       "<Figure size 432x288 with 1 Axes>"
      ]
     },
     "metadata": {
      "needs_background": "light"
     },
     "output_type": "display_data"
    }
   ],
   "source": [
    "sn.countplot(x='isFraud', data=df_t)\n",
    "mplt.title(\" 'isFraud' values\")\n",
    "mplt.savefig('isFraud_hist')\n",
    "mplt.show()"
   ]
  },
  {
   "cell_type": "markdown",
   "metadata": {},
   "source": [
    "isFraud == 0 -> false i.e. not a fraud\n",
    "isFraud == 1 -> true i.e. is a fraud transaction"
   ]
  },
  {
   "cell_type": "code",
   "execution_count": 74,
   "metadata": {
    "scrolled": false
   },
   "outputs": [
    {
     "data": {
      "text/plain": [
       "gmail.com           228355\n",
       "yahoo.com           100934\n",
       "hotmail.com          45250\n",
       "anonymous.com        36998\n",
       "aol.com              28289\n",
       "comcast.net           7888\n",
       "icloud.com            6267\n",
       "outlook.com           5096\n",
       "msn.com               4092\n",
       "att.net               4033\n",
       "live.com              3041\n",
       "sbcglobal.net         2970\n",
       "verizon.net           2705\n",
       "ymail.com             2396\n",
       "bellsouth.net         1909\n",
       "yahoo.com.mx          1543\n",
       "me.com                1522\n",
       "cox.net               1393\n",
       "optonline.net         1011\n",
       "charter.net            816\n",
       "live.com.mx            749\n",
       "rocketmail.com         664\n",
       "mail.com               559\n",
       "earthlink.net          514\n",
       "gmail                  496\n",
       "outlook.es             438\n",
       "mac.com                436\n",
       "juno.com               322\n",
       "aim.com                315\n",
       "windstream.net         305\n",
       "roadrunner.com         305\n",
       "hotmail.es             305\n",
       "hotmail.fr             295\n",
       "frontier.com           280\n",
       "embarqmail.com         260\n",
       "web.de                 240\n",
       "netzero.com            230\n",
       "twc.com                230\n",
       "prodigy.net.mx         207\n",
       "centurylink.net        205\n",
       "netzero.net            196\n",
       "frontiernet.net        195\n",
       "q.com                  189\n",
       "suddenlink.net         175\n",
       "cfl.rr.com             172\n",
       "sc.rr.com              164\n",
       "cableone.net           159\n",
       "gmx.de                 149\n",
       "yahoo.fr               143\n",
       "yahoo.es               134\n",
       "hotmail.co.uk          112\n",
       "protonmail.com          76\n",
       "yahoo.de                74\n",
       "ptd.net                 68\n",
       "live.fr                 56\n",
       "yahoo.co.uk             49\n",
       "hotmail.de              43\n",
       "servicios-ta.com        35\n",
       "yahoo.co.jp             32\n",
       "Name: P_emaildomain, dtype: int64"
      ]
     },
     "execution_count": 74,
     "metadata": {},
     "output_type": "execute_result"
    }
   ],
   "source": [
    "df_t['P_emaildomain'].value_counts()"
   ]
  },
  {
   "cell_type": "markdown",
   "metadata": {
    "scrolled": true
   },
   "source": [
    "#df_t['R_emaildomain'].value_counts()"
   ]
  },
  {
   "cell_type": "markdown",
   "metadata": {},
   "source": [
    "Clearly the features P_emaildomain and R_emaildomain are categorical (with far too many categories to be encoded), coupled (i.e. one is associated with the payer and the other with the receiver) and R_emaildomain has 76% missing values, and has already been dropped. Therefore, it renders P_emaildomain useless as well. It shall be dropped as well. \n",
    "Had there been sufficient values here, we could have looked for trends in senders-receivers email addresses using encoding.\n",
    "Also, there are too many categories to encode"
   ]
  },
  {
   "cell_type": "code",
   "execution_count": 75,
   "metadata": {},
   "outputs": [],
   "source": [
    "p_em = df_t.pop('P_emaildomain')\n",
    "\n",
    "drop_transaction.append('P_emaildomain')"
   ]
  },
  {
   "cell_type": "code",
   "execution_count": 76,
   "metadata": {},
   "outputs": [
    {
     "name": "stdout",
     "output_type": "stream",
     "text": [
      "<class 'pandas.core.frame.DataFrame'>\n",
      "RangeIndex: 590540 entries, 0 to 590539\n",
      "Columns: 225 entries, TransactionID to V321\n",
      "dtypes: float64(209), int64(4), object(12)\n",
      "memory usage: 1013.7+ MB\n"
     ]
    }
   ],
   "source": [
    "df_t.info()"
   ]
  },
  {
   "cell_type": "code",
   "execution_count": 77,
   "metadata": {},
   "outputs": [
    {
     "data": {
      "text/html": [
       "<div>\n",
       "<style scoped>\n",
       "    .dataframe tbody tr th:only-of-type {\n",
       "        vertical-align: middle;\n",
       "    }\n",
       "\n",
       "    .dataframe tbody tr th {\n",
       "        vertical-align: top;\n",
       "    }\n",
       "\n",
       "    .dataframe thead th {\n",
       "        text-align: right;\n",
       "    }\n",
       "</style>\n",
       "<table border=\"1\" class=\"dataframe\">\n",
       "  <thead>\n",
       "    <tr style=\"text-align: right;\">\n",
       "      <th></th>\n",
       "      <th>TransactionID</th>\n",
       "      <th>isFraud</th>\n",
       "      <th>TransactionDT</th>\n",
       "      <th>TransactionAmt</th>\n",
       "      <th>card1</th>\n",
       "      <th>card2</th>\n",
       "      <th>card3</th>\n",
       "      <th>card5</th>\n",
       "      <th>addr1</th>\n",
       "      <th>addr2</th>\n",
       "      <th>dist1</th>\n",
       "      <th>C1</th>\n",
       "      <th>C2</th>\n",
       "      <th>C3</th>\n",
       "      <th>C4</th>\n",
       "      <th>C5</th>\n",
       "      <th>C6</th>\n",
       "      <th>C7</th>\n",
       "      <th>C8</th>\n",
       "      <th>C9</th>\n",
       "      <th>C10</th>\n",
       "      <th>C11</th>\n",
       "      <th>C12</th>\n",
       "      <th>C13</th>\n",
       "      <th>C14</th>\n",
       "      <th>...</th>\n",
       "      <th>V297</th>\n",
       "      <th>V298</th>\n",
       "      <th>V299</th>\n",
       "      <th>V300</th>\n",
       "      <th>V301</th>\n",
       "      <th>V302</th>\n",
       "      <th>V303</th>\n",
       "      <th>V304</th>\n",
       "      <th>V305</th>\n",
       "      <th>V306</th>\n",
       "      <th>V307</th>\n",
       "      <th>V308</th>\n",
       "      <th>V309</th>\n",
       "      <th>V310</th>\n",
       "      <th>V311</th>\n",
       "      <th>V312</th>\n",
       "      <th>V313</th>\n",
       "      <th>V314</th>\n",
       "      <th>V315</th>\n",
       "      <th>V316</th>\n",
       "      <th>V317</th>\n",
       "      <th>V318</th>\n",
       "      <th>V319</th>\n",
       "      <th>V320</th>\n",
       "      <th>V321</th>\n",
       "    </tr>\n",
       "  </thead>\n",
       "  <tbody>\n",
       "    <tr>\n",
       "      <th>count</th>\n",
       "      <td>5.905400e+05</td>\n",
       "      <td>590540.000000</td>\n",
       "      <td>5.905400e+05</td>\n",
       "      <td>590540.000000</td>\n",
       "      <td>590540.000000</td>\n",
       "      <td>581607.000000</td>\n",
       "      <td>588975.000000</td>\n",
       "      <td>586281.000000</td>\n",
       "      <td>524834.000000</td>\n",
       "      <td>524834.000000</td>\n",
       "      <td>238269.000000</td>\n",
       "      <td>590540.000000</td>\n",
       "      <td>590540.000000</td>\n",
       "      <td>590540.000000</td>\n",
       "      <td>590540.000000</td>\n",
       "      <td>590540.000000</td>\n",
       "      <td>590540.000000</td>\n",
       "      <td>590540.000000</td>\n",
       "      <td>590540.000000</td>\n",
       "      <td>590540.000000</td>\n",
       "      <td>590540.000000</td>\n",
       "      <td>590540.000000</td>\n",
       "      <td>590540.000000</td>\n",
       "      <td>590540.000000</td>\n",
       "      <td>590540.000000</td>\n",
       "      <td>...</td>\n",
       "      <td>590528.000000</td>\n",
       "      <td>590528.000000</td>\n",
       "      <td>590528.000000</td>\n",
       "      <td>589271.000000</td>\n",
       "      <td>589271.000000</td>\n",
       "      <td>590528.000000</td>\n",
       "      <td>590528.000000</td>\n",
       "      <td>590528.000000</td>\n",
       "      <td>590528.000000</td>\n",
       "      <td>590528.000000</td>\n",
       "      <td>590528.000000</td>\n",
       "      <td>590528.000000</td>\n",
       "      <td>590528.000000</td>\n",
       "      <td>590528.000000</td>\n",
       "      <td>590528.000000</td>\n",
       "      <td>590528.000000</td>\n",
       "      <td>589271.000000</td>\n",
       "      <td>589271.000000</td>\n",
       "      <td>589271.000000</td>\n",
       "      <td>590528.000000</td>\n",
       "      <td>590528.000000</td>\n",
       "      <td>590528.000000</td>\n",
       "      <td>590528.000000</td>\n",
       "      <td>590528.000000</td>\n",
       "      <td>590528.000000</td>\n",
       "    </tr>\n",
       "    <tr>\n",
       "      <th>mean</th>\n",
       "      <td>3.282270e+06</td>\n",
       "      <td>0.034990</td>\n",
       "      <td>7.372311e+06</td>\n",
       "      <td>135.027176</td>\n",
       "      <td>9898.734658</td>\n",
       "      <td>362.555488</td>\n",
       "      <td>153.194925</td>\n",
       "      <td>199.278897</td>\n",
       "      <td>290.733794</td>\n",
       "      <td>86.800630</td>\n",
       "      <td>118.502180</td>\n",
       "      <td>14.092458</td>\n",
       "      <td>15.269734</td>\n",
       "      <td>0.005644</td>\n",
       "      <td>4.092185</td>\n",
       "      <td>5.571526</td>\n",
       "      <td>9.071082</td>\n",
       "      <td>2.848478</td>\n",
       "      <td>5.144574</td>\n",
       "      <td>4.480240</td>\n",
       "      <td>5.240343</td>\n",
       "      <td>10.241521</td>\n",
       "      <td>4.076227</td>\n",
       "      <td>32.539918</td>\n",
       "      <td>8.295215</td>\n",
       "      <td>...</td>\n",
       "      <td>0.089034</td>\n",
       "      <td>0.298829</td>\n",
       "      <td>0.171655</td>\n",
       "      <td>0.045507</td>\n",
       "      <td>0.052002</td>\n",
       "      <td>0.251761</td>\n",
       "      <td>0.283140</td>\n",
       "      <td>0.264208</td>\n",
       "      <td>1.000007</td>\n",
       "      <td>139.748713</td>\n",
       "      <td>408.682375</td>\n",
       "      <td>230.413180</td>\n",
       "      <td>10.995986</td>\n",
       "      <td>118.195658</td>\n",
       "      <td>4.202175</td>\n",
       "      <td>39.173910</td>\n",
       "      <td>21.351473</td>\n",
       "      <td>43.319174</td>\n",
       "      <td>26.806977</td>\n",
       "      <td>109.818544</td>\n",
       "      <td>247.606741</td>\n",
       "      <td>162.153398</td>\n",
       "      <td>18.372476</td>\n",
       "      <td>42.073133</td>\n",
       "      <td>28.326584</td>\n",
       "    </tr>\n",
       "    <tr>\n",
       "      <th>std</th>\n",
       "      <td>1.704744e+05</td>\n",
       "      <td>0.183755</td>\n",
       "      <td>4.617224e+06</td>\n",
       "      <td>239.162522</td>\n",
       "      <td>4901.170153</td>\n",
       "      <td>157.793246</td>\n",
       "      <td>11.336444</td>\n",
       "      <td>41.244453</td>\n",
       "      <td>101.741072</td>\n",
       "      <td>2.690623</td>\n",
       "      <td>371.872026</td>\n",
       "      <td>133.569018</td>\n",
       "      <td>154.668899</td>\n",
       "      <td>0.150536</td>\n",
       "      <td>68.848459</td>\n",
       "      <td>25.786976</td>\n",
       "      <td>71.508467</td>\n",
       "      <td>61.727304</td>\n",
       "      <td>95.378574</td>\n",
       "      <td>16.674897</td>\n",
       "      <td>95.581443</td>\n",
       "      <td>94.336292</td>\n",
       "      <td>86.666218</td>\n",
       "      <td>129.364844</td>\n",
       "      <td>49.544262</td>\n",
       "      <td>...</td>\n",
       "      <td>0.628352</td>\n",
       "      <td>3.175062</td>\n",
       "      <td>1.724218</td>\n",
       "      <td>0.289573</td>\n",
       "      <td>0.318310</td>\n",
       "      <td>0.481889</td>\n",
       "      <td>0.623608</td>\n",
       "      <td>0.528238</td>\n",
       "      <td>0.002603</td>\n",
       "      <td>2348.849634</td>\n",
       "      <td>4391.992977</td>\n",
       "      <td>3021.924247</td>\n",
       "      <td>116.254277</td>\n",
       "      <td>352.983093</td>\n",
       "      <td>102.374938</td>\n",
       "      <td>172.128339</td>\n",
       "      <td>95.902970</td>\n",
       "      <td>173.619028</td>\n",
       "      <td>116.853222</td>\n",
       "      <td>2270.033202</td>\n",
       "      <td>3980.042828</td>\n",
       "      <td>2793.343636</td>\n",
       "      <td>332.304848</td>\n",
       "      <td>473.499307</td>\n",
       "      <td>382.053171</td>\n",
       "    </tr>\n",
       "    <tr>\n",
       "      <th>min</th>\n",
       "      <td>2.987000e+06</td>\n",
       "      <td>0.000000</td>\n",
       "      <td>8.640000e+04</td>\n",
       "      <td>0.251000</td>\n",
       "      <td>1000.000000</td>\n",
       "      <td>100.000000</td>\n",
       "      <td>100.000000</td>\n",
       "      <td>100.000000</td>\n",
       "      <td>100.000000</td>\n",
       "      <td>10.000000</td>\n",
       "      <td>0.000000</td>\n",
       "      <td>0.000000</td>\n",
       "      <td>0.000000</td>\n",
       "      <td>0.000000</td>\n",
       "      <td>0.000000</td>\n",
       "      <td>0.000000</td>\n",
       "      <td>0.000000</td>\n",
       "      <td>0.000000</td>\n",
       "      <td>0.000000</td>\n",
       "      <td>0.000000</td>\n",
       "      <td>0.000000</td>\n",
       "      <td>0.000000</td>\n",
       "      <td>0.000000</td>\n",
       "      <td>0.000000</td>\n",
       "      <td>0.000000</td>\n",
       "      <td>...</td>\n",
       "      <td>0.000000</td>\n",
       "      <td>0.000000</td>\n",
       "      <td>0.000000</td>\n",
       "      <td>0.000000</td>\n",
       "      <td>0.000000</td>\n",
       "      <td>0.000000</td>\n",
       "      <td>0.000000</td>\n",
       "      <td>0.000000</td>\n",
       "      <td>1.000000</td>\n",
       "      <td>0.000000</td>\n",
       "      <td>0.000000</td>\n",
       "      <td>0.000000</td>\n",
       "      <td>0.000000</td>\n",
       "      <td>0.000000</td>\n",
       "      <td>0.000000</td>\n",
       "      <td>0.000000</td>\n",
       "      <td>0.000000</td>\n",
       "      <td>0.000000</td>\n",
       "      <td>0.000000</td>\n",
       "      <td>0.000000</td>\n",
       "      <td>0.000000</td>\n",
       "      <td>0.000000</td>\n",
       "      <td>0.000000</td>\n",
       "      <td>0.000000</td>\n",
       "      <td>0.000000</td>\n",
       "    </tr>\n",
       "    <tr>\n",
       "      <th>25%</th>\n",
       "      <td>3.134635e+06</td>\n",
       "      <td>0.000000</td>\n",
       "      <td>3.027058e+06</td>\n",
       "      <td>43.321000</td>\n",
       "      <td>6019.000000</td>\n",
       "      <td>214.000000</td>\n",
       "      <td>150.000000</td>\n",
       "      <td>166.000000</td>\n",
       "      <td>204.000000</td>\n",
       "      <td>87.000000</td>\n",
       "      <td>3.000000</td>\n",
       "      <td>1.000000</td>\n",
       "      <td>1.000000</td>\n",
       "      <td>0.000000</td>\n",
       "      <td>0.000000</td>\n",
       "      <td>0.000000</td>\n",
       "      <td>1.000000</td>\n",
       "      <td>0.000000</td>\n",
       "      <td>0.000000</td>\n",
       "      <td>0.000000</td>\n",
       "      <td>0.000000</td>\n",
       "      <td>1.000000</td>\n",
       "      <td>0.000000</td>\n",
       "      <td>1.000000</td>\n",
       "      <td>1.000000</td>\n",
       "      <td>...</td>\n",
       "      <td>0.000000</td>\n",
       "      <td>0.000000</td>\n",
       "      <td>0.000000</td>\n",
       "      <td>0.000000</td>\n",
       "      <td>0.000000</td>\n",
       "      <td>0.000000</td>\n",
       "      <td>0.000000</td>\n",
       "      <td>0.000000</td>\n",
       "      <td>1.000000</td>\n",
       "      <td>0.000000</td>\n",
       "      <td>0.000000</td>\n",
       "      <td>0.000000</td>\n",
       "      <td>0.000000</td>\n",
       "      <td>0.000000</td>\n",
       "      <td>0.000000</td>\n",
       "      <td>0.000000</td>\n",
       "      <td>0.000000</td>\n",
       "      <td>0.000000</td>\n",
       "      <td>0.000000</td>\n",
       "      <td>0.000000</td>\n",
       "      <td>0.000000</td>\n",
       "      <td>0.000000</td>\n",
       "      <td>0.000000</td>\n",
       "      <td>0.000000</td>\n",
       "      <td>0.000000</td>\n",
       "    </tr>\n",
       "    <tr>\n",
       "      <th>50%</th>\n",
       "      <td>3.282270e+06</td>\n",
       "      <td>0.000000</td>\n",
       "      <td>7.306528e+06</td>\n",
       "      <td>68.769000</td>\n",
       "      <td>9678.000000</td>\n",
       "      <td>361.000000</td>\n",
       "      <td>150.000000</td>\n",
       "      <td>226.000000</td>\n",
       "      <td>299.000000</td>\n",
       "      <td>87.000000</td>\n",
       "      <td>8.000000</td>\n",
       "      <td>1.000000</td>\n",
       "      <td>1.000000</td>\n",
       "      <td>0.000000</td>\n",
       "      <td>0.000000</td>\n",
       "      <td>0.000000</td>\n",
       "      <td>1.000000</td>\n",
       "      <td>0.000000</td>\n",
       "      <td>0.000000</td>\n",
       "      <td>1.000000</td>\n",
       "      <td>0.000000</td>\n",
       "      <td>1.000000</td>\n",
       "      <td>0.000000</td>\n",
       "      <td>3.000000</td>\n",
       "      <td>1.000000</td>\n",
       "      <td>...</td>\n",
       "      <td>0.000000</td>\n",
       "      <td>0.000000</td>\n",
       "      <td>0.000000</td>\n",
       "      <td>0.000000</td>\n",
       "      <td>0.000000</td>\n",
       "      <td>0.000000</td>\n",
       "      <td>0.000000</td>\n",
       "      <td>0.000000</td>\n",
       "      <td>1.000000</td>\n",
       "      <td>0.000000</td>\n",
       "      <td>0.000000</td>\n",
       "      <td>0.000000</td>\n",
       "      <td>0.000000</td>\n",
       "      <td>0.000000</td>\n",
       "      <td>0.000000</td>\n",
       "      <td>0.000000</td>\n",
       "      <td>0.000000</td>\n",
       "      <td>0.000000</td>\n",
       "      <td>0.000000</td>\n",
       "      <td>0.000000</td>\n",
       "      <td>0.000000</td>\n",
       "      <td>0.000000</td>\n",
       "      <td>0.000000</td>\n",
       "      <td>0.000000</td>\n",
       "      <td>0.000000</td>\n",
       "    </tr>\n",
       "    <tr>\n",
       "      <th>75%</th>\n",
       "      <td>3.429904e+06</td>\n",
       "      <td>0.000000</td>\n",
       "      <td>1.124662e+07</td>\n",
       "      <td>125.000000</td>\n",
       "      <td>14184.000000</td>\n",
       "      <td>512.000000</td>\n",
       "      <td>150.000000</td>\n",
       "      <td>226.000000</td>\n",
       "      <td>330.000000</td>\n",
       "      <td>87.000000</td>\n",
       "      <td>24.000000</td>\n",
       "      <td>3.000000</td>\n",
       "      <td>3.000000</td>\n",
       "      <td>0.000000</td>\n",
       "      <td>0.000000</td>\n",
       "      <td>1.000000</td>\n",
       "      <td>2.000000</td>\n",
       "      <td>0.000000</td>\n",
       "      <td>0.000000</td>\n",
       "      <td>2.000000</td>\n",
       "      <td>0.000000</td>\n",
       "      <td>2.000000</td>\n",
       "      <td>0.000000</td>\n",
       "      <td>12.000000</td>\n",
       "      <td>2.000000</td>\n",
       "      <td>...</td>\n",
       "      <td>0.000000</td>\n",
       "      <td>0.000000</td>\n",
       "      <td>0.000000</td>\n",
       "      <td>0.000000</td>\n",
       "      <td>0.000000</td>\n",
       "      <td>0.000000</td>\n",
       "      <td>0.000000</td>\n",
       "      <td>0.000000</td>\n",
       "      <td>1.000000</td>\n",
       "      <td>0.000000</td>\n",
       "      <td>151.380680</td>\n",
       "      <td>35.970001</td>\n",
       "      <td>0.000000</td>\n",
       "      <td>107.949997</td>\n",
       "      <td>0.000000</td>\n",
       "      <td>0.000000</td>\n",
       "      <td>0.000000</td>\n",
       "      <td>0.000000</td>\n",
       "      <td>0.000000</td>\n",
       "      <td>0.000000</td>\n",
       "      <td>0.000000</td>\n",
       "      <td>0.000000</td>\n",
       "      <td>0.000000</td>\n",
       "      <td>0.000000</td>\n",
       "      <td>0.000000</td>\n",
       "    </tr>\n",
       "    <tr>\n",
       "      <th>max</th>\n",
       "      <td>3.577539e+06</td>\n",
       "      <td>1.000000</td>\n",
       "      <td>1.581113e+07</td>\n",
       "      <td>31937.391000</td>\n",
       "      <td>18396.000000</td>\n",
       "      <td>600.000000</td>\n",
       "      <td>231.000000</td>\n",
       "      <td>237.000000</td>\n",
       "      <td>540.000000</td>\n",
       "      <td>102.000000</td>\n",
       "      <td>10286.000000</td>\n",
       "      <td>4685.000000</td>\n",
       "      <td>5691.000000</td>\n",
       "      <td>26.000000</td>\n",
       "      <td>2253.000000</td>\n",
       "      <td>349.000000</td>\n",
       "      <td>2253.000000</td>\n",
       "      <td>2255.000000</td>\n",
       "      <td>3331.000000</td>\n",
       "      <td>210.000000</td>\n",
       "      <td>3257.000000</td>\n",
       "      <td>3188.000000</td>\n",
       "      <td>3188.000000</td>\n",
       "      <td>2918.000000</td>\n",
       "      <td>1429.000000</td>\n",
       "      <td>...</td>\n",
       "      <td>12.000000</td>\n",
       "      <td>93.000000</td>\n",
       "      <td>49.000000</td>\n",
       "      <td>11.000000</td>\n",
       "      <td>13.000000</td>\n",
       "      <td>16.000000</td>\n",
       "      <td>20.000000</td>\n",
       "      <td>16.000000</td>\n",
       "      <td>2.000000</td>\n",
       "      <td>108800.000000</td>\n",
       "      <td>145765.000000</td>\n",
       "      <td>108800.000000</td>\n",
       "      <td>55125.000000</td>\n",
       "      <td>55125.000000</td>\n",
       "      <td>55125.000000</td>\n",
       "      <td>55125.000000</td>\n",
       "      <td>4817.470215</td>\n",
       "      <td>7519.870117</td>\n",
       "      <td>4817.470215</td>\n",
       "      <td>93736.000000</td>\n",
       "      <td>134021.000000</td>\n",
       "      <td>98476.000000</td>\n",
       "      <td>104060.000000</td>\n",
       "      <td>104060.000000</td>\n",
       "      <td>104060.000000</td>\n",
       "    </tr>\n",
       "  </tbody>\n",
       "</table>\n",
       "<p>8 rows × 213 columns</p>\n",
       "</div>"
      ],
      "text/plain": [
       "       TransactionID        isFraud  TransactionDT  TransactionAmt  \\\n",
       "count   5.905400e+05  590540.000000   5.905400e+05   590540.000000   \n",
       "mean    3.282270e+06       0.034990   7.372311e+06      135.027176   \n",
       "std     1.704744e+05       0.183755   4.617224e+06      239.162522   \n",
       "min     2.987000e+06       0.000000   8.640000e+04        0.251000   \n",
       "25%     3.134635e+06       0.000000   3.027058e+06       43.321000   \n",
       "50%     3.282270e+06       0.000000   7.306528e+06       68.769000   \n",
       "75%     3.429904e+06       0.000000   1.124662e+07      125.000000   \n",
       "max     3.577539e+06       1.000000   1.581113e+07    31937.391000   \n",
       "\n",
       "               card1          card2          card3          card5  \\\n",
       "count  590540.000000  581607.000000  588975.000000  586281.000000   \n",
       "mean     9898.734658     362.555488     153.194925     199.278897   \n",
       "std      4901.170153     157.793246      11.336444      41.244453   \n",
       "min      1000.000000     100.000000     100.000000     100.000000   \n",
       "25%      6019.000000     214.000000     150.000000     166.000000   \n",
       "50%      9678.000000     361.000000     150.000000     226.000000   \n",
       "75%     14184.000000     512.000000     150.000000     226.000000   \n",
       "max     18396.000000     600.000000     231.000000     237.000000   \n",
       "\n",
       "               addr1          addr2          dist1             C1  \\\n",
       "count  524834.000000  524834.000000  238269.000000  590540.000000   \n",
       "mean      290.733794      86.800630     118.502180      14.092458   \n",
       "std       101.741072       2.690623     371.872026     133.569018   \n",
       "min       100.000000      10.000000       0.000000       0.000000   \n",
       "25%       204.000000      87.000000       3.000000       1.000000   \n",
       "50%       299.000000      87.000000       8.000000       1.000000   \n",
       "75%       330.000000      87.000000      24.000000       3.000000   \n",
       "max       540.000000     102.000000   10286.000000    4685.000000   \n",
       "\n",
       "                  C2             C3             C4             C5  \\\n",
       "count  590540.000000  590540.000000  590540.000000  590540.000000   \n",
       "mean       15.269734       0.005644       4.092185       5.571526   \n",
       "std       154.668899       0.150536      68.848459      25.786976   \n",
       "min         0.000000       0.000000       0.000000       0.000000   \n",
       "25%         1.000000       0.000000       0.000000       0.000000   \n",
       "50%         1.000000       0.000000       0.000000       0.000000   \n",
       "75%         3.000000       0.000000       0.000000       1.000000   \n",
       "max      5691.000000      26.000000    2253.000000     349.000000   \n",
       "\n",
       "                  C6             C7             C8             C9  \\\n",
       "count  590540.000000  590540.000000  590540.000000  590540.000000   \n",
       "mean        9.071082       2.848478       5.144574       4.480240   \n",
       "std        71.508467      61.727304      95.378574      16.674897   \n",
       "min         0.000000       0.000000       0.000000       0.000000   \n",
       "25%         1.000000       0.000000       0.000000       0.000000   \n",
       "50%         1.000000       0.000000       0.000000       1.000000   \n",
       "75%         2.000000       0.000000       0.000000       2.000000   \n",
       "max      2253.000000    2255.000000    3331.000000     210.000000   \n",
       "\n",
       "                 C10            C11            C12            C13  \\\n",
       "count  590540.000000  590540.000000  590540.000000  590540.000000   \n",
       "mean        5.240343      10.241521       4.076227      32.539918   \n",
       "std        95.581443      94.336292      86.666218     129.364844   \n",
       "min         0.000000       0.000000       0.000000       0.000000   \n",
       "25%         0.000000       1.000000       0.000000       1.000000   \n",
       "50%         0.000000       1.000000       0.000000       3.000000   \n",
       "75%         0.000000       2.000000       0.000000      12.000000   \n",
       "max      3257.000000    3188.000000    3188.000000    2918.000000   \n",
       "\n",
       "                 C14  ...           V297           V298           V299  \\\n",
       "count  590540.000000  ...  590528.000000  590528.000000  590528.000000   \n",
       "mean        8.295215  ...       0.089034       0.298829       0.171655   \n",
       "std        49.544262  ...       0.628352       3.175062       1.724218   \n",
       "min         0.000000  ...       0.000000       0.000000       0.000000   \n",
       "25%         1.000000  ...       0.000000       0.000000       0.000000   \n",
       "50%         1.000000  ...       0.000000       0.000000       0.000000   \n",
       "75%         2.000000  ...       0.000000       0.000000       0.000000   \n",
       "max      1429.000000  ...      12.000000      93.000000      49.000000   \n",
       "\n",
       "                V300           V301           V302           V303  \\\n",
       "count  589271.000000  589271.000000  590528.000000  590528.000000   \n",
       "mean        0.045507       0.052002       0.251761       0.283140   \n",
       "std         0.289573       0.318310       0.481889       0.623608   \n",
       "min         0.000000       0.000000       0.000000       0.000000   \n",
       "25%         0.000000       0.000000       0.000000       0.000000   \n",
       "50%         0.000000       0.000000       0.000000       0.000000   \n",
       "75%         0.000000       0.000000       0.000000       0.000000   \n",
       "max        11.000000      13.000000      16.000000      20.000000   \n",
       "\n",
       "                V304           V305           V306           V307  \\\n",
       "count  590528.000000  590528.000000  590528.000000  590528.000000   \n",
       "mean        0.264208       1.000007     139.748713     408.682375   \n",
       "std         0.528238       0.002603    2348.849634    4391.992977   \n",
       "min         0.000000       1.000000       0.000000       0.000000   \n",
       "25%         0.000000       1.000000       0.000000       0.000000   \n",
       "50%         0.000000       1.000000       0.000000       0.000000   \n",
       "75%         0.000000       1.000000       0.000000     151.380680   \n",
       "max        16.000000       2.000000  108800.000000  145765.000000   \n",
       "\n",
       "                V308           V309           V310           V311  \\\n",
       "count  590528.000000  590528.000000  590528.000000  590528.000000   \n",
       "mean      230.413180      10.995986     118.195658       4.202175   \n",
       "std      3021.924247     116.254277     352.983093     102.374938   \n",
       "min         0.000000       0.000000       0.000000       0.000000   \n",
       "25%         0.000000       0.000000       0.000000       0.000000   \n",
       "50%         0.000000       0.000000       0.000000       0.000000   \n",
       "75%        35.970001       0.000000     107.949997       0.000000   \n",
       "max    108800.000000   55125.000000   55125.000000   55125.000000   \n",
       "\n",
       "                V312           V313           V314           V315  \\\n",
       "count  590528.000000  589271.000000  589271.000000  589271.000000   \n",
       "mean       39.173910      21.351473      43.319174      26.806977   \n",
       "std       172.128339      95.902970     173.619028     116.853222   \n",
       "min         0.000000       0.000000       0.000000       0.000000   \n",
       "25%         0.000000       0.000000       0.000000       0.000000   \n",
       "50%         0.000000       0.000000       0.000000       0.000000   \n",
       "75%         0.000000       0.000000       0.000000       0.000000   \n",
       "max     55125.000000    4817.470215    7519.870117    4817.470215   \n",
       "\n",
       "                V316           V317           V318           V319  \\\n",
       "count  590528.000000  590528.000000  590528.000000  590528.000000   \n",
       "mean      109.818544     247.606741     162.153398      18.372476   \n",
       "std      2270.033202    3980.042828    2793.343636     332.304848   \n",
       "min         0.000000       0.000000       0.000000       0.000000   \n",
       "25%         0.000000       0.000000       0.000000       0.000000   \n",
       "50%         0.000000       0.000000       0.000000       0.000000   \n",
       "75%         0.000000       0.000000       0.000000       0.000000   \n",
       "max     93736.000000  134021.000000   98476.000000  104060.000000   \n",
       "\n",
       "                V320           V321  \n",
       "count  590528.000000  590528.000000  \n",
       "mean       42.073133      28.326584  \n",
       "std       473.499307     382.053171  \n",
       "min         0.000000       0.000000  \n",
       "25%         0.000000       0.000000  \n",
       "50%         0.000000       0.000000  \n",
       "75%         0.000000       0.000000  \n",
       "max    104060.000000  104060.000000  \n",
       "\n",
       "[8 rows x 213 columns]"
      ]
     },
     "execution_count": 77,
     "metadata": {},
     "output_type": "execute_result"
    }
   ],
   "source": [
    "df_t.describe()"
   ]
  },
  {
   "cell_type": "code",
   "execution_count": 78,
   "metadata": {},
   "outputs": [
    {
     "data": {
      "text/plain": [
       "0         2987000\n",
       "1         2987001\n",
       "2         2987002\n",
       "3         2987003\n",
       "4         2987004\n",
       "           ...   \n",
       "590535    3577535\n",
       "590536    3577536\n",
       "590537    3577537\n",
       "590538    3577538\n",
       "590539    3577539\n",
       "Name: TransactionID, Length: 590540, dtype: int64"
      ]
     },
     "execution_count": 78,
     "metadata": {},
     "output_type": "execute_result"
    }
   ],
   "source": [
    "df_t['TransactionID']"
   ]
  },
  {
   "cell_type": "markdown",
   "metadata": {},
   "source": [
    "All the transaction IDs are unique. These would only serve to differentiate between rows but every row is itself a distinct transaction. We don't need the unique transaction IDs for the machine learning model but we require it to join the two tables."
   ]
  },
  {
   "cell_type": "code",
   "execution_count": 79,
   "metadata": {},
   "outputs": [
    {
     "data": {
      "text/plain": [
       "0            86400\n",
       "1            86401\n",
       "2            86469\n",
       "3            86499\n",
       "4            86506\n",
       "            ...   \n",
       "590535    15811047\n",
       "590536    15811049\n",
       "590537    15811079\n",
       "590538    15811088\n",
       "590539    15811131\n",
       "Name: TransactionDT, Length: 590540, dtype: int64"
      ]
     },
     "execution_count": 79,
     "metadata": {},
     "output_type": "execute_result"
    }
   ],
   "source": [
    "df_t['TransactionDT']"
   ]
  },
  {
   "cell_type": "markdown",
   "metadata": {},
   "source": [
    "We can see from the first 5 rows that the transaction date is not a sequence of numbers, in fact it seems to be the number of seconds. \n",
    "60x60x24 = 86400 (day 1 ie 0th or first transaction)\n",
    "15811131/(60x60x24) = 182.99920138888888 or the 183rd day or the last transaction over a 6month period\n",
    "Based on the sequence of the values in the feature, the transactionID are recorded based on the time of the transaction which is given in total number of seconds passed since first transaction.\n",
    "1st transaction at 86401 is the transaction that occured exactly 1s after the initial or 0th transaction."
   ]
  },
  {
   "cell_type": "code",
   "execution_count": 97,
   "metadata": {},
   "outputs": [
    {
     "data": {
      "text/plain": [
       "(-31.687, 6387.679]       590537\n",
       "(25549.963, 31937.391]         2\n",
       "(6387.679, 12775.107]          1\n",
       "(19162.535, 25549.963]         0\n",
       "(12775.107, 19162.535]         0\n",
       "Name: TransactionAmt, dtype: int64"
      ]
     },
     "execution_count": 97,
     "metadata": {},
     "output_type": "execute_result"
    }
   ],
   "source": [
    "df_t['TransactionAmt'].value_counts(bins=5)"
   ]
  },
  {
   "cell_type": "markdown",
   "metadata": {},
   "source": [
    "Bins = 50 ; rest were all bins with no datapoints lying inside\n",
    "\n",
    "(-31.687, 638.994] 575463\n",
    "\n",
    "(638.994, 1277.737] 10290\n",
    "\n",
    "(1277.737, 1916.479] 2556\n",
    "\n",
    "(1916.479, 2555.222] 1367\n",
    "\n",
    "(2555.222, 3193.965] 651\n",
    "\n",
    "(3193.965, 3832.708] 101\n",
    "\n",
    "(3832.708, 4471.451] 72\n",
    "\n",
    "(4471.451, 5110.193] 25\n",
    "\n",
    "(5110.193, 5748.936] 11\n",
    "\n",
    "(31298.648, 31937.391] 2\n",
    "\n",
    "(5748.936, 6387.679] 1\n",
    "\n",
    "(6387.679, 7026.422] 1"
   ]
  },
  {
   "cell_type": "code",
   "execution_count": 80,
   "metadata": {},
   "outputs": [
    {
     "data": {
      "text/plain": [
       "<matplotlib.axes._subplots.AxesSubplot at 0x222b5677400>"
      ]
     },
     "execution_count": 80,
     "metadata": {},
     "output_type": "execute_result"
    },
    {
     "data": {
      "image/png": "[encoded data removed]",
      "text/plain": [
       "<Figure size 864x576 with 1 Axes>"
      ]
     },
     "metadata": {
      "needs_background": "light"
     },
     "output_type": "display_data"
    }
   ],
   "source": [
    "#df_t['TransactionAmt']\n",
    "fig, ax = mplt.subplots(figsize=(12,8))\n",
    "sn.distplot(df_t.TransactionAmt)"
   ]
  },
  {
   "cell_type": "code",
   "execution_count": 81,
   "metadata": {},
   "outputs": [
    {
     "data": {
      "image/png": "[encoded data removed]",
      "text/plain": [
       "<Figure size 864x576 with 1 Axes>"
      ]
     },
     "metadata": {
      "needs_background": "light"
     },
     "output_type": "display_data"
    }
   ],
   "source": [
    "mplt.figure(figsize=(12,8))\n",
    "df_t.boxplot('TransactionAmt')\n",
    "mplt.show()"
   ]
  },
  {
   "cell_type": "markdown",
   "metadata": {},
   "source": [
    "We can see from .describe function, boxplot and the distplot that the transaction amounts lie between 0.25 dollars and 31937.4 dollars.\n",
    "We will have to use the 'isFraud' target variable with this to differentiate the transaction amount for legitimate and fraudulent transactions."
   ]
  },
  {
   "cell_type": "code",
   "execution_count": 82,
   "metadata": {},
   "outputs": [
    {
     "data": {
      "image/png": "[encoded data removed]",
      "text/plain": [
       "<Figure size 620.125x576 with 1 Axes>"
      ]
     },
     "metadata": {
      "needs_background": "light"
     },
     "output_type": "display_data"
    }
   ],
   "source": [
    "sn.FacetGrid(df_t, hue='isFraud' , height=8) \\\n",
    "   .map(sn.distplot, \"TransactionAmt\") \\\n",
    "   .add_legend();\n",
    "mplt.show();"
   ]
  },
  {
   "cell_type": "code",
   "execution_count": 83,
   "metadata": {},
   "outputs": [
    {
     "data": {
      "image/png": "[encoded data removed]",
      "text/plain": [
       "<Figure size 864x576 with 1 Axes>"
      ]
     },
     "metadata": {
      "needs_background": "light"
     },
     "output_type": "display_data"
    }
   ],
   "source": [
    "mplt.figure(figsize=(12,8))\n",
    "df_t.boxplot('card1')\n",
    "mplt.show()"
   ]
  },
  {
   "cell_type": "code",
   "execution_count": 84,
   "metadata": {},
   "outputs": [
    {
     "data": {
      "image/png": "[encoded data removed]",
      "text/plain": [
       "<Figure size 864x576 with 1 Axes>"
      ]
     },
     "metadata": {
      "needs_background": "light"
     },
     "output_type": "display_data"
    }
   ],
   "source": [
    "mplt.figure(figsize=(12,8))\n",
    "df_t.boxplot('card2')\n",
    "mplt.show()"
   ]
  },
  {
   "cell_type": "code",
   "execution_count": 85,
   "metadata": {},
   "outputs": [
    {
     "data": {
      "image/png": "[encoded data removed]",
      "text/plain": [
       "<Figure size 864x576 with 1 Axes>"
      ]
     },
     "metadata": {
      "needs_background": "light"
     },
     "output_type": "display_data"
    }
   ],
   "source": [
    "mplt.figure(figsize=(12,8))\n",
    "df_t.boxplot('card3')\n",
    "mplt.show()"
   ]
  },
  {
   "cell_type": "code",
   "execution_count": 86,
   "metadata": {},
   "outputs": [
    {
     "data": {
      "image/png": "[encoded data removed]",
      "text/plain": [
       "<Figure size 864x576 with 1 Axes>"
      ]
     },
     "metadata": {
      "needs_background": "light"
     },
     "output_type": "display_data"
    }
   ],
   "source": [
    "mplt.figure(figsize=(12,8))\n",
    "df_t.boxplot('card5')\n",
    "mplt.show()"
   ]
  },
  {
   "cell_type": "markdown",
   "metadata": {},
   "source": [
    "Of the remaining 225 columns, 213 are numerical and 12 are categorical:\n",
    "ProductCD, card4 and card6, addr1 and 2, M1 to M9"
   ]
  },
  {
   "cell_type": "code",
   "execution_count": 87,
   "metadata": {},
   "outputs": [
    {
     "data": {
      "text/plain": [
       "visa                384767\n",
       "mastercard          189217\n",
       "american express      8328\n",
       "discover              6651\n",
       "Name: card4, dtype: int64"
      ]
     },
     "execution_count": 87,
     "metadata": {},
     "output_type": "execute_result"
    }
   ],
   "source": [
    "#card company\n",
    "df_t['card4'].value_counts()"
   ]
  },
  {
   "cell_type": "code",
   "execution_count": 88,
   "metadata": {},
   "outputs": [
    {
     "data": {
      "text/plain": [
       "debit              439938\n",
       "credit             148986\n",
       "debit or credit        30\n",
       "charge card            15\n",
       "Name: card6, dtype: int64"
      ]
     },
     "execution_count": 88,
     "metadata": {},
     "output_type": "execute_result"
    }
   ],
   "source": [
    "#Type of card\n",
    "df_t['card6'].value_counts()"
   ]
  },
  {
   "cell_type": "code",
   "execution_count": 89,
   "metadata": {},
   "outputs": [
    {
     "data": {
      "text/plain": [
       "W    439670\n",
       "C     68519\n",
       "R     37699\n",
       "H     33024\n",
       "S     11628\n",
       "Name: ProductCD, dtype: int64"
      ]
     },
     "execution_count": 89,
     "metadata": {},
     "output_type": "execute_result"
    }
   ],
   "source": [
    "df_t['ProductCD'].value_counts()"
   ]
  },
  {
   "cell_type": "markdown",
   "metadata": {},
   "source": [
    "We can featurize these two features by making a binary vector/array of size = number of categories (4 for both card4 and card6) and (5 for ProductCD)"
   ]
  },
  {
   "cell_type": "code",
   "execution_count": 90,
   "metadata": {},
   "outputs": [
    {
     "data": {
      "image/png": "[encoded data removed]",
      "text/plain": [
       "<Figure size 864x576 with 1 Axes>"
      ]
     },
     "metadata": {
      "needs_background": "light"
     },
     "output_type": "display_data"
    }
   ],
   "source": [
    "mplt.figure(figsize=(12,8))\n",
    "df_t.boxplot('addr1')\n",
    "mplt.show()"
   ]
  },
  {
   "cell_type": "code",
   "execution_count": 91,
   "metadata": {},
   "outputs": [
    {
     "data": {
      "image/png": "[encoded data removed]",
      "text/plain": [
       "<Figure size 864x576 with 1 Axes>"
      ]
     },
     "metadata": {
      "needs_background": "light"
     },
     "output_type": "display_data"
    }
   ],
   "source": [
    "mplt.figure(figsize=(12,8))\n",
    "df_t.boxplot('addr2')\n",
    "mplt.show()"
   ]
  },
  {
   "cell_type": "code",
   "execution_count": 92,
   "metadata": {},
   "outputs": [
    {
     "data": {
      "text/plain": [
       "(79.0, 102.0]    521164\n",
       "(56.0, 79.0]       3266\n",
       "(9.907, 33.0]       332\n",
       "(33.0, 56.0]         72\n",
       "Name: addr2, dtype: int64"
      ]
     },
     "execution_count": 92,
     "metadata": {},
     "output_type": "execute_result"
    }
   ],
   "source": [
    "df_t['addr2'].value_counts(bins=4)"
   ]
  },
  {
   "cell_type": "markdown",
   "metadata": {},
   "source": [
    "Both addr1 and addr2 are not categorical. We can also see the range of addr2 using bins parameter in value_counts() since there seem to be a lot of values seem to lie below the min ( q1 - IQR*1.5)\n",
    "\n",
    "Moving onto the features dist1 and dist2. Both have a large number of missing values dist1 -> 59.6523520845328 %\n",
    "dist2 -> 93.62837403054831 %"
   ]
  },
  {
   "cell_type": "code",
   "execution_count": 93,
   "metadata": {},
   "outputs": [
    {
     "data": {
      "text/plain": [
       "(-10.286999999999999, 2571.5]    237837\n",
       "(2571.5, 5143.0]                    420\n",
       "(5143.0, 7714.5]                      9\n",
       "(7714.5, 10286.0]                     3\n",
       "Name: dist1, dtype: int64"
      ]
     },
     "execution_count": 93,
     "metadata": {},
     "output_type": "execute_result"
    }
   ],
   "source": [
    "df_t['dist1'].value_counts(bins=4)"
   ]
  },
  {
   "cell_type": "markdown",
   "metadata": {},
   "source": [
    "# Merge the two tables"
   ]
  },
  {
   "cell_type": "code",
   "execution_count": 94,
   "metadata": {},
   "outputs": [],
   "source": [
    "train_set = df_t.merge(df_i, on='TransactionID', how='left')"
   ]
  },
  {
   "cell_type": "code",
   "execution_count": 95,
   "metadata": {},
   "outputs": [
    {
     "data": {
      "text/plain": [
       "(590540, 249)"
      ]
     },
     "execution_count": 95,
     "metadata": {},
     "output_type": "execute_result"
    }
   ],
   "source": [
    "train_set.shape"
   ]
  },
  {
   "cell_type": "code",
   "execution_count": 96,
   "metadata": {},
   "outputs": [
    {
     "data": {
      "text/html": [
       "<div>\n",
       "<style scoped>\n",
       "    .dataframe tbody tr th:only-of-type {\n",
       "        vertical-align: middle;\n",
       "    }\n",
       "\n",
       "    .dataframe tbody tr th {\n",
       "        vertical-align: top;\n",
       "    }\n",
       "\n",
       "    .dataframe thead th {\n",
       "        text-align: right;\n",
       "    }\n",
       "</style>\n",
       "<table border=\"1\" class=\"dataframe\">\n",
       "  <thead>\n",
       "    <tr style=\"text-align: right;\">\n",
       "      <th></th>\n",
       "      <th>TransactionID</th>\n",
       "      <th>isFraud</th>\n",
       "      <th>TransactionDT</th>\n",
       "      <th>TransactionAmt</th>\n",
       "      <th>ProductCD</th>\n",
       "      <th>card1</th>\n",
       "      <th>card2</th>\n",
       "      <th>card3</th>\n",
       "      <th>card4</th>\n",
       "      <th>card5</th>\n",
       "      <th>card6</th>\n",
       "      <th>addr1</th>\n",
       "      <th>addr2</th>\n",
       "      <th>dist1</th>\n",
       "      <th>C1</th>\n",
       "      <th>C2</th>\n",
       "      <th>C3</th>\n",
       "      <th>C4</th>\n",
       "      <th>C5</th>\n",
       "      <th>C6</th>\n",
       "      <th>C7</th>\n",
       "      <th>C8</th>\n",
       "      <th>C9</th>\n",
       "      <th>C10</th>\n",
       "      <th>C11</th>\n",
       "      <th>...</th>\n",
       "      <th>V321</th>\n",
       "      <th>id_01</th>\n",
       "      <th>id_02</th>\n",
       "      <th>id_03</th>\n",
       "      <th>id_04</th>\n",
       "      <th>id_05</th>\n",
       "      <th>id_06</th>\n",
       "      <th>id_09</th>\n",
       "      <th>id_10</th>\n",
       "      <th>id_11</th>\n",
       "      <th>id_12</th>\n",
       "      <th>id_13</th>\n",
       "      <th>id_14</th>\n",
       "      <th>id_15</th>\n",
       "      <th>id_16</th>\n",
       "      <th>id_17</th>\n",
       "      <th>id_18</th>\n",
       "      <th>id_19</th>\n",
       "      <th>id_20</th>\n",
       "      <th>id_28</th>\n",
       "      <th>id_29</th>\n",
       "      <th>id_32</th>\n",
       "      <th>id_35</th>\n",
       "      <th>id_38</th>\n",
       "      <th>DeviceType</th>\n",
       "    </tr>\n",
       "  </thead>\n",
       "  <tbody>\n",
       "    <tr>\n",
       "      <th>0</th>\n",
       "      <td>2987000</td>\n",
       "      <td>0</td>\n",
       "      <td>86400</td>\n",
       "      <td>68.50</td>\n",
       "      <td>W</td>\n",
       "      <td>13926</td>\n",
       "      <td>NaN</td>\n",
       "      <td>150.0</td>\n",
       "      <td>discover</td>\n",
       "      <td>142.0</td>\n",
       "      <td>credit</td>\n",
       "      <td>315.0</td>\n",
       "      <td>87.0</td>\n",
       "      <td>19.0</td>\n",
       "      <td>1.0</td>\n",
       "      <td>1.0</td>\n",
       "      <td>0.0</td>\n",
       "      <td>0.0</td>\n",
       "      <td>0.0</td>\n",
       "      <td>1.0</td>\n",
       "      <td>0.0</td>\n",
       "      <td>0.0</td>\n",
       "      <td>1.0</td>\n",
       "      <td>0.0</td>\n",
       "      <td>2.0</td>\n",
       "      <td>...</td>\n",
       "      <td>0.000000</td>\n",
       "      <td>NaN</td>\n",
       "      <td>NaN</td>\n",
       "      <td>NaN</td>\n",
       "      <td>NaN</td>\n",
       "      <td>NaN</td>\n",
       "      <td>NaN</td>\n",
       "      <td>NaN</td>\n",
       "      <td>NaN</td>\n",
       "      <td>NaN</td>\n",
       "      <td>NaN</td>\n",
       "      <td>NaN</td>\n",
       "      <td>NaN</td>\n",
       "      <td>NaN</td>\n",
       "      <td>NaN</td>\n",
       "      <td>NaN</td>\n",
       "      <td>NaN</td>\n",
       "      <td>NaN</td>\n",
       "      <td>NaN</td>\n",
       "      <td>NaN</td>\n",
       "      <td>NaN</td>\n",
       "      <td>NaN</td>\n",
       "      <td>NaN</td>\n",
       "      <td>NaN</td>\n",
       "      <td>NaN</td>\n",
       "    </tr>\n",
       "    <tr>\n",
       "      <th>1</th>\n",
       "      <td>2987001</td>\n",
       "      <td>0</td>\n",
       "      <td>86401</td>\n",
       "      <td>29.00</td>\n",
       "      <td>W</td>\n",
       "      <td>2755</td>\n",
       "      <td>404.0</td>\n",
       "      <td>150.0</td>\n",
       "      <td>mastercard</td>\n",
       "      <td>102.0</td>\n",
       "      <td>credit</td>\n",
       "      <td>325.0</td>\n",
       "      <td>87.0</td>\n",
       "      <td>NaN</td>\n",
       "      <td>1.0</td>\n",
       "      <td>1.0</td>\n",
       "      <td>0.0</td>\n",
       "      <td>0.0</td>\n",
       "      <td>0.0</td>\n",
       "      <td>1.0</td>\n",
       "      <td>0.0</td>\n",
       "      <td>0.0</td>\n",
       "      <td>0.0</td>\n",
       "      <td>0.0</td>\n",
       "      <td>1.0</td>\n",
       "      <td>...</td>\n",
       "      <td>0.000000</td>\n",
       "      <td>NaN</td>\n",
       "      <td>NaN</td>\n",
       "      <td>NaN</td>\n",
       "      <td>NaN</td>\n",
       "      <td>NaN</td>\n",
       "      <td>NaN</td>\n",
       "      <td>NaN</td>\n",
       "      <td>NaN</td>\n",
       "      <td>NaN</td>\n",
       "      <td>NaN</td>\n",
       "      <td>NaN</td>\n",
       "      <td>NaN</td>\n",
       "      <td>NaN</td>\n",
       "      <td>NaN</td>\n",
       "      <td>NaN</td>\n",
       "      <td>NaN</td>\n",
       "      <td>NaN</td>\n",
       "      <td>NaN</td>\n",
       "      <td>NaN</td>\n",
       "      <td>NaN</td>\n",
       "      <td>NaN</td>\n",
       "      <td>NaN</td>\n",
       "      <td>NaN</td>\n",
       "      <td>NaN</td>\n",
       "    </tr>\n",
       "    <tr>\n",
       "      <th>2</th>\n",
       "      <td>2987002</td>\n",
       "      <td>0</td>\n",
       "      <td>86469</td>\n",
       "      <td>59.00</td>\n",
       "      <td>W</td>\n",
       "      <td>4663</td>\n",
       "      <td>490.0</td>\n",
       "      <td>150.0</td>\n",
       "      <td>visa</td>\n",
       "      <td>166.0</td>\n",
       "      <td>debit</td>\n",
       "      <td>330.0</td>\n",
       "      <td>87.0</td>\n",
       "      <td>287.0</td>\n",
       "      <td>1.0</td>\n",
       "      <td>1.0</td>\n",
       "      <td>0.0</td>\n",
       "      <td>0.0</td>\n",
       "      <td>0.0</td>\n",
       "      <td>1.0</td>\n",
       "      <td>0.0</td>\n",
       "      <td>0.0</td>\n",
       "      <td>1.0</td>\n",
       "      <td>0.0</td>\n",
       "      <td>1.0</td>\n",
       "      <td>...</td>\n",
       "      <td>0.000000</td>\n",
       "      <td>NaN</td>\n",
       "      <td>NaN</td>\n",
       "      <td>NaN</td>\n",
       "      <td>NaN</td>\n",
       "      <td>NaN</td>\n",
       "      <td>NaN</td>\n",
       "      <td>NaN</td>\n",
       "      <td>NaN</td>\n",
       "      <td>NaN</td>\n",
       "      <td>NaN</td>\n",
       "      <td>NaN</td>\n",
       "      <td>NaN</td>\n",
       "      <td>NaN</td>\n",
       "      <td>NaN</td>\n",
       "      <td>NaN</td>\n",
       "      <td>NaN</td>\n",
       "      <td>NaN</td>\n",
       "      <td>NaN</td>\n",
       "      <td>NaN</td>\n",
       "      <td>NaN</td>\n",
       "      <td>NaN</td>\n",
       "      <td>NaN</td>\n",
       "      <td>NaN</td>\n",
       "      <td>NaN</td>\n",
       "    </tr>\n",
       "    <tr>\n",
       "      <th>3</th>\n",
       "      <td>2987003</td>\n",
       "      <td>0</td>\n",
       "      <td>86499</td>\n",
       "      <td>50.00</td>\n",
       "      <td>W</td>\n",
       "      <td>18132</td>\n",
       "      <td>567.0</td>\n",
       "      <td>150.0</td>\n",
       "      <td>mastercard</td>\n",
       "      <td>117.0</td>\n",
       "      <td>debit</td>\n",
       "      <td>476.0</td>\n",
       "      <td>87.0</td>\n",
       "      <td>NaN</td>\n",
       "      <td>2.0</td>\n",
       "      <td>5.0</td>\n",
       "      <td>0.0</td>\n",
       "      <td>0.0</td>\n",
       "      <td>0.0</td>\n",
       "      <td>4.0</td>\n",
       "      <td>0.0</td>\n",
       "      <td>0.0</td>\n",
       "      <td>1.0</td>\n",
       "      <td>0.0</td>\n",
       "      <td>1.0</td>\n",
       "      <td>...</td>\n",
       "      <td>0.000000</td>\n",
       "      <td>NaN</td>\n",
       "      <td>NaN</td>\n",
       "      <td>NaN</td>\n",
       "      <td>NaN</td>\n",
       "      <td>NaN</td>\n",
       "      <td>NaN</td>\n",
       "      <td>NaN</td>\n",
       "      <td>NaN</td>\n",
       "      <td>NaN</td>\n",
       "      <td>NaN</td>\n",
       "      <td>NaN</td>\n",
       "      <td>NaN</td>\n",
       "      <td>NaN</td>\n",
       "      <td>NaN</td>\n",
       "      <td>NaN</td>\n",
       "      <td>NaN</td>\n",
       "      <td>NaN</td>\n",
       "      <td>NaN</td>\n",
       "      <td>NaN</td>\n",
       "      <td>NaN</td>\n",
       "      <td>NaN</td>\n",
       "      <td>NaN</td>\n",
       "      <td>NaN</td>\n",
       "      <td>NaN</td>\n",
       "    </tr>\n",
       "    <tr>\n",
       "      <th>4</th>\n",
       "      <td>2987004</td>\n",
       "      <td>0</td>\n",
       "      <td>86506</td>\n",
       "      <td>50.00</td>\n",
       "      <td>H</td>\n",
       "      <td>4497</td>\n",
       "      <td>514.0</td>\n",
       "      <td>150.0</td>\n",
       "      <td>mastercard</td>\n",
       "      <td>102.0</td>\n",
       "      <td>credit</td>\n",
       "      <td>420.0</td>\n",
       "      <td>87.0</td>\n",
       "      <td>NaN</td>\n",
       "      <td>1.0</td>\n",
       "      <td>1.0</td>\n",
       "      <td>0.0</td>\n",
       "      <td>0.0</td>\n",
       "      <td>0.0</td>\n",
       "      <td>1.0</td>\n",
       "      <td>0.0</td>\n",
       "      <td>1.0</td>\n",
       "      <td>0.0</td>\n",
       "      <td>1.0</td>\n",
       "      <td>1.0</td>\n",
       "      <td>...</td>\n",
       "      <td>0.000000</td>\n",
       "      <td>0.0</td>\n",
       "      <td>70787.0</td>\n",
       "      <td>NaN</td>\n",
       "      <td>NaN</td>\n",
       "      <td>NaN</td>\n",
       "      <td>NaN</td>\n",
       "      <td>NaN</td>\n",
       "      <td>NaN</td>\n",
       "      <td>100.0</td>\n",
       "      <td>NotFound</td>\n",
       "      <td>NaN</td>\n",
       "      <td>-480.0</td>\n",
       "      <td>New</td>\n",
       "      <td>NotFound</td>\n",
       "      <td>166.0</td>\n",
       "      <td>NaN</td>\n",
       "      <td>542.0</td>\n",
       "      <td>144.0</td>\n",
       "      <td>New</td>\n",
       "      <td>NotFound</td>\n",
       "      <td>32.0</td>\n",
       "      <td>T</td>\n",
       "      <td>T</td>\n",
       "      <td>mobile</td>\n",
       "    </tr>\n",
       "    <tr>\n",
       "      <th>...</th>\n",
       "      <td>...</td>\n",
       "      <td>...</td>\n",
       "      <td>...</td>\n",
       "      <td>...</td>\n",
       "      <td>...</td>\n",
       "      <td>...</td>\n",
       "      <td>...</td>\n",
       "      <td>...</td>\n",
       "      <td>...</td>\n",
       "      <td>...</td>\n",
       "      <td>...</td>\n",
       "      <td>...</td>\n",
       "      <td>...</td>\n",
       "      <td>...</td>\n",
       "      <td>...</td>\n",
       "      <td>...</td>\n",
       "      <td>...</td>\n",
       "      <td>...</td>\n",
       "      <td>...</td>\n",
       "      <td>...</td>\n",
       "      <td>...</td>\n",
       "      <td>...</td>\n",
       "      <td>...</td>\n",
       "      <td>...</td>\n",
       "      <td>...</td>\n",
       "      <td>...</td>\n",
       "      <td>...</td>\n",
       "      <td>...</td>\n",
       "      <td>...</td>\n",
       "      <td>...</td>\n",
       "      <td>...</td>\n",
       "      <td>...</td>\n",
       "      <td>...</td>\n",
       "      <td>...</td>\n",
       "      <td>...</td>\n",
       "      <td>...</td>\n",
       "      <td>...</td>\n",
       "      <td>...</td>\n",
       "      <td>...</td>\n",
       "      <td>...</td>\n",
       "      <td>...</td>\n",
       "      <td>...</td>\n",
       "      <td>...</td>\n",
       "      <td>...</td>\n",
       "      <td>...</td>\n",
       "      <td>...</td>\n",
       "      <td>...</td>\n",
       "      <td>...</td>\n",
       "      <td>...</td>\n",
       "      <td>...</td>\n",
       "      <td>...</td>\n",
       "    </tr>\n",
       "    <tr>\n",
       "      <th>590535</th>\n",
       "      <td>3577535</td>\n",
       "      <td>0</td>\n",
       "      <td>15811047</td>\n",
       "      <td>49.00</td>\n",
       "      <td>W</td>\n",
       "      <td>6550</td>\n",
       "      <td>NaN</td>\n",
       "      <td>150.0</td>\n",
       "      <td>visa</td>\n",
       "      <td>226.0</td>\n",
       "      <td>debit</td>\n",
       "      <td>272.0</td>\n",
       "      <td>87.0</td>\n",
       "      <td>48.0</td>\n",
       "      <td>2.0</td>\n",
       "      <td>1.0</td>\n",
       "      <td>0.0</td>\n",
       "      <td>0.0</td>\n",
       "      <td>1.0</td>\n",
       "      <td>0.0</td>\n",
       "      <td>0.0</td>\n",
       "      <td>0.0</td>\n",
       "      <td>2.0</td>\n",
       "      <td>0.0</td>\n",
       "      <td>1.0</td>\n",
       "      <td>...</td>\n",
       "      <td>0.000000</td>\n",
       "      <td>NaN</td>\n",
       "      <td>NaN</td>\n",
       "      <td>NaN</td>\n",
       "      <td>NaN</td>\n",
       "      <td>NaN</td>\n",
       "      <td>NaN</td>\n",
       "      <td>NaN</td>\n",
       "      <td>NaN</td>\n",
       "      <td>NaN</td>\n",
       "      <td>NaN</td>\n",
       "      <td>NaN</td>\n",
       "      <td>NaN</td>\n",
       "      <td>NaN</td>\n",
       "      <td>NaN</td>\n",
       "      <td>NaN</td>\n",
       "      <td>NaN</td>\n",
       "      <td>NaN</td>\n",
       "      <td>NaN</td>\n",
       "      <td>NaN</td>\n",
       "      <td>NaN</td>\n",
       "      <td>NaN</td>\n",
       "      <td>NaN</td>\n",
       "      <td>NaN</td>\n",
       "      <td>NaN</td>\n",
       "    </tr>\n",
       "    <tr>\n",
       "      <th>590536</th>\n",
       "      <td>3577536</td>\n",
       "      <td>0</td>\n",
       "      <td>15811049</td>\n",
       "      <td>39.50</td>\n",
       "      <td>W</td>\n",
       "      <td>10444</td>\n",
       "      <td>225.0</td>\n",
       "      <td>150.0</td>\n",
       "      <td>mastercard</td>\n",
       "      <td>224.0</td>\n",
       "      <td>debit</td>\n",
       "      <td>204.0</td>\n",
       "      <td>87.0</td>\n",
       "      <td>NaN</td>\n",
       "      <td>1.0</td>\n",
       "      <td>1.0</td>\n",
       "      <td>0.0</td>\n",
       "      <td>0.0</td>\n",
       "      <td>0.0</td>\n",
       "      <td>1.0</td>\n",
       "      <td>0.0</td>\n",
       "      <td>0.0</td>\n",
       "      <td>1.0</td>\n",
       "      <td>0.0</td>\n",
       "      <td>1.0</td>\n",
       "      <td>...</td>\n",
       "      <td>0.000000</td>\n",
       "      <td>NaN</td>\n",
       "      <td>NaN</td>\n",
       "      <td>NaN</td>\n",
       "      <td>NaN</td>\n",
       "      <td>NaN</td>\n",
       "      <td>NaN</td>\n",
       "      <td>NaN</td>\n",
       "      <td>NaN</td>\n",
       "      <td>NaN</td>\n",
       "      <td>NaN</td>\n",
       "      <td>NaN</td>\n",
       "      <td>NaN</td>\n",
       "      <td>NaN</td>\n",
       "      <td>NaN</td>\n",
       "      <td>NaN</td>\n",
       "      <td>NaN</td>\n",
       "      <td>NaN</td>\n",
       "      <td>NaN</td>\n",
       "      <td>NaN</td>\n",
       "      <td>NaN</td>\n",
       "      <td>NaN</td>\n",
       "      <td>NaN</td>\n",
       "      <td>NaN</td>\n",
       "      <td>NaN</td>\n",
       "    </tr>\n",
       "    <tr>\n",
       "      <th>590537</th>\n",
       "      <td>3577537</td>\n",
       "      <td>0</td>\n",
       "      <td>15811079</td>\n",
       "      <td>30.95</td>\n",
       "      <td>W</td>\n",
       "      <td>12037</td>\n",
       "      <td>595.0</td>\n",
       "      <td>150.0</td>\n",
       "      <td>mastercard</td>\n",
       "      <td>224.0</td>\n",
       "      <td>debit</td>\n",
       "      <td>231.0</td>\n",
       "      <td>87.0</td>\n",
       "      <td>NaN</td>\n",
       "      <td>1.0</td>\n",
       "      <td>1.0</td>\n",
       "      <td>0.0</td>\n",
       "      <td>0.0</td>\n",
       "      <td>1.0</td>\n",
       "      <td>1.0</td>\n",
       "      <td>0.0</td>\n",
       "      <td>0.0</td>\n",
       "      <td>1.0</td>\n",
       "      <td>0.0</td>\n",
       "      <td>1.0</td>\n",
       "      <td>...</td>\n",
       "      <td>0.000000</td>\n",
       "      <td>NaN</td>\n",
       "      <td>NaN</td>\n",
       "      <td>NaN</td>\n",
       "      <td>NaN</td>\n",
       "      <td>NaN</td>\n",
       "      <td>NaN</td>\n",
       "      <td>NaN</td>\n",
       "      <td>NaN</td>\n",
       "      <td>NaN</td>\n",
       "      <td>NaN</td>\n",
       "      <td>NaN</td>\n",
       "      <td>NaN</td>\n",
       "      <td>NaN</td>\n",
       "      <td>NaN</td>\n",
       "      <td>NaN</td>\n",
       "      <td>NaN</td>\n",
       "      <td>NaN</td>\n",
       "      <td>NaN</td>\n",
       "      <td>NaN</td>\n",
       "      <td>NaN</td>\n",
       "      <td>NaN</td>\n",
       "      <td>NaN</td>\n",
       "      <td>NaN</td>\n",
       "      <td>NaN</td>\n",
       "    </tr>\n",
       "    <tr>\n",
       "      <th>590538</th>\n",
       "      <td>3577538</td>\n",
       "      <td>0</td>\n",
       "      <td>15811088</td>\n",
       "      <td>117.00</td>\n",
       "      <td>W</td>\n",
       "      <td>7826</td>\n",
       "      <td>481.0</td>\n",
       "      <td>150.0</td>\n",
       "      <td>mastercard</td>\n",
       "      <td>224.0</td>\n",
       "      <td>debit</td>\n",
       "      <td>387.0</td>\n",
       "      <td>87.0</td>\n",
       "      <td>3.0</td>\n",
       "      <td>1.0</td>\n",
       "      <td>1.0</td>\n",
       "      <td>0.0</td>\n",
       "      <td>0.0</td>\n",
       "      <td>0.0</td>\n",
       "      <td>3.0</td>\n",
       "      <td>0.0</td>\n",
       "      <td>0.0</td>\n",
       "      <td>2.0</td>\n",
       "      <td>0.0</td>\n",
       "      <td>1.0</td>\n",
       "      <td>...</td>\n",
       "      <td>0.000000</td>\n",
       "      <td>NaN</td>\n",
       "      <td>NaN</td>\n",
       "      <td>NaN</td>\n",
       "      <td>NaN</td>\n",
       "      <td>NaN</td>\n",
       "      <td>NaN</td>\n",
       "      <td>NaN</td>\n",
       "      <td>NaN</td>\n",
       "      <td>NaN</td>\n",
       "      <td>NaN</td>\n",
       "      <td>NaN</td>\n",
       "      <td>NaN</td>\n",
       "      <td>NaN</td>\n",
       "      <td>NaN</td>\n",
       "      <td>NaN</td>\n",
       "      <td>NaN</td>\n",
       "      <td>NaN</td>\n",
       "      <td>NaN</td>\n",
       "      <td>NaN</td>\n",
       "      <td>NaN</td>\n",
       "      <td>NaN</td>\n",
       "      <td>NaN</td>\n",
       "      <td>NaN</td>\n",
       "      <td>NaN</td>\n",
       "    </tr>\n",
       "    <tr>\n",
       "      <th>590539</th>\n",
       "      <td>3577539</td>\n",
       "      <td>0</td>\n",
       "      <td>15811131</td>\n",
       "      <td>279.95</td>\n",
       "      <td>W</td>\n",
       "      <td>15066</td>\n",
       "      <td>170.0</td>\n",
       "      <td>150.0</td>\n",
       "      <td>mastercard</td>\n",
       "      <td>102.0</td>\n",
       "      <td>credit</td>\n",
       "      <td>299.0</td>\n",
       "      <td>87.0</td>\n",
       "      <td>NaN</td>\n",
       "      <td>2.0</td>\n",
       "      <td>1.0</td>\n",
       "      <td>0.0</td>\n",
       "      <td>0.0</td>\n",
       "      <td>1.0</td>\n",
       "      <td>1.0</td>\n",
       "      <td>0.0</td>\n",
       "      <td>0.0</td>\n",
       "      <td>2.0</td>\n",
       "      <td>0.0</td>\n",
       "      <td>1.0</td>\n",
       "      <td>...</td>\n",
       "      <td>279.950012</td>\n",
       "      <td>NaN</td>\n",
       "      <td>NaN</td>\n",
       "      <td>NaN</td>\n",
       "      <td>NaN</td>\n",
       "      <td>NaN</td>\n",
       "      <td>NaN</td>\n",
       "      <td>NaN</td>\n",
       "      <td>NaN</td>\n",
       "      <td>NaN</td>\n",
       "      <td>NaN</td>\n",
       "      <td>NaN</td>\n",
       "      <td>NaN</td>\n",
       "      <td>NaN</td>\n",
       "      <td>NaN</td>\n",
       "      <td>NaN</td>\n",
       "      <td>NaN</td>\n",
       "      <td>NaN</td>\n",
       "      <td>NaN</td>\n",
       "      <td>NaN</td>\n",
       "      <td>NaN</td>\n",
       "      <td>NaN</td>\n",
       "      <td>NaN</td>\n",
       "      <td>NaN</td>\n",
       "      <td>NaN</td>\n",
       "    </tr>\n",
       "  </tbody>\n",
       "</table>\n",
       "<p>590540 rows × 249 columns</p>\n",
       "</div>"
      ],
      "text/plain": [
       "        TransactionID  isFraud  TransactionDT  TransactionAmt ProductCD  \\\n",
       "0             2987000        0          86400           68.50         W   \n",
       "1             2987001        0          86401           29.00         W   \n",
       "2             2987002        0          86469           59.00         W   \n",
       "3             2987003        0          86499           50.00         W   \n",
       "4             2987004        0          86506           50.00         H   \n",
       "...               ...      ...            ...             ...       ...   \n",
       "590535        3577535        0       15811047           49.00         W   \n",
       "590536        3577536        0       15811049           39.50         W   \n",
       "590537        3577537        0       15811079           30.95         W   \n",
       "590538        3577538        0       15811088          117.00         W   \n",
       "590539        3577539        0       15811131          279.95         W   \n",
       "\n",
       "        card1  card2  card3       card4  card5   card6  addr1  addr2  dist1  \\\n",
       "0       13926    NaN  150.0    discover  142.0  credit  315.0   87.0   19.0   \n",
       "1        2755  404.0  150.0  mastercard  102.0  credit  325.0   87.0    NaN   \n",
       "2        4663  490.0  150.0        visa  166.0   debit  330.0   87.0  287.0   \n",
       "3       18132  567.0  150.0  mastercard  117.0   debit  476.0   87.0    NaN   \n",
       "4        4497  514.0  150.0  mastercard  102.0  credit  420.0   87.0    NaN   \n",
       "...       ...    ...    ...         ...    ...     ...    ...    ...    ...   \n",
       "590535   6550    NaN  150.0        visa  226.0   debit  272.0   87.0   48.0   \n",
       "590536  10444  225.0  150.0  mastercard  224.0   debit  204.0   87.0    NaN   \n",
       "590537  12037  595.0  150.0  mastercard  224.0   debit  231.0   87.0    NaN   \n",
       "590538   7826  481.0  150.0  mastercard  224.0   debit  387.0   87.0    3.0   \n",
       "590539  15066  170.0  150.0  mastercard  102.0  credit  299.0   87.0    NaN   \n",
       "\n",
       "         C1   C2   C3   C4   C5   C6   C7   C8   C9  C10  C11  ...  \\\n",
       "0       1.0  1.0  0.0  0.0  0.0  1.0  0.0  0.0  1.0  0.0  2.0  ...   \n",
       "1       1.0  1.0  0.0  0.0  0.0  1.0  0.0  0.0  0.0  0.0  1.0  ...   \n",
       "2       1.0  1.0  0.0  0.0  0.0  1.0  0.0  0.0  1.0  0.0  1.0  ...   \n",
       "3       2.0  5.0  0.0  0.0  0.0  4.0  0.0  0.0  1.0  0.0  1.0  ...   \n",
       "4       1.0  1.0  0.0  0.0  0.0  1.0  0.0  1.0  0.0  1.0  1.0  ...   \n",
       "...     ...  ...  ...  ...  ...  ...  ...  ...  ...  ...  ...  ...   \n",
       "590535  2.0  1.0  0.0  0.0  1.0  0.0  0.0  0.0  2.0  0.0  1.0  ...   \n",
       "590536  1.0  1.0  0.0  0.0  0.0  1.0  0.0  0.0  1.0  0.0  1.0  ...   \n",
       "590537  1.0  1.0  0.0  0.0  1.0  1.0  0.0  0.0  1.0  0.0  1.0  ...   \n",
       "590538  1.0  1.0  0.0  0.0  0.0  3.0  0.0  0.0  2.0  0.0  1.0  ...   \n",
       "590539  2.0  1.0  0.0  0.0  1.0  1.0  0.0  0.0  2.0  0.0  1.0  ...   \n",
       "\n",
       "              V321  id_01    id_02  id_03  id_04  id_05  id_06  id_09  id_10  \\\n",
       "0         0.000000    NaN      NaN    NaN    NaN    NaN    NaN    NaN    NaN   \n",
       "1         0.000000    NaN      NaN    NaN    NaN    NaN    NaN    NaN    NaN   \n",
       "2         0.000000    NaN      NaN    NaN    NaN    NaN    NaN    NaN    NaN   \n",
       "3         0.000000    NaN      NaN    NaN    NaN    NaN    NaN    NaN    NaN   \n",
       "4         0.000000    0.0  70787.0    NaN    NaN    NaN    NaN    NaN    NaN   \n",
       "...            ...    ...      ...    ...    ...    ...    ...    ...    ...   \n",
       "590535    0.000000    NaN      NaN    NaN    NaN    NaN    NaN    NaN    NaN   \n",
       "590536    0.000000    NaN      NaN    NaN    NaN    NaN    NaN    NaN    NaN   \n",
       "590537    0.000000    NaN      NaN    NaN    NaN    NaN    NaN    NaN    NaN   \n",
       "590538    0.000000    NaN      NaN    NaN    NaN    NaN    NaN    NaN    NaN   \n",
       "590539  279.950012    NaN      NaN    NaN    NaN    NaN    NaN    NaN    NaN   \n",
       "\n",
       "        id_11     id_12 id_13  id_14 id_15     id_16  id_17 id_18  id_19  \\\n",
       "0         NaN       NaN   NaN    NaN   NaN       NaN    NaN   NaN    NaN   \n",
       "1         NaN       NaN   NaN    NaN   NaN       NaN    NaN   NaN    NaN   \n",
       "2         NaN       NaN   NaN    NaN   NaN       NaN    NaN   NaN    NaN   \n",
       "3         NaN       NaN   NaN    NaN   NaN       NaN    NaN   NaN    NaN   \n",
       "4       100.0  NotFound   NaN -480.0   New  NotFound  166.0   NaN  542.0   \n",
       "...       ...       ...   ...    ...   ...       ...    ...   ...    ...   \n",
       "590535    NaN       NaN   NaN    NaN   NaN       NaN    NaN   NaN    NaN   \n",
       "590536    NaN       NaN   NaN    NaN   NaN       NaN    NaN   NaN    NaN   \n",
       "590537    NaN       NaN   NaN    NaN   NaN       NaN    NaN   NaN    NaN   \n",
       "590538    NaN       NaN   NaN    NaN   NaN       NaN    NaN   NaN    NaN   \n",
       "590539    NaN       NaN   NaN    NaN   NaN       NaN    NaN   NaN    NaN   \n",
       "\n",
       "        id_20 id_28     id_29  id_32  id_35  id_38  DeviceType  \n",
       "0         NaN   NaN       NaN    NaN    NaN    NaN         NaN  \n",
       "1         NaN   NaN       NaN    NaN    NaN    NaN         NaN  \n",
       "2         NaN   NaN       NaN    NaN    NaN    NaN         NaN  \n",
       "3         NaN   NaN       NaN    NaN    NaN    NaN         NaN  \n",
       "4       144.0   New  NotFound   32.0      T      T      mobile  \n",
       "...       ...   ...       ...    ...    ...    ...         ...  \n",
       "590535    NaN   NaN       NaN    NaN    NaN    NaN         NaN  \n",
       "590536    NaN   NaN       NaN    NaN    NaN    NaN         NaN  \n",
       "590537    NaN   NaN       NaN    NaN    NaN    NaN         NaN  \n",
       "590538    NaN   NaN       NaN    NaN    NaN    NaN         NaN  \n",
       "590539    NaN   NaN       NaN    NaN    NaN    NaN         NaN  \n",
       "\n",
       "[590540 rows x 249 columns]"
      ]
     },
     "execution_count": 96,
     "metadata": {},
     "output_type": "execute_result"
    }
   ],
   "source": [
    "train_set"
   ]
  },
  {
   "cell_type": "markdown",
   "metadata": {},
   "source": [
    "We needed TransactionID only to merge the two tables on. Now we can drop this feature as it won't help in modelling process."
   ]
  },
  {
   "cell_type": "code",
   "execution_count": 98,
   "metadata": {},
   "outputs": [
    {
     "data": {
      "text/plain": [
       "0         2987000\n",
       "1         2987001\n",
       "2         2987002\n",
       "3         2987003\n",
       "4         2987004\n",
       "           ...   \n",
       "590535    3577535\n",
       "590536    3577536\n",
       "590537    3577537\n",
       "590538    3577538\n",
       "590539    3577539\n",
       "Name: TransactionID, Length: 590540, dtype: int64"
      ]
     },
     "execution_count": 98,
     "metadata": {},
     "output_type": "execute_result"
    }
   ],
   "source": [
    "train_set.pop('TransactionID')"
   ]
  },
  {
   "cell_type": "markdown",
   "metadata": {},
   "source": [
    "The column 'Unnamed' was just an indexing column created s a result of merging two different datasets using 'TransactionID' which was the common feature (left join using TransactionID). Now we can remove these features since they were only part of the data to uniquely identity each row/transaction. We know that each row is a unique datapoint hence we can drop these 2 features."
   ]
  },
  {
   "cell_type": "markdown",
   "metadata": {},
   "source": [
    "## Drop categorical features"
   ]
  },
  {
   "cell_type": "code",
   "execution_count": 99,
   "metadata": {},
   "outputs": [
    {
     "data": {
      "text/plain": [
       "isFraud             int64\n",
       "TransactionDT       int64\n",
       "TransactionAmt    float64\n",
       "ProductCD          object\n",
       "card1               int64\n",
       "                   ...   \n",
       "id_29              object\n",
       "id_32             float64\n",
       "id_35              object\n",
       "id_38              object\n",
       "DeviceType         object\n",
       "Length: 248, dtype: object"
      ]
     },
     "execution_count": 99,
     "metadata": {},
     "output_type": "execute_result"
    }
   ],
   "source": [
    "featype = train_set.dtypes\n",
    "\n",
    "featype"
   ]
  },
  {
   "cell_type": "code",
   "execution_count": 100,
   "metadata": {},
   "outputs": [
    {
     "data": {
      "text/plain": [
       "dtype('O')"
      ]
     },
     "execution_count": 100,
     "metadata": {},
     "output_type": "execute_result"
    }
   ],
   "source": [
    "train_set['card4'].dtypes"
   ]
  },
  {
   "cell_type": "code",
   "execution_count": 101,
   "metadata": {},
   "outputs": [],
   "source": [
    "# Find the categorical features so that we can drop them for now\n",
    "# Run a baseline imputer and LogReg on the dataset with only numerical features\n",
    "\n",
    "cat_feat =[]\n",
    "\n",
    "for column in train_set:\n",
    "    if train_set[column].dtypes == 'O':\n",
    "        cat_feat.append(column)"
   ]
  },
  {
   "cell_type": "code",
   "execution_count": 102,
   "metadata": {},
   "outputs": [
    {
     "data": {
      "text/plain": [
       "['ProductCD',\n",
       " 'card4',\n",
       " 'card6',\n",
       " 'M1',\n",
       " 'M2',\n",
       " 'M3',\n",
       " 'M4',\n",
       " 'M5',\n",
       " 'M6',\n",
       " 'M7',\n",
       " 'M8',\n",
       " 'M9',\n",
       " 'id_12',\n",
       " 'id_15',\n",
       " 'id_16',\n",
       " 'id_28',\n",
       " 'id_29',\n",
       " 'id_35',\n",
       " 'id_38',\n",
       " 'DeviceType']"
      ]
     },
     "execution_count": 102,
     "metadata": {},
     "output_type": "execute_result"
    }
   ],
   "source": [
    "cat_feat"
   ]
  },
  {
   "cell_type": "code",
   "execution_count": 103,
   "metadata": {},
   "outputs": [],
   "source": [
    "# we will drop these categorical features now \n",
    "# numerical features dataframe\n",
    "\n",
    "numtrain = train_set.drop(columns = cat_feat)"
   ]
  },
  {
   "cell_type": "markdown",
   "metadata": {},
   "source": [
    "## Fill in empty/NaN values"
   ]
  },
  {
   "cell_type": "code",
   "execution_count": 104,
   "metadata": {},
   "outputs": [
    {
     "name": "stdout",
     "output_type": "stream",
     "text": [
      "isFraud -> 0.0 %\n",
      "TransactionDT -> 0.0 %\n",
      "TransactionAmt -> 0.0 %\n",
      "card1 -> 0.0 %\n",
      "card2 -> 1.5126833068039423 %\n",
      "card3 -> 0.26501168422122123 %\n",
      "card5 -> 0.7212043214684865 %\n",
      "addr1 -> 11.12642666034477 %\n",
      "addr2 -> 11.12642666034477 %\n",
      "dist1 -> 59.6523520845328 %\n",
      "C1 -> 0.0 %\n",
      "C2 -> 0.0 %\n",
      "C3 -> 0.0 %\n",
      "C4 -> 0.0 %\n",
      "C5 -> 0.0 %\n",
      "C6 -> 0.0 %\n",
      "C7 -> 0.0 %\n",
      "C8 -> 0.0 %\n",
      "C9 -> 0.0 %\n",
      "C10 -> 0.0 %\n",
      "C11 -> 0.0 %\n",
      "C12 -> 0.0 %\n",
      "C13 -> 0.0 %\n",
      "C14 -> 0.0 %\n",
      "D1 -> 0.21488806854743117 %\n",
      "D2 -> 47.54919226470688 %\n",
      "D3 -> 44.514850814508755 %\n",
      "D4 -> 28.604666915026925 %\n",
      "D5 -> 52.46740271615809 %\n",
      "D10 -> 12.873302401192129 %\n",
      "D11 -> 47.29349409015477 %\n",
      "D15 -> 15.090087038981272 %\n",
      "V1 -> 47.29349409015477 %\n",
      "V2 -> 47.29349409015477 %\n",
      "V3 -> 47.29349409015477 %\n",
      "V4 -> 47.29349409015477 %\n",
      "V5 -> 47.29349409015477 %\n",
      "V6 -> 47.29349409015477 %\n",
      "V7 -> 47.29349409015477 %\n",
      "V8 -> 47.29349409015477 %\n",
      "V9 -> 47.29349409015477 %\n",
      "V10 -> 47.29349409015477 %\n",
      "V11 -> 47.29349409015477 %\n",
      "V12 -> 12.881938564703491 %\n",
      "V13 -> 12.881938564703491 %\n",
      "V14 -> 12.881938564703491 %\n",
      "V15 -> 12.881938564703491 %\n",
      "V16 -> 12.881938564703491 %\n",
      "V17 -> 12.881938564703491 %\n",
      "V18 -> 12.881938564703491 %\n",
      "V19 -> 12.881938564703491 %\n",
      "V20 -> 12.881938564703491 %\n",
      "V21 -> 12.881938564703491 %\n",
      "V22 -> 12.881938564703491 %\n",
      "V23 -> 12.881938564703491 %\n",
      "V24 -> 12.881938564703491 %\n",
      "V25 -> 12.881938564703491 %\n",
      "V26 -> 12.881938564703491 %\n",
      "V27 -> 12.881938564703491 %\n",
      "V28 -> 12.881938564703491 %\n",
      "V29 -> 12.881938564703491 %\n",
      "V30 -> 12.881938564703491 %\n",
      "V31 -> 12.881938564703491 %\n",
      "V32 -> 12.881938564703491 %\n",
      "V33 -> 12.881938564703491 %\n",
      "V34 -> 12.881938564703491 %\n",
      "V35 -> 28.612625732380533 %\n",
      "V36 -> 28.612625732380533 %\n",
      "V37 -> 28.612625732380533 %\n",
      "V38 -> 28.612625732380533 %\n",
      "V39 -> 28.612625732380533 %\n",
      "V40 -> 28.612625732380533 %\n",
      "V41 -> 28.612625732380533 %\n",
      "V42 -> 28.612625732380533 %\n",
      "V43 -> 28.612625732380533 %\n",
      "V44 -> 28.612625732380533 %\n",
      "V45 -> 28.612625732380533 %\n",
      "V46 -> 28.612625732380533 %\n",
      "V47 -> 28.612625732380533 %\n",
      "V48 -> 28.612625732380533 %\n",
      "V49 -> 28.612625732380533 %\n",
      "V50 -> 28.612625732380533 %\n",
      "V51 -> 28.612625732380533 %\n",
      "V52 -> 28.612625732380533 %\n",
      "V53 -> 13.055169844549058 %\n",
      "V54 -> 13.055169844549058 %\n",
      "V55 -> 13.055169844549058 %\n",
      "V56 -> 13.055169844549058 %\n",
      "V57 -> 13.055169844549058 %\n",
      "V58 -> 13.055169844549058 %\n",
      "V59 -> 13.055169844549058 %\n",
      "V60 -> 13.055169844549058 %\n",
      "V61 -> 13.055169844549058 %\n",
      "V62 -> 13.055169844549058 %\n",
      "V63 -> 13.055169844549058 %\n",
      "V64 -> 13.055169844549058 %\n",
      "V65 -> 13.055169844549058 %\n",
      "V66 -> 13.055169844549058 %\n",
      "V67 -> 13.055169844549058 %\n",
      "V68 -> 13.055169844549058 %\n",
      "V69 -> 13.055169844549058 %\n",
      "V70 -> 13.055169844549058 %\n",
      "V71 -> 13.055169844549058 %\n",
      "V72 -> 13.055169844549058 %\n",
      "V73 -> 13.055169844549058 %\n",
      "V74 -> 13.055169844549058 %\n",
      "V75 -> 15.098723202492634 %\n",
      "V76 -> 15.098723202492634 %\n",
      "V77 -> 15.098723202492634 %\n",
      "V78 -> 15.098723202492634 %\n",
      "V79 -> 15.098723202492634 %\n",
      "V80 -> 15.098723202492634 %\n",
      "V81 -> 15.098723202492634 %\n",
      "V82 -> 15.098723202492634 %\n",
      "V83 -> 15.098723202492634 %\n",
      "V84 -> 15.098723202492634 %\n",
      "V85 -> 15.098723202492634 %\n",
      "V86 -> 15.098723202492634 %\n",
      "V87 -> 15.098723202492634 %\n",
      "V88 -> 15.098723202492634 %\n",
      "V89 -> 15.098723202492634 %\n",
      "V90 -> 15.098723202492634 %\n",
      "V91 -> 15.098723202492634 %\n",
      "V92 -> 15.098723202492634 %\n",
      "V93 -> 15.098723202492634 %\n",
      "V94 -> 15.098723202492634 %\n",
      "V95 -> 0.053171673383682734 %\n",
      "V96 -> 0.053171673383682734 %\n",
      "V97 -> 0.053171673383682734 %\n",
      "V98 -> 0.053171673383682734 %\n",
      "V99 -> 0.053171673383682734 %\n",
      "V100 -> 0.053171673383682734 %\n",
      "V101 -> 0.053171673383682734 %\n",
      "V102 -> 0.053171673383682734 %\n",
      "V103 -> 0.053171673383682734 %\n",
      "V104 -> 0.053171673383682734 %\n",
      "V105 -> 0.053171673383682734 %\n",
      "V106 -> 0.053171673383682734 %\n",
      "V107 -> 0.053171673383682734 %\n",
      "V108 -> 0.053171673383682734 %\n",
      "V109 -> 0.053171673383682734 %\n",
      "V110 -> 0.053171673383682734 %\n",
      "V111 -> 0.053171673383682734 %\n",
      "V112 -> 0.053171673383682734 %\n",
      "V113 -> 0.053171673383682734 %\n",
      "V114 -> 0.053171673383682734 %\n",
      "V115 -> 0.053171673383682734 %\n",
      "V116 -> 0.053171673383682734 %\n",
      "V117 -> 0.053171673383682734 %\n",
      "V118 -> 0.053171673383682734 %\n",
      "V119 -> 0.053171673383682734 %\n",
      "V120 -> 0.053171673383682734 %\n",
      "V121 -> 0.053171673383682734 %\n",
      "V122 -> 0.053171673383682734 %\n",
      "V123 -> 0.053171673383682734 %\n",
      "V124 -> 0.053171673383682734 %\n",
      "V125 -> 0.053171673383682734 %\n",
      "V126 -> 0.053171673383682734 %\n",
      "V127 -> 0.053171673383682734 %\n",
      "V128 -> 0.053171673383682734 %\n",
      "V129 -> 0.053171673383682734 %\n",
      "V130 -> 0.053171673383682734 %\n",
      "V131 -> 0.053171673383682734 %\n",
      "V132 -> 0.053171673383682734 %\n",
      "V133 -> 0.053171673383682734 %\n",
      "V134 -> 0.053171673383682734 %\n",
      "V135 -> 0.053171673383682734 %\n",
      "V136 -> 0.053171673383682734 %\n",
      "V137 -> 0.053171673383682734 %\n",
      "V279 -> 0.0020320384732617604 %\n",
      "V280 -> 0.0020320384732617604 %\n",
      "V281 -> 0.21488806854743117 %\n",
      "V282 -> 0.21488806854743117 %\n",
      "V283 -> 0.21488806854743117 %\n",
      "V284 -> 0.0020320384732617604 %\n",
      "V285 -> 0.0020320384732617604 %\n",
      "V286 -> 0.0020320384732617604 %\n",
      "V287 -> 0.0020320384732617604 %\n",
      "V288 -> 0.21488806854743117 %\n",
      "V289 -> 0.21488806854743117 %\n",
      "V290 -> 0.0020320384732617604 %\n",
      "V291 -> 0.0020320384732617604 %\n",
      "V292 -> 0.0020320384732617604 %\n",
      "V293 -> 0.0020320384732617604 %\n",
      "V294 -> 0.0020320384732617604 %\n",
      "V295 -> 0.0020320384732617604 %\n",
      "V296 -> 0.21488806854743117 %\n",
      "V297 -> 0.0020320384732617604 %\n",
      "V298 -> 0.0020320384732617604 %\n",
      "V299 -> 0.0020320384732617604 %\n",
      "V300 -> 0.21488806854743117 %\n",
      "V301 -> 0.21488806854743117 %\n",
      "V302 -> 0.0020320384732617604 %\n",
      "V303 -> 0.0020320384732617604 %\n",
      "V304 -> 0.0020320384732617604 %\n",
      "V305 -> 0.0020320384732617604 %\n",
      "V306 -> 0.0020320384732617604 %\n",
      "V307 -> 0.0020320384732617604 %\n",
      "V308 -> 0.0020320384732617604 %\n",
      "V309 -> 0.0020320384732617604 %\n",
      "V310 -> 0.0020320384732617604 %\n",
      "V311 -> 0.0020320384732617604 %\n",
      "V312 -> 0.0020320384732617604 %\n",
      "V313 -> 0.21488806854743117 %\n",
      "V314 -> 0.21488806854743117 %\n",
      "V315 -> 0.21488806854743117 %\n",
      "V316 -> 0.0020320384732617604 %\n",
      "V317 -> 0.0020320384732617604 %\n",
      "V318 -> 0.0020320384732617604 %\n",
      "V319 -> 0.0020320384732617604 %\n",
      "V320 -> 0.0020320384732617604 %\n",
      "V321 -> 0.0020320384732617604 %\n",
      "id_01 -> 75.5760829071697 %\n",
      "id_02 -> 76.14522301622245 %\n",
      "id_03 -> 88.76892335828225 %\n",
      "id_04 -> 88.76892335828225 %\n",
      "id_05 -> 76.82375452975243 %\n",
      "id_06 -> 76.82375452975243 %\n",
      "id_09 -> 87.31229044603245 %\n",
      "id_10 -> 87.31229044603245 %\n",
      "id_11 -> 76.12727334304196 %\n",
      "id_13 -> 78.44007179869273 %\n",
      "id_14 -> 86.4456260371863 %\n",
      "id_17 -> 76.39973583499848 %\n",
      "id_18 -> 92.36072069631184 %\n",
      "id_19 -> 76.40837199850984 %\n",
      "id_20 -> 76.41802418125783 %\n",
      "id_32 -> 86.86185525112609 %\n"
     ]
    }
   ],
   "source": [
    "# find % of empty values in each feature\n",
    "\n",
    "for column in numtrain:\n",
    "    btao = numtrain[column].isna().sum()\n",
    "    btao2 = (btao * 100)/len(numtrain)\n",
    "    print(column + \" -> \" + str(btao2) + ' %')"
   ]
  },
  {
   "cell_type": "code",
   "execution_count": 105,
   "metadata": {},
   "outputs": [],
   "source": [
    "# fill in with mean\n",
    "\n",
    "# For every column, the percentage of missing values is calculated\n",
    "# if the percentage is greater than 0, the mean of that column replaces every NaN value in that column using .fillna\n",
    "\n",
    "for column in numtrain:\n",
    "    btao = numtrain[column].isna().sum()\n",
    "    btao2 = (btao * 100)/len(numtrain)\n",
    "    if btao2 > 0:\n",
    "        numtrain[column].fillna(float(numtrain[column].mean()), inplace=True)"
   ]
  },
  {
   "cell_type": "code",
   "execution_count": 106,
   "metadata": {},
   "outputs": [
    {
     "name": "stdout",
     "output_type": "stream",
     "text": [
      "isFraud -> 0.0 %\n",
      "TransactionDT -> 0.0 %\n",
      "TransactionAmt -> 0.0 %\n",
      "card1 -> 0.0 %\n",
      "card2 -> 0.0 %\n",
      "card3 -> 0.0 %\n",
      "card5 -> 0.0 %\n",
      "addr1 -> 0.0 %\n",
      "addr2 -> 0.0 %\n",
      "dist1 -> 0.0 %\n",
      "C1 -> 0.0 %\n",
      "C2 -> 0.0 %\n",
      "C3 -> 0.0 %\n",
      "C4 -> 0.0 %\n",
      "C5 -> 0.0 %\n",
      "C6 -> 0.0 %\n",
      "C7 -> 0.0 %\n",
      "C8 -> 0.0 %\n",
      "C9 -> 0.0 %\n",
      "C10 -> 0.0 %\n",
      "C11 -> 0.0 %\n",
      "C12 -> 0.0 %\n",
      "C13 -> 0.0 %\n",
      "C14 -> 0.0 %\n",
      "D1 -> 0.0 %\n",
      "D2 -> 0.0 %\n",
      "D3 -> 0.0 %\n",
      "D4 -> 0.0 %\n",
      "D5 -> 0.0 %\n",
      "D10 -> 0.0 %\n",
      "D11 -> 0.0 %\n",
      "D15 -> 0.0 %\n",
      "V1 -> 0.0 %\n",
      "V2 -> 0.0 %\n",
      "V3 -> 0.0 %\n",
      "V4 -> 0.0 %\n",
      "V5 -> 0.0 %\n",
      "V6 -> 0.0 %\n",
      "V7 -> 0.0 %\n",
      "V8 -> 0.0 %\n",
      "V9 -> 0.0 %\n",
      "V10 -> 0.0 %\n",
      "V11 -> 0.0 %\n",
      "V12 -> 0.0 %\n",
      "V13 -> 0.0 %\n",
      "V14 -> 0.0 %\n",
      "V15 -> 0.0 %\n",
      "V16 -> 0.0 %\n",
      "V17 -> 0.0 %\n",
      "V18 -> 0.0 %\n",
      "V19 -> 0.0 %\n",
      "V20 -> 0.0 %\n",
      "V21 -> 0.0 %\n",
      "V22 -> 0.0 %\n",
      "V23 -> 0.0 %\n",
      "V24 -> 0.0 %\n",
      "V25 -> 0.0 %\n",
      "V26 -> 0.0 %\n",
      "V27 -> 0.0 %\n",
      "V28 -> 0.0 %\n",
      "V29 -> 0.0 %\n",
      "V30 -> 0.0 %\n",
      "V31 -> 0.0 %\n",
      "V32 -> 0.0 %\n",
      "V33 -> 0.0 %\n",
      "V34 -> 0.0 %\n",
      "V35 -> 0.0 %\n",
      "V36 -> 0.0 %\n",
      "V37 -> 0.0 %\n",
      "V38 -> 0.0 %\n",
      "V39 -> 0.0 %\n",
      "V40 -> 0.0 %\n",
      "V41 -> 0.0 %\n",
      "V42 -> 0.0 %\n",
      "V43 -> 0.0 %\n",
      "V44 -> 0.0 %\n",
      "V45 -> 0.0 %\n",
      "V46 -> 0.0 %\n",
      "V47 -> 0.0 %\n",
      "V48 -> 0.0 %\n",
      "V49 -> 0.0 %\n",
      "V50 -> 0.0 %\n",
      "V51 -> 0.0 %\n",
      "V52 -> 0.0 %\n",
      "V53 -> 0.0 %\n",
      "V54 -> 0.0 %\n",
      "V55 -> 0.0 %\n",
      "V56 -> 0.0 %\n",
      "V57 -> 0.0 %\n",
      "V58 -> 0.0 %\n",
      "V59 -> 0.0 %\n",
      "V60 -> 0.0 %\n",
      "V61 -> 0.0 %\n",
      "V62 -> 0.0 %\n",
      "V63 -> 0.0 %\n",
      "V64 -> 0.0 %\n",
      "V65 -> 0.0 %\n",
      "V66 -> 0.0 %\n",
      "V67 -> 0.0 %\n",
      "V68 -> 0.0 %\n",
      "V69 -> 0.0 %\n",
      "V70 -> 0.0 %\n",
      "V71 -> 0.0 %\n",
      "V72 -> 0.0 %\n",
      "V73 -> 0.0 %\n",
      "V74 -> 0.0 %\n",
      "V75 -> 0.0 %\n",
      "V76 -> 0.0 %\n",
      "V77 -> 0.0 %\n",
      "V78 -> 0.0 %\n",
      "V79 -> 0.0 %\n",
      "V80 -> 0.0 %\n",
      "V81 -> 0.0 %\n",
      "V82 -> 0.0 %\n",
      "V83 -> 0.0 %\n",
      "V84 -> 0.0 %\n",
      "V85 -> 0.0 %\n",
      "V86 -> 0.0 %\n",
      "V87 -> 0.0 %\n",
      "V88 -> 0.0 %\n",
      "V89 -> 0.0 %\n",
      "V90 -> 0.0 %\n",
      "V91 -> 0.0 %\n",
      "V92 -> 0.0 %\n",
      "V93 -> 0.0 %\n",
      "V94 -> 0.0 %\n",
      "V95 -> 0.0 %\n",
      "V96 -> 0.0 %\n",
      "V97 -> 0.0 %\n",
      "V98 -> 0.0 %\n",
      "V99 -> 0.0 %\n",
      "V100 -> 0.0 %\n",
      "V101 -> 0.0 %\n",
      "V102 -> 0.0 %\n",
      "V103 -> 0.0 %\n",
      "V104 -> 0.0 %\n",
      "V105 -> 0.0 %\n",
      "V106 -> 0.0 %\n",
      "V107 -> 0.0 %\n",
      "V108 -> 0.0 %\n",
      "V109 -> 0.0 %\n",
      "V110 -> 0.0 %\n",
      "V111 -> 0.0 %\n",
      "V112 -> 0.0 %\n",
      "V113 -> 0.0 %\n",
      "V114 -> 0.0 %\n",
      "V115 -> 0.0 %\n",
      "V116 -> 0.0 %\n",
      "V117 -> 0.0 %\n",
      "V118 -> 0.0 %\n",
      "V119 -> 0.0 %\n",
      "V120 -> 0.0 %\n",
      "V121 -> 0.0 %\n",
      "V122 -> 0.0 %\n",
      "V123 -> 0.0 %\n",
      "V124 -> 0.0 %\n",
      "V125 -> 0.0 %\n",
      "V126 -> 0.0 %\n",
      "V127 -> 0.0 %\n",
      "V128 -> 0.0 %\n",
      "V129 -> 0.0 %\n",
      "V130 -> 0.0 %\n",
      "V131 -> 0.0 %\n",
      "V132 -> 0.0 %\n",
      "V133 -> 0.0 %\n",
      "V134 -> 0.0 %\n",
      "V135 -> 0.0 %\n",
      "V136 -> 0.0 %\n",
      "V137 -> 0.0 %\n",
      "V279 -> 0.0 %\n",
      "V280 -> 0.0 %\n",
      "V281 -> 0.0 %\n",
      "V282 -> 0.0 %\n",
      "V283 -> 0.0 %\n",
      "V284 -> 0.0 %\n",
      "V285 -> 0.0 %\n",
      "V286 -> 0.0 %\n",
      "V287 -> 0.0 %\n",
      "V288 -> 0.0 %\n",
      "V289 -> 0.0 %\n",
      "V290 -> 0.0 %\n",
      "V291 -> 0.0 %\n",
      "V292 -> 0.0 %\n",
      "V293 -> 0.0 %\n",
      "V294 -> 0.0 %\n",
      "V295 -> 0.0 %\n",
      "V296 -> 0.0 %\n",
      "V297 -> 0.0 %\n",
      "V298 -> 0.0 %\n",
      "V299 -> 0.0 %\n",
      "V300 -> 0.0 %\n",
      "V301 -> 0.0 %\n",
      "V302 -> 0.0 %\n",
      "V303 -> 0.0 %\n",
      "V304 -> 0.0 %\n",
      "V305 -> 0.0 %\n",
      "V306 -> 0.0 %\n",
      "V307 -> 0.0 %\n",
      "V308 -> 0.0 %\n",
      "V309 -> 0.0 %\n",
      "V310 -> 0.0 %\n",
      "V311 -> 0.0 %\n",
      "V312 -> 0.0 %\n",
      "V313 -> 0.0 %\n",
      "V314 -> 0.0 %\n",
      "V315 -> 0.0 %\n",
      "V316 -> 0.0 %\n",
      "V317 -> 0.0 %\n",
      "V318 -> 0.0 %\n",
      "V319 -> 0.0 %\n",
      "V320 -> 0.0 %\n",
      "V321 -> 0.0 %\n",
      "id_01 -> 0.0 %\n",
      "id_02 -> 0.0 %\n",
      "id_03 -> 0.0 %\n",
      "id_04 -> 0.0 %\n",
      "id_05 -> 0.0 %\n",
      "id_06 -> 0.0 %\n",
      "id_09 -> 0.0 %\n",
      "id_10 -> 0.0 %\n",
      "id_11 -> 0.0 %\n",
      "id_13 -> 0.0 %\n",
      "id_14 -> 0.0 %\n",
      "id_17 -> 0.0 %\n",
      "id_18 -> 0.0 %\n",
      "id_19 -> 0.0 %\n",
      "id_20 -> 0.0 %\n",
      "id_32 -> 0.0 %\n"
     ]
    }
   ],
   "source": [
    "# final check on empty values\n",
    "\n",
    "for column in numtrain:\n",
    "    btao = numtrain[column].isna().sum()\n",
    "    btao2 = (btao * 100)/len(numtrain)\n",
    "    print(column + \" -> \" + str(btao2) + ' %')"
   ]
  },
  {
   "cell_type": "code",
   "execution_count": 107,
   "metadata": {},
   "outputs": [
    {
     "data": {
      "text/plain": [
       "(590540, 228)"
      ]
     },
     "execution_count": 107,
     "metadata": {},
     "output_type": "execute_result"
    }
   ],
   "source": [
    "numtrain.shape"
   ]
  },
  {
   "cell_type": "markdown",
   "metadata": {},
   "source": [
    "### Drop duplicates"
   ]
  },
  {
   "cell_type": "code",
   "execution_count": 108,
   "metadata": {},
   "outputs": [
    {
     "data": {
      "text/plain": [
       "3"
      ]
     },
     "execution_count": 108,
     "metadata": {},
     "output_type": "execute_result"
    }
   ],
   "source": [
    "numtrain.duplicated().sum()"
   ]
  },
  {
   "cell_type": "code",
   "execution_count": 109,
   "metadata": {},
   "outputs": [],
   "source": [
    "num_train_set =  numtrain.drop_duplicates()"
   ]
  },
  {
   "cell_type": "code",
   "execution_count": 110,
   "metadata": {},
   "outputs": [
    {
     "data": {
      "text/plain": [
       "(590537, 228)"
      ]
     },
     "execution_count": 110,
     "metadata": {},
     "output_type": "execute_result"
    }
   ],
   "source": [
    "num_train_set.shape"
   ]
  },
  {
   "cell_type": "markdown",
   "metadata": {},
   "source": [
    "## Save this transformed train dataset as a csv file"
   ]
  },
  {
   "cell_type": "code",
   "execution_count": 111,
   "metadata": {},
   "outputs": [],
   "source": [
    "num_train_set.to_csv('train_df.csv')"
   ]
  },
  {
   "cell_type": "code",
   "execution_count": null,
   "metadata": {},
   "outputs": [],
   "source": []
  }
 ],
 "metadata": {
  "kernelspec": {
   "display_name": "Python 3",
   "language": "python",
   "name": "python3"
  },
  "language_info": {
   "codemirror_mode": {
    "name": "ipython",
    "version": 3
   },
   "file_extension": ".py",
   "mimetype": "text/x-python",
   "name": "python",
   "nbconvert_exporter": "python",
   "pygments_lexer": "ipython3",
   "version": "3.8.3"
  }
 },
 "nbformat": 4,
 "nbformat_minor": 4
}

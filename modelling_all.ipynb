{
 "cells": [
  {
   "cell_type": "code",
   "execution_count": 14,
   "metadata": {},
   "outputs": [],
   "source": [
    "import pandas as pd\n",
    "pd.set_option('display.max_columns', 50)\n",
    "\n",
    "import numpy as np\n",
    "import matplotlib as mp\n",
    "import matplotlib.pyplot as mplt\n",
    "import seaborn as sn\n",
    "from scipy import stats\n",
    "\n",
    "import sklearn\n",
    "from sklearn.impute import SimpleImputer\n",
    "from sklearn.model_selection import train_test_split\n",
    "from sklearn.model_selection import GridSearchCV\n",
    "from sklearn.model_selection import RandomizedSearchCV\n",
    "from sklearn.preprocessing import StandardScaler\n",
    "from sklearn.linear_model import LogisticRegression\n",
    "from sklearn.ensemble import RandomForestClassifier\n",
    "from xgboost import XGBClassifier\n",
    "\n",
    "from sklearn.metrics import accuracy_score, confusion_matrix , classification_report , f1_score, roc_auc_score"
   ]
  },
  {
   "cell_type": "code",
   "execution_count": 48,
   "metadata": {},
   "outputs": [],
   "source": [
    "from sklearn.metrics import precision_score, recall_score"
   ]
  },
  {
   "cell_type": "code",
   "execution_count": 50,
   "metadata": {},
   "outputs": [],
   "source": [
    "from sklearn.metrics import roc_curve"
   ]
  },
  {
   "cell_type": "code",
   "execution_count": 2,
   "metadata": {},
   "outputs": [],
   "source": [
    "df = pd.read_csv('trainf.csv')"
   ]
  },
  {
   "cell_type": "code",
   "execution_count": 3,
   "metadata": {},
   "outputs": [
    {
     "data": {
      "text/plain": [
       "(590537, 138)"
      ]
     },
     "execution_count": 3,
     "metadata": {},
     "output_type": "execute_result"
    }
   ],
   "source": [
    "df.shape"
   ]
  },
  {
   "cell_type": "code",
   "execution_count": 4,
   "metadata": {},
   "outputs": [
    {
     "data": {
      "text/plain": [
       "Index(['isFraud', 'TransactionDT', 'TransactionAmt', 'card1', 'card2', 'card3',\n",
       "       'card5', 'addr1', 'addr2', 'dist1',\n",
       "       ...\n",
       "       'id_09', 'id_10', 'id_11', 'id_13', 'id_14', 'id_17', 'id_18', 'id_19',\n",
       "       'id_20', 'id_32'],\n",
       "      dtype='object', length=138)"
      ]
     },
     "execution_count": 4,
     "metadata": {},
     "output_type": "execute_result"
    }
   ],
   "source": [
    "df.columns"
   ]
  },
  {
   "cell_type": "code",
   "execution_count": 5,
   "metadata": {},
   "outputs": [
    {
     "name": "stdout",
     "output_type": "stream",
     "text": [
      "<class 'pandas.core.frame.DataFrame'>\n",
      "RangeIndex: 590537 entries, 0 to 590536\n",
      "Columns: 138 entries, isFraud to id_32\n",
      "dtypes: float64(135), int64(3)\n",
      "memory usage: 621.8 MB\n"
     ]
    }
   ],
   "source": [
    "df.info()"
   ]
  },
  {
   "cell_type": "code",
   "execution_count": 6,
   "metadata": {},
   "outputs": [
    {
     "data": {
      "text/plain": [
       "0    0.96501\n",
       "1    0.03499\n",
       "Name: isFraud, dtype: float64"
      ]
     },
     "execution_count": 6,
     "metadata": {},
     "output_type": "execute_result"
    }
   ],
   "source": [
    "# we need to set class weights because of the imbalanced nature of the dataset\n",
    "\n",
    "df['isFraud'].value_counts()/df.shape[0]"
   ]
  },
  {
   "cell_type": "markdown",
   "metadata": {},
   "source": [
    "We see that 96.5% are legit transactions and the remaining 3.5% are fraud transactions.\n",
    "We can set the class weights of LogReg to represent this imbalancedness. "
   ]
  },
  {
   "cell_type": "code",
   "execution_count": 27,
   "metadata": {},
   "outputs": [],
   "source": [
    "wt = {0:1, 1:96.5}"
   ]
  },
  {
   "cell_type": "markdown",
   "metadata": {},
   "source": [
    "# 1. Split data into x and y\n",
    "# 2. Standardize x"
   ]
  },
  {
   "cell_type": "code",
   "execution_count": 7,
   "metadata": {},
   "outputs": [],
   "source": [
    "x = df.drop(columns=['isFraud'], axis=1)\n",
    "y = df['isFraud']"
   ]
  },
  {
   "cell_type": "code",
   "execution_count": 8,
   "metadata": {},
   "outputs": [],
   "source": [
    "standard = StandardScaler()\n",
    "x_sc = standard.fit_transform(x)"
   ]
  },
  {
   "cell_type": "code",
   "execution_count": 9,
   "metadata": {},
   "outputs": [],
   "source": [
    "# https://scikit-learn.org/stable/modules/generated/sklearn.model_selection.train_test_split.html\n",
    "\n",
    "x_train, x_test, y_train, y_test = train_test_split(x_sc, y, test_size=0.20, random_state=42, stratify=y)"
   ]
  },
  {
   "cell_type": "markdown",
   "metadata": {},
   "source": [
    "# 3. Logistic Regression"
   ]
  },
  {
   "cell_type": "markdown",
   "metadata": {},
   "source": [
    "## Logistic Regression only"
   ]
  },
  {
   "cell_type": "code",
   "execution_count": 10,
   "metadata": {},
   "outputs": [
    {
     "name": "stderr",
     "output_type": "stream",
     "text": [
      "C:\\Users\\leobu\\anaconda3\\lib\\site-packages\\sklearn\\linear_model\\_logistic.py:762: ConvergenceWarning: lbfgs failed to converge (status=1):\n",
      "STOP: TOTAL NO. of ITERATIONS REACHED LIMIT.\n",
      "\n",
      "Increase the number of iterations (max_iter) or scale the data as shown in:\n",
      "    https://scikit-learn.org/stable/modules/preprocessing.html\n",
      "Please also refer to the documentation for alternative solver options:\n",
      "    https://scikit-learn.org/stable/modules/linear_model.html#logistic-regression\n",
      "  n_iter_i = _check_optimize_result(\n"
     ]
    },
    {
     "data": {
      "text/plain": [
       "LogisticRegression()"
      ]
     },
     "execution_count": 10,
     "metadata": {},
     "output_type": "execute_result"
    }
   ],
   "source": [
    "model = LogisticRegression()\n",
    "model.fit(x_train, y_train)"
   ]
  },
  {
   "cell_type": "code",
   "execution_count": 12,
   "metadata": {},
   "outputs": [],
   "source": [
    "y_pred = model.predict(x_test)"
   ]
  },
  {
   "cell_type": "code",
   "execution_count": 15,
   "metadata": {},
   "outputs": [
    {
     "name": "stdout",
     "output_type": "stream",
     "text": [
      "Accuracy Score: 0.9682747993362008\n",
      "Confusion Matrix: \n",
      " [[113775    200]\n",
      " [  3547    586]]\n",
      "Area Under Curve: 0.5700154285450746\n",
      "f1 score: 0.23825980890424883\n"
     ]
    }
   ],
   "source": [
    "print('Accuracy Score:', accuracy_score(y_test,y_pred))\n",
    "print('Confusion Matrix: \\n',confusion_matrix(y_test, y_pred))\n",
    "print('Area Under Curve:', roc_auc_score(y_test, y_pred))\n",
    "print('f1 score:', f1_score(y_test,y_pred))"
   ]
  },
  {
   "cell_type": "markdown",
   "metadata": {},
   "source": [
    "## LogisticRegression with max_iters as a hyperparameter"
   ]
  },
  {
   "cell_type": "code",
   "execution_count": 16,
   "metadata": {},
   "outputs": [],
   "source": [
    "itrt = [100,200,500,1000]"
   ]
  },
  {
   "cell_type": "code",
   "execution_count": 21,
   "metadata": {
    "scrolled": true
   },
   "outputs": [
    {
     "name": "stderr",
     "output_type": "stream",
     "text": [
      "C:\\Users\\leobu\\anaconda3\\lib\\site-packages\\sklearn\\linear_model\\_logistic.py:762: ConvergenceWarning: lbfgs failed to converge (status=1):\n",
      "STOP: TOTAL NO. of ITERATIONS REACHED LIMIT.\n",
      "\n",
      "Increase the number of iterations (max_iter) or scale the data as shown in:\n",
      "    https://scikit-learn.org/stable/modules/preprocessing.html\n",
      "Please also refer to the documentation for alternative solver options:\n",
      "    https://scikit-learn.org/stable/modules/linear_model.html#logistic-regression\n",
      "  n_iter_i = _check_optimize_result(\n",
      "C:\\Users\\leobu\\anaconda3\\lib\\site-packages\\sklearn\\linear_model\\_logistic.py:762: ConvergenceWarning: lbfgs failed to converge (status=1):\n",
      "STOP: TOTAL NO. of ITERATIONS REACHED LIMIT.\n",
      "\n",
      "Increase the number of iterations (max_iter) or scale the data as shown in:\n",
      "    https://scikit-learn.org/stable/modules/preprocessing.html\n",
      "Please also refer to the documentation for alternative solver options:\n",
      "    https://scikit-learn.org/stable/modules/linear_model.html#logistic-regression\n",
      "  n_iter_i = _check_optimize_result(\n",
      "C:\\Users\\leobu\\anaconda3\\lib\\site-packages\\sklearn\\linear_model\\_logistic.py:762: ConvergenceWarning: lbfgs failed to converge (status=1):\n",
      "STOP: TOTAL NO. of ITERATIONS REACHED LIMIT.\n",
      "\n",
      "Increase the number of iterations (max_iter) or scale the data as shown in:\n",
      "    https://scikit-learn.org/stable/modules/preprocessing.html\n",
      "Please also refer to the documentation for alternative solver options:\n",
      "    https://scikit-learn.org/stable/modules/linear_model.html#logistic-regression\n",
      "  n_iter_i = _check_optimize_result(\n",
      "C:\\Users\\leobu\\anaconda3\\lib\\site-packages\\sklearn\\linear_model\\_logistic.py:762: ConvergenceWarning: lbfgs failed to converge (status=1):\n",
      "STOP: TOTAL NO. of ITERATIONS REACHED LIMIT.\n",
      "\n",
      "Increase the number of iterations (max_iter) or scale the data as shown in:\n",
      "    https://scikit-learn.org/stable/modules/preprocessing.html\n",
      "Please also refer to the documentation for alternative solver options:\n",
      "    https://scikit-learn.org/stable/modules/linear_model.html#logistic-regression\n",
      "  n_iter_i = _check_optimize_result(\n",
      "C:\\Users\\leobu\\anaconda3\\lib\\site-packages\\sklearn\\linear_model\\_logistic.py:762: ConvergenceWarning: lbfgs failed to converge (status=1):\n",
      "STOP: TOTAL NO. of ITERATIONS REACHED LIMIT.\n",
      "\n",
      "Increase the number of iterations (max_iter) or scale the data as shown in:\n",
      "    https://scikit-learn.org/stable/modules/preprocessing.html\n",
      "Please also refer to the documentation for alternative solver options:\n",
      "    https://scikit-learn.org/stable/modules/linear_model.html#logistic-regression\n",
      "  n_iter_i = _check_optimize_result(\n",
      "C:\\Users\\leobu\\anaconda3\\lib\\site-packages\\sklearn\\linear_model\\_logistic.py:762: ConvergenceWarning: lbfgs failed to converge (status=1):\n",
      "STOP: TOTAL NO. of ITERATIONS REACHED LIMIT.\n",
      "\n",
      "Increase the number of iterations (max_iter) or scale the data as shown in:\n",
      "    https://scikit-learn.org/stable/modules/preprocessing.html\n",
      "Please also refer to the documentation for alternative solver options:\n",
      "    https://scikit-learn.org/stable/modules/linear_model.html#logistic-regression\n",
      "  n_iter_i = _check_optimize_result(\n"
     ]
    },
    {
     "data": {
      "text/plain": [
       "GridSearchCV(cv=5, estimator=LogisticRegression(),\n",
       "             param_grid={'max_iter': [100, 200, 500, 1000]}, scoring='f1')"
      ]
     },
     "execution_count": 21,
     "metadata": {},
     "output_type": "execute_result"
    }
   ],
   "source": [
    "model1 = GridSearchCV(LogisticRegression(),{ 'max_iter': [100,200,500,1000] }, scoring = 'f1', cv=5)\n",
    "model1.fit(x_train, y_train)"
   ]
  },
  {
   "cell_type": "code",
   "execution_count": 22,
   "metadata": {},
   "outputs": [
    {
     "data": {
      "text/plain": [
       "LogisticRegression()"
      ]
     },
     "execution_count": 22,
     "metadata": {},
     "output_type": "execute_result"
    }
   ],
   "source": [
    "model1.best_estimator_"
   ]
  },
  {
   "cell_type": "code",
   "execution_count": 26,
   "metadata": {},
   "outputs": [
    {
     "data": {
      "text/html": [
       "<div>\n",
       "<style scoped>\n",
       "    .dataframe tbody tr th:only-of-type {\n",
       "        vertical-align: middle;\n",
       "    }\n",
       "\n",
       "    .dataframe tbody tr th {\n",
       "        vertical-align: top;\n",
       "    }\n",
       "\n",
       "    .dataframe thead th {\n",
       "        text-align: right;\n",
       "    }\n",
       "</style>\n",
       "<table border=\"1\" class=\"dataframe\">\n",
       "  <thead>\n",
       "    <tr style=\"text-align: right;\">\n",
       "      <th></th>\n",
       "      <th>mean_fit_time</th>\n",
       "      <th>std_fit_time</th>\n",
       "      <th>mean_score_time</th>\n",
       "      <th>std_score_time</th>\n",
       "      <th>param_max_iter</th>\n",
       "      <th>params</th>\n",
       "      <th>split0_test_score</th>\n",
       "      <th>split1_test_score</th>\n",
       "      <th>split2_test_score</th>\n",
       "      <th>split3_test_score</th>\n",
       "      <th>split4_test_score</th>\n",
       "      <th>mean_test_score</th>\n",
       "      <th>std_test_score</th>\n",
       "      <th>rank_test_score</th>\n",
       "    </tr>\n",
       "  </thead>\n",
       "  <tbody>\n",
       "    <tr>\n",
       "      <th>0</th>\n",
       "      <td>10.714102</td>\n",
       "      <td>1.327632</td>\n",
       "      <td>0.060761</td>\n",
       "      <td>0.005885</td>\n",
       "      <td>100</td>\n",
       "      <td>{'max_iter': 100}</td>\n",
       "      <td>0.227796</td>\n",
       "      <td>0.214194</td>\n",
       "      <td>0.243964</td>\n",
       "      <td>0.237427</td>\n",
       "      <td>0.236768</td>\n",
       "      <td>0.232030</td>\n",
       "      <td>0.010296</td>\n",
       "      <td>1</td>\n",
       "    </tr>\n",
       "    <tr>\n",
       "      <th>1</th>\n",
       "      <td>16.678331</td>\n",
       "      <td>1.097600</td>\n",
       "      <td>0.064530</td>\n",
       "      <td>0.008202</td>\n",
       "      <td>200</td>\n",
       "      <td>{'max_iter': 200}</td>\n",
       "      <td>0.227738</td>\n",
       "      <td>0.214249</td>\n",
       "      <td>0.243580</td>\n",
       "      <td>0.237427</td>\n",
       "      <td>0.236768</td>\n",
       "      <td>0.231952</td>\n",
       "      <td>0.010193</td>\n",
       "      <td>2</td>\n",
       "    </tr>\n",
       "    <tr>\n",
       "      <th>2</th>\n",
       "      <td>16.899772</td>\n",
       "      <td>1.524382</td>\n",
       "      <td>0.062915</td>\n",
       "      <td>0.005262</td>\n",
       "      <td>500</td>\n",
       "      <td>{'max_iter': 500}</td>\n",
       "      <td>0.227738</td>\n",
       "      <td>0.214249</td>\n",
       "      <td>0.243580</td>\n",
       "      <td>0.237427</td>\n",
       "      <td>0.236768</td>\n",
       "      <td>0.231952</td>\n",
       "      <td>0.010193</td>\n",
       "      <td>2</td>\n",
       "    </tr>\n",
       "    <tr>\n",
       "      <th>3</th>\n",
       "      <td>18.140551</td>\n",
       "      <td>2.165768</td>\n",
       "      <td>0.064908</td>\n",
       "      <td>0.002350</td>\n",
       "      <td>1000</td>\n",
       "      <td>{'max_iter': 1000}</td>\n",
       "      <td>0.227738</td>\n",
       "      <td>0.214249</td>\n",
       "      <td>0.243580</td>\n",
       "      <td>0.237427</td>\n",
       "      <td>0.236768</td>\n",
       "      <td>0.231952</td>\n",
       "      <td>0.010193</td>\n",
       "      <td>2</td>\n",
       "    </tr>\n",
       "  </tbody>\n",
       "</table>\n",
       "</div>"
      ],
      "text/plain": [
       "   mean_fit_time  std_fit_time  mean_score_time  std_score_time  \\\n",
       "0      10.714102      1.327632         0.060761        0.005885   \n",
       "1      16.678331      1.097600         0.064530        0.008202   \n",
       "2      16.899772      1.524382         0.062915        0.005262   \n",
       "3      18.140551      2.165768         0.064908        0.002350   \n",
       "\n",
       "  param_max_iter              params  split0_test_score  split1_test_score  \\\n",
       "0            100   {'max_iter': 100}           0.227796           0.214194   \n",
       "1            200   {'max_iter': 200}           0.227738           0.214249   \n",
       "2            500   {'max_iter': 500}           0.227738           0.214249   \n",
       "3           1000  {'max_iter': 1000}           0.227738           0.214249   \n",
       "\n",
       "   split2_test_score  split3_test_score  split4_test_score  mean_test_score  \\\n",
       "0           0.243964           0.237427           0.236768         0.232030   \n",
       "1           0.243580           0.237427           0.236768         0.231952   \n",
       "2           0.243580           0.237427           0.236768         0.231952   \n",
       "3           0.243580           0.237427           0.236768         0.231952   \n",
       "\n",
       "   std_test_score  rank_test_score  \n",
       "0        0.010296                1  \n",
       "1        0.010193                2  \n",
       "2        0.010193                2  \n",
       "3        0.010193                2  "
      ]
     },
     "execution_count": 26,
     "metadata": {},
     "output_type": "execute_result"
    }
   ],
   "source": [
    "prnt = pd.DataFrame(model1.cv_results_)\n",
    "prnt"
   ]
  },
  {
   "cell_type": "code",
   "execution_count": 23,
   "metadata": {},
   "outputs": [],
   "source": [
    "y_pred1 = model.predict(x_test)"
   ]
  },
  {
   "cell_type": "code",
   "execution_count": 24,
   "metadata": {},
   "outputs": [
    {
     "name": "stdout",
     "output_type": "stream",
     "text": [
      "Accuracy Score: 0.9682747993362008\n",
      "Confusion Matrix: \n",
      " [[113775    200]\n",
      " [  3547    586]]\n",
      "Area Under Curve: 0.5700154285450746\n",
      "f1 score: 0.23825980890424883\n"
     ]
    }
   ],
   "source": [
    "print('Accuracy Score:', accuracy_score(y_test,y_pred1))\n",
    "print('Confusion Matrix: \\n',confusion_matrix(y_test, y_pred1))\n",
    "print('Area Under Curve:', roc_auc_score(y_test, y_pred1))\n",
    "print('f1 score:', f1_score(y_test,y_pred1))"
   ]
  },
  {
   "cell_type": "markdown",
   "metadata": {},
   "source": [
    "We see that number of iterations has barely any influence on the model output so we will restrict number of iterations to 250 going forward."
   ]
  },
  {
   "cell_type": "markdown",
   "metadata": {},
   "source": [
    "## Logistic Regression with only C or inverse Lambda parameter with max_iter limited to 250"
   ]
  },
  {
   "cell_type": "code",
   "execution_count": 29,
   "metadata": {},
   "outputs": [],
   "source": [
    "tuned_parameters = [{'C': [10**-4, 10**-2, 10**0, 10**2, 10**4]}]"
   ]
  },
  {
   "cell_type": "code",
   "execution_count": 36,
   "metadata": {},
   "outputs": [
    {
     "data": {
      "text/plain": [
       "GridSearchCV(cv=5, estimator=LogisticRegression(max_iter=250),\n",
       "             param_grid=[{'C': [0.0001, 0.01, 1, 100, 10000]}], scoring='f1')"
      ]
     },
     "execution_count": 36,
     "metadata": {},
     "output_type": "execute_result"
    }
   ],
   "source": [
    "# tuned_parameters = [{'C': [10**-4, 10**-2, 10**0, 10**2, 10**4]}]\n",
    "\n",
    "model2 = GridSearchCV(LogisticRegression( max_iter = 250 ), tuned_parameters, scoring = 'f1', cv=5)\n",
    "model2.fit(x_train,y_train)"
   ]
  },
  {
   "cell_type": "code",
   "execution_count": 37,
   "metadata": {},
   "outputs": [
    {
     "name": "stdout",
     "output_type": "stream",
     "text": [
      "LogisticRegression(C=10000, max_iter=250)\n"
     ]
    }
   ],
   "source": [
    "print(model2.best_estimator_)"
   ]
  },
  {
   "cell_type": "code",
   "execution_count": 38,
   "metadata": {},
   "outputs": [],
   "source": [
    "y_pred2 = model2.predict(x_test)"
   ]
  },
  {
   "cell_type": "code",
   "execution_count": 39,
   "metadata": {},
   "outputs": [
    {
     "name": "stdout",
     "output_type": "stream",
     "text": [
      "Accuracy Score: 0.9682578656822569\n",
      "Confusion Matrix: \n",
      " [[113775    200]\n",
      " [  3549    584]]\n",
      "Area Under Curve: 0.5697734735487039\n",
      "f1 score: 0.2375432174089892\n"
     ]
    }
   ],
   "source": [
    "print('Accuracy Score:', accuracy_score(y_test,y_pred2))\n",
    "print('Confusion Matrix: \\n',confusion_matrix(y_test, y_pred2))\n",
    "print('Area Under Curve:', roc_auc_score(y_test, y_pred2))\n",
    "print('f1 score:', f1_score(y_test,y_pred2))"
   ]
  },
  {
   "cell_type": "markdown",
   "metadata": {},
   "source": [
    "## Logistic regression with class weights"
   ]
  },
  {
   "cell_type": "code",
   "execution_count": 40,
   "metadata": {},
   "outputs": [],
   "source": [
    "# defined above : wt = {0:1, 1:96.5}"
   ]
  },
  {
   "cell_type": "markdown",
   "metadata": {},
   "source": [
    "C is inverse of Lambda (Regularization strength). Therefore, as C inc, Lambda decreases and Logistic Regression overfits\n",
    "and, as C dec, Lambda inc and hence LR underfits"
   ]
  },
  {
   "cell_type": "code",
   "execution_count": 31,
   "metadata": {},
   "outputs": [
    {
     "data": {
      "text/plain": [
       "GridSearchCV(cv=5,\n",
       "             estimator=LogisticRegression(class_weight={0: 1, 1: 96.5},\n",
       "                                          max_iter=250),\n",
       "             param_grid=[{'C': [0.0001, 0.01, 1, 100, 10000]}], scoring='f1')"
      ]
     },
     "execution_count": 31,
     "metadata": {},
     "output_type": "execute_result"
    }
   ],
   "source": [
    "model3 = GridSearchCV(LogisticRegression(class_weight = wt , max_iter = 250), tuned_parameters, scoring = 'f1', cv=5)\n",
    "\n",
    "model3.fit(x_train, y_train)"
   ]
  },
  {
   "cell_type": "code",
   "execution_count": 33,
   "metadata": {},
   "outputs": [
    {
     "name": "stdout",
     "output_type": "stream",
     "text": [
      "LogisticRegression(C=10000, class_weight={0: 1, 1: 96.5}, max_iter=250)\n"
     ]
    }
   ],
   "source": [
    "print(model3.best_estimator_)"
   ]
  },
  {
   "cell_type": "code",
   "execution_count": 34,
   "metadata": {},
   "outputs": [],
   "source": [
    "y_pred3 = model3.predict(x_test)"
   ]
  },
  {
   "cell_type": "code",
   "execution_count": 35,
   "metadata": {},
   "outputs": [
    {
     "name": "stdout",
     "output_type": "stream",
     "text": [
      "Accuracy Score: 0.36490330883598066\n",
      "Confusion Matrix: \n",
      " [[39200 74775]\n",
      " [  235  3898]]\n",
      "Area Under Curve: 0.643537824666959\n",
      "f1 score: 0.09414776707001908\n"
     ]
    }
   ],
   "source": [
    "print('Accuracy Score:', accuracy_score(y_test,y_pred3))\n",
    "print('Confusion Matrix: \\n',confusion_matrix(y_test, y_pred3))\n",
    "print('Area Under Curve:', roc_auc_score(y_test, y_pred3))\n",
    "print('f1 score:', f1_score(y_test,y_pred3))"
   ]
  },
  {
   "cell_type": "markdown",
   "metadata": {},
   "source": [
    "We can see that accurcy drops from 96% to 36%. This can be accounted by the imbalanced data. But also it seems that since the class_weights don't sum upto to 1, it is basically changing the regularization parameter."
   ]
  },
  {
   "cell_type": "markdown",
   "metadata": {},
   "source": [
    "Let's try one more model keeping max_iter = 250 and changing the class weights as follows:\n",
    "\n",
    "there are 96.5% of legit transactions and 3.5% of fraud transactions\n",
    "\n",
    "We will invert the weights\n",
    "\n",
    "## Logistic Regression with different weights"
   ]
  },
  {
   "cell_type": "code",
   "execution_count": 55,
   "metadata": {},
   "outputs": [],
   "source": [
    "wt2 = { 0:0.035 , 1:0.965 }"
   ]
  },
  {
   "cell_type": "markdown",
   "metadata": {},
   "source": [
    "the weights sum up to 1 : 0.035 + 0.965 = 1"
   ]
  },
  {
   "cell_type": "code",
   "execution_count": 56,
   "metadata": {},
   "outputs": [],
   "source": [
    "# we also see in the best_estimator_ of both model2 and model3 that C=10**4 is the best estimator\n",
    "# given this we will increase the regularization strength (or decrease it since lambda is inverse of C)\n",
    "\n",
    "tuned_parameters2 = [{'C': [10**4, 10**6, 10**8]}]"
   ]
  },
  {
   "cell_type": "code",
   "execution_count": 57,
   "metadata": {},
   "outputs": [
    {
     "data": {
      "text/plain": [
       "GridSearchCV(cv=5,\n",
       "             estimator=LogisticRegression(class_weight={0: 0.035, 1: 0.965},\n",
       "                                          max_iter=250),\n",
       "             param_grid=[{'C': [10000, 1000000, 100000000]}], scoring='f1')"
      ]
     },
     "execution_count": 57,
     "metadata": {},
     "output_type": "execute_result"
    }
   ],
   "source": [
    "model4 = GridSearchCV(LogisticRegression(class_weight = wt2 , max_iter = 250), tuned_parameters2, scoring = 'f1', cv=5)\n",
    "\n",
    "model4.fit(x_train, y_train)"
   ]
  },
  {
   "cell_type": "code",
   "execution_count": 58,
   "metadata": {},
   "outputs": [
    {
     "name": "stdout",
     "output_type": "stream",
     "text": [
      "LogisticRegression(C=10000, class_weight={0: 0.035, 1: 0.965}, max_iter=250)\n"
     ]
    }
   ],
   "source": [
    "print(model4.best_estimator_)"
   ]
  },
  {
   "cell_type": "code",
   "execution_count": 59,
   "metadata": {},
   "outputs": [],
   "source": [
    "y_pred4 = model4.predict(x_test)"
   ]
  },
  {
   "cell_type": "code",
   "execution_count": 60,
   "metadata": {},
   "outputs": [
    {
     "name": "stdout",
     "output_type": "stream",
     "text": [
      "Accuracy Score: 0.7803366410404037\n",
      "Confusion Matrix: \n",
      " [[89255 24720]\n",
      " [ 1224  2909]]\n",
      "Area Under Curve: 0.7434787078276395\n",
      "f1 score: 0.1831748630438889\n"
     ]
    }
   ],
   "source": [
    "print('Accuracy Score:', accuracy_score(y_test,y_pred4))\n",
    "print('Confusion Matrix: \\n',confusion_matrix(y_test, y_pred4))\n",
    "print('Area Under Curve:', roc_auc_score(y_test, y_pred4))\n",
    "print('f1 score:', f1_score(y_test,y_pred4))"
   ]
  },
  {
   "cell_type": "markdown",
   "metadata": {},
   "source": [
    "Precision = TP / (TP+FP) i.e how many of the predicted positives are actually Positive\n",
    "\n",
    "Recall = TP / (TP+FN) i.e how many actual positives were predicted or simply True Positive Rate"
   ]
  },
  {
   "cell_type": "code",
   "execution_count": 61,
   "metadata": {},
   "outputs": [
    {
     "name": "stdout",
     "output_type": "stream",
     "text": [
      "Precision:  0.10528792211082558\n",
      "Recall:  0.7038470844422937\n"
     ]
    }
   ],
   "source": [
    "print('Precision: ', precision_score(y_test,y_pred4))\n",
    "print('Recall: ', recall_score(y_test,y_pred4))"
   ]
  },
  {
   "cell_type": "code",
   "execution_count": 62,
   "metadata": {},
   "outputs": [
    {
     "data": {
      "image/png": "[encoded data removed]",
      "text/plain": [
       "<Figure size 432x288 with 1 Axes>"
      ]
     },
     "metadata": {
      "needs_background": "light"
     },
     "output_type": "display_data"
    }
   ],
   "source": [
    "# plot ROC : FPR (x) vs TPR (y)\n",
    "\n",
    "y_pred_prob = model4.predict_proba(x_train)[::,1]\n",
    "fpr, tpr, _ = roc_curve(y_train,  y_pred_prob)\n",
    "\n",
    "mplt.plot(fpr,tpr)\n",
    "mplt.ylabel('True Positive Rate')\n",
    "mplt.xlabel('False Positive Rate')\n",
    "mplt.show()"
   ]
  },
  {
   "cell_type": "code",
   "execution_count": 63,
   "metadata": {},
   "outputs": [
    {
     "data": {
      "image/png": "[encoded data removed]",
      "text/plain": [
       "<Figure size 432x288 with 1 Axes>"
      ]
     },
     "metadata": {
      "needs_background": "light"
     },
     "output_type": "display_data"
    }
   ],
   "source": [
    "y_pred_prob1 = model4.predict_proba(x_test)[::,1]\n",
    "fpr1, tpr1, _ = roc_curve(y_test,  y_pred_prob1)\n",
    "\n",
    "mplt.plot(fpr1,tpr1)\n",
    "mplt.ylabel('True Positive Rate')\n",
    "mplt.xlabel('False Positive Rate')\n",
    "mplt.show()"
   ]
  },
  {
   "cell_type": "markdown",
   "metadata": {},
   "source": [
    "### Clearly, scores of model3 and model4 show that model4 has improved accuracy, f1\n",
    "\n",
    "We need to still improve the f1 score and\n",
    "### so we will try using a different model\n",
    "\n",
    "We cannot imporve on LogReg too much as can be seen from the best estimator parameters. C=10^4 is the best regularization strength"
   ]
  },
  {
   "cell_type": "markdown",
   "metadata": {},
   "source": [
    "# 4. Random Forest\n",
    "\n",
    "It is a famous bagging technique that uses bootstrapped samples from the data and and applies a different model on EACH of these bootstrapped samples. The majority vote taken from the output of each of these sampled models is the output of the RF classifier.\n",
    "\n",
    "It eliminates variance, i.e prevents/minimizes overfitting and also solves the problem of deep DTs causing high variance(overfit)"
   ]
  },
  {
   "cell_type": "code",
   "execution_count": 64,
   "metadata": {},
   "outputs": [
    {
     "data": {
      "text/plain": [
       "RandomForestClassifier(class_weight={0: 0.035, 1: 0.965}, n_estimators=50)"
      ]
     },
     "execution_count": 64,
     "metadata": {},
     "output_type": "execute_result"
    }
   ],
   "source": [
    "# criterion will be kept default, i.e Gini Impurity because of its computational efficiency over entropy\n",
    "\n",
    "model5 = RandomForestClassifier(n_estimators = 50, class_weight = wt2)\n",
    "model5.fit(x_train, y_train)"
   ]
  },
  {
   "cell_type": "code",
   "execution_count": 65,
   "metadata": {},
   "outputs": [],
   "source": [
    "y_pred5 = model5.predict(x_test)"
   ]
  },
  {
   "cell_type": "code",
   "execution_count": 66,
   "metadata": {},
   "outputs": [
    {
     "name": "stdout",
     "output_type": "stream",
     "text": [
      "F1 Score: 0.5860000000000001\n",
      "Precision:  0.9416175682913765\n",
      "Recall:  0.42535688361964674\n"
     ]
    }
   ],
   "source": [
    "print(\"F1 Score:\",f1_score(y_test, y_pred5))\n",
    "print('Precision: ', precision_score(y_test,y_pred5))\n",
    "print('Recall: ', recall_score(y_test,y_pred5))"
   ]
  },
  {
   "cell_type": "code",
   "execution_count": 67,
   "metadata": {},
   "outputs": [
    {
     "name": "stdout",
     "output_type": "stream",
     "text": [
      "Accuracy Score: 0.9789684018017408\n",
      "Confusion Matrix: \n",
      " [[113866    109]\n",
      " [  2375   1758]]\n",
      "Area Under Curve: 0.7122002667714378\n"
     ]
    }
   ],
   "source": [
    "print('Accuracy Score:', accuracy_score(y_test,y_pred5))\n",
    "print('Confusion Matrix: \\n',confusion_matrix(y_test, y_pred5))\n",
    "print('Area Under Curve:', roc_auc_score(y_test, y_pred5))"
   ]
  },
  {
   "cell_type": "markdown",
   "metadata": {},
   "source": [
    "### RF with default estimators, i.e 100, with the same weights"
   ]
  },
  {
   "cell_type": "code",
   "execution_count": 68,
   "metadata": {},
   "outputs": [
    {
     "data": {
      "text/plain": [
       "RandomForestClassifier(class_weight={0: 0.035, 1: 0.965})"
      ]
     },
     "execution_count": 68,
     "metadata": {},
     "output_type": "execute_result"
    }
   ],
   "source": [
    "model6 = RandomForestClassifier(class_weight = wt2)\n",
    "model6.fit(x_train, y_train)"
   ]
  },
  {
   "cell_type": "code",
   "execution_count": 69,
   "metadata": {},
   "outputs": [],
   "source": [
    "y_pred6 = model6.predict(x_test)"
   ]
  },
  {
   "cell_type": "code",
   "execution_count": 70,
   "metadata": {},
   "outputs": [
    {
     "name": "stdout",
     "output_type": "stream",
     "text": [
      "F1 Score: 0.6\n",
      "Precision:  0.9434353918007266\n",
      "Recall:  0.4398741834018873\n"
     ]
    }
   ],
   "source": [
    "print(\"F1 Score:\",f1_score(y_test, y_pred6))\n",
    "print('Precision: ', precision_score(y_test,y_pred6))\n",
    "print('Recall: ', recall_score(y_test,y_pred6))"
   ]
  },
  {
   "cell_type": "code",
   "execution_count": 71,
   "metadata": {},
   "outputs": [
    {
     "name": "stdout",
     "output_type": "stream",
     "text": [
      "Accuracy Score: 0.9794764114200563\n",
      "Confusion Matrix: \n",
      " [[113866    109]\n",
      " [  2315   1818]]\n",
      "Area Under Curve: 0.7194589166625581\n"
     ]
    }
   ],
   "source": [
    "print('Accuracy Score:', accuracy_score(y_test,y_pred6))\n",
    "print('Confusion Matrix: \\n',confusion_matrix(y_test, y_pred6))\n",
    "print('Area Under Curve:', roc_auc_score(y_test, y_pred6))"
   ]
  },
  {
   "cell_type": "markdown",
   "metadata": {},
   "source": [
    "### Since we some improvement in the scores, let us increase n_estimators"
   ]
  },
  {
   "cell_type": "code",
   "execution_count": 76,
   "metadata": {},
   "outputs": [
    {
     "data": {
      "text/plain": [
       "RandomForestClassifier(class_weight={0: 0.035, 1: 0.965}, n_estimators=200)"
      ]
     },
     "execution_count": 76,
     "metadata": {},
     "output_type": "execute_result"
    }
   ],
   "source": [
    "model7 = RandomForestClassifier(n_estimators = 200 , class_weight = wt2)\n",
    "model7.fit(x_train, y_train)"
   ]
  },
  {
   "cell_type": "code",
   "execution_count": 89,
   "metadata": {},
   "outputs": [],
   "source": [
    "y_pred7 = model7.predict(x_test)"
   ]
  },
  {
   "cell_type": "code",
   "execution_count": 90,
   "metadata": {},
   "outputs": [
    {
     "name": "stdout",
     "output_type": "stream",
     "text": [
      "F1 Score: 0.5925311203319501\n",
      "Precision:  0.943446088794926\n",
      "Recall:  0.43188966852165495\n"
     ]
    }
   ],
   "source": [
    "print(\"F1 Score:\",f1_score(y_test, y_pred7))\n",
    "print('Precision: ', precision_score(y_test,y_pred7))\n",
    "print('Recall: ', recall_score(y_test,y_pred7))"
   ]
  },
  {
   "cell_type": "code",
   "execution_count": 91,
   "metadata": {},
   "outputs": [
    {
     "name": "stdout",
     "output_type": "stream",
     "text": [
      "Accuracy Score: 0.9792139397839266\n",
      "Confusion Matrix: \n",
      " [[113868    107]\n",
      " [  2348   1785]]\n",
      "Area Under Curve: 0.7154754330763572\n"
     ]
    }
   ],
   "source": [
    "print('Accuracy Score:', accuracy_score(y_test,y_pred7))\n",
    "print('Confusion Matrix: \\n',confusion_matrix(y_test, y_pred7))\n",
    "print('Area Under Curve:', roc_auc_score(y_test, y_pred7))"
   ]
  },
  {
   "cell_type": "markdown",
   "metadata": {},
   "source": [
    "We see that increasing n_estimators has not improved our RF models performance and therefore we will keep it as it is, i.e default."
   ]
  },
  {
   "cell_type": "markdown",
   "metadata": {},
   "source": [
    "# 5. XGBoost"
   ]
  },
  {
   "cell_type": "markdown",
   "metadata": {},
   "source": [
    "We see from XGBoost's documentation that there is a parameter lambda i.e. inverse of C or simply put, the regularization strength of L2 penalty.\n",
    "\n",
    "We can use the value of C (taken as inverse) and fed to the XGBoost classifier\n",
    "\n",
    "### Base XGBoost"
   ]
  },
  {
   "cell_type": "code",
   "execution_count": 80,
   "metadata": {},
   "outputs": [
    {
     "data": {
      "text/plain": [
       "XGBClassifier(base_score=0.5, booster='gbtree', callbacks=None,\n",
       "              colsample_bylevel=1, colsample_bynode=1, colsample_bytree=1,\n",
       "              early_stopping_rounds=None, enable_categorical=False,\n",
       "              eval_metric=None, gamma=0, gpu_id=-1, grow_policy='depthwise',\n",
       "              importance_type=None, interaction_constraints='',\n",
       "              learning_rate=0.300000012, max_bin=256, max_cat_to_onehot=4,\n",
       "              max_delta_step=0, max_depth=6, max_leaves=0, min_child_weight=1,\n",
       "              missing=nan, monotone_constraints='()', n_estimators=100,\n",
       "              n_jobs=0, num_parallel_tree=1, predictor='auto', random_state=0,\n",
       "              reg_alpha=0, reg_lambda=1, ...)"
      ]
     },
     "execution_count": 80,
     "metadata": {},
     "output_type": "execute_result"
    }
   ],
   "source": [
    "model8 = XGBClassifier()\n",
    "model8.fit(x_train, y_train)"
   ]
  },
  {
   "cell_type": "code",
   "execution_count": 83,
   "metadata": {},
   "outputs": [],
   "source": [
    "y_pred8 = model8.predict(x_test)"
   ]
  },
  {
   "cell_type": "code",
   "execution_count": 84,
   "metadata": {},
   "outputs": [
    {
     "name": "stdout",
     "output_type": "stream",
     "text": [
      "F1 Score: 0.6061188531154893\n",
      "Precision:  0.8966824644549763\n",
      "Recall:  0.4577788531333172\n",
      "Accuracy Score: 0.9791800724760389\n",
      "Confusion Matrix: \n",
      " [[113757    218]\n",
      " [  2241   1892]]\n",
      "Area Under Curve: 0.7279330764898874\n"
     ]
    }
   ],
   "source": [
    "print(\"F1 Score:\",f1_score(y_test, y_pred8))\n",
    "print('Precision: ', precision_score(y_test,y_pred8))\n",
    "print('Recall: ', recall_score(y_test,y_pred8))\n",
    "\n",
    "print('Accuracy Score:', accuracy_score(y_test,y_pred8))\n",
    "print('Confusion Matrix: \\n',confusion_matrix(y_test, y_pred8))\n",
    "print('Area Under Curve:', roc_auc_score(y_test, y_pred8))"
   ]
  },
  {
   "cell_type": "code",
   "execution_count": 85,
   "metadata": {
    "scrolled": true
   },
   "outputs": [
    {
     "data": {
      "text/plain": [
       "{'objective': 'binary:logistic',\n",
       " 'use_label_encoder': False,\n",
       " 'base_score': 0.5,\n",
       " 'booster': 'gbtree',\n",
       " 'callbacks': None,\n",
       " 'colsample_bylevel': 1,\n",
       " 'colsample_bynode': 1,\n",
       " 'colsample_bytree': 1,\n",
       " 'early_stopping_rounds': None,\n",
       " 'enable_categorical': False,\n",
       " 'eval_metric': None,\n",
       " 'gamma': 0,\n",
       " 'gpu_id': -1,\n",
       " 'grow_policy': 'depthwise',\n",
       " 'importance_type': None,\n",
       " 'interaction_constraints': '',\n",
       " 'learning_rate': 0.300000012,\n",
       " 'max_bin': 256,\n",
       " 'max_cat_to_onehot': 4,\n",
       " 'max_delta_step': 0,\n",
       " 'max_depth': 6,\n",
       " 'max_leaves': 0,\n",
       " 'min_child_weight': 1,\n",
       " 'missing': nan,\n",
       " 'monotone_constraints': '()',\n",
       " 'n_estimators': 100,\n",
       " 'n_jobs': 0,\n",
       " 'num_parallel_tree': 1,\n",
       " 'predictor': 'auto',\n",
       " 'random_state': 0,\n",
       " 'reg_alpha': 0,\n",
       " 'reg_lambda': 1,\n",
       " 'sampling_method': 'uniform',\n",
       " 'scale_pos_weight': 1,\n",
       " 'subsample': 1,\n",
       " 'tree_method': 'exact',\n",
       " 'validate_parameters': 1,\n",
       " 'verbosity': None}"
      ]
     },
     "execution_count": 85,
     "metadata": {},
     "output_type": "execute_result"
    }
   ],
   "source": [
    "model8.get_params()"
   ]
  },
  {
   "cell_type": "markdown",
   "metadata": {},
   "source": [
    "See documentation: https://xgboost.readthedocs.io/en/stable/parameter.html\n",
    "Unable to understand how to setup class_weights\n",
    "\n",
    "We are anyway getting better scores than RF with base XGBoost\n",
    "\n",
    "Best C = 10^4 therefore\n",
    "### XGBoost lambda is 10^-4"
   ]
  },
  {
   "cell_type": "code",
   "execution_count": 86,
   "metadata": {},
   "outputs": [
    {
     "data": {
      "text/plain": [
       "XGBClassifier(base_score=0.5, booster='gbtree', callbacks=None,\n",
       "              colsample_bylevel=1, colsample_bynode=1, colsample_bytree=1,\n",
       "              early_stopping_rounds=None, enable_categorical=False,\n",
       "              eval_metric=None, gamma=0, gpu_id=-1, grow_policy='depthwise',\n",
       "              importance_type=None, interaction_constraints='',\n",
       "              learning_rate=0.300000012, max_bin=256, max_cat_to_onehot=4,\n",
       "              max_delta_step=0, max_depth=6, max_leaves=0, min_child_weight=1,\n",
       "              missing=nan, monotone_constraints='()', n_estimators=200,\n",
       "              n_jobs=0, num_parallel_tree=1, predictor='auto', random_state=0,\n",
       "              reg_alpha=0, reg_lambda=0.0001, ...)"
      ]
     },
     "execution_count": 86,
     "metadata": {},
     "output_type": "execute_result"
    }
   ],
   "source": [
    "model9 = XGBClassifier(n_estimators = 200 , reg_lambda = 10**-4 )\n",
    "model9.fit(x_train, y_train)"
   ]
  },
  {
   "cell_type": "code",
   "execution_count": 87,
   "metadata": {},
   "outputs": [],
   "source": [
    "y_pred9 = model9.predict(x_test)"
   ]
  },
  {
   "cell_type": "code",
   "execution_count": 88,
   "metadata": {},
   "outputs": [
    {
     "name": "stdout",
     "output_type": "stream",
     "text": [
      "F1 Score: 0.6746731529340225\n",
      "Precision:  0.9075664621676892\n",
      "Recall:  0.536898136946528\n",
      "Accuracy Score: 0.9818809902800827\n",
      "Confusion Matrix: \n",
      " [[113749    226]\n",
      " [  1914   2219]]\n",
      "Area Under Curve: 0.7674576229808314\n"
     ]
    }
   ],
   "source": [
    "print(\"F1 Score:\",f1_score(y_test, y_pred9))\n",
    "print('Precision: ', precision_score(y_test,y_pred9))\n",
    "print('Recall: ', recall_score(y_test,y_pred9))\n",
    "\n",
    "print('Accuracy Score:', accuracy_score(y_test,y_pred9))\n",
    "print('Confusion Matrix: \\n',confusion_matrix(y_test, y_pred9))\n",
    "print('Area Under Curve:', roc_auc_score(y_test, y_pred9))"
   ]
  },
  {
   "cell_type": "markdown",
   "metadata": {},
   "source": [
    "# Compare results of model6 (RF) and model9 (XGBoost)"
   ]
  },
  {
   "cell_type": "code",
   "execution_count": 92,
   "metadata": {},
   "outputs": [
    {
     "name": "stdout",
     "output_type": "stream",
     "text": [
      "F1 Score: 0.6\n",
      "Precision:  0.9434353918007266\n",
      "Recall:  0.4398741834018873\n",
      "Accuracy Score: 0.9794764114200563\n",
      "Confusion Matrix: \n",
      " [[113866    109]\n",
      " [  2315   1818]]\n",
      "Area Under Curve: 0.7194589166625581\n"
     ]
    }
   ],
   "source": [
    "# model6 = RandomForestClassifier(class_weight = wt2)\n",
    "\n",
    "print(\"F1 Score:\",f1_score(y_test, y_pred6))\n",
    "print('Precision: ', precision_score(y_test,y_pred6))\n",
    "print('Recall: ', recall_score(y_test,y_pred6))\n",
    "\n",
    "print('Accuracy Score:', accuracy_score(y_test,y_pred6))\n",
    "print('Confusion Matrix: \\n',confusion_matrix(y_test, y_pred6))\n",
    "print('Area Under Curve:', roc_auc_score(y_test, y_pred6))"
   ]
  },
  {
   "cell_type": "markdown",
   "metadata": {},
   "source": [
    "We can clearly see that the F1 score and AUC score is higher for model9 , i.e XGBoost, even though it does not account for the class weights that we applied to model6 (our best Random Forest model)"
   ]
  },
  {
   "cell_type": "code",
   "execution_count": 96,
   "metadata": {},
   "outputs": [
    {
     "data": {
      "text/plain": [
       "pandas.core.series.Series"
      ]
     },
     "execution_count": 96,
     "metadata": {},
     "output_type": "execute_result"
    }
   ],
   "source": [
    "type(y_test)"
   ]
  },
  {
   "cell_type": "code",
   "execution_count": 101,
   "metadata": {},
   "outputs": [],
   "source": [
    "check = { 'model6' : y_pred6 , 'model9' : y_pred9 , 'label' : y_test }"
   ]
  },
  {
   "cell_type": "code",
   "execution_count": 102,
   "metadata": {},
   "outputs": [],
   "source": [
    "check_df =  pd.DataFrame(check)"
   ]
  },
  {
   "cell_type": "code",
   "execution_count": 103,
   "metadata": {},
   "outputs": [
    {
     "data": {
      "text/html": [
       "<div>\n",
       "<style scoped>\n",
       "    .dataframe tbody tr th:only-of-type {\n",
       "        vertical-align: middle;\n",
       "    }\n",
       "\n",
       "    .dataframe tbody tr th {\n",
       "        vertical-align: top;\n",
       "    }\n",
       "\n",
       "    .dataframe thead th {\n",
       "        text-align: right;\n",
       "    }\n",
       "</style>\n",
       "<table border=\"1\" class=\"dataframe\">\n",
       "  <thead>\n",
       "    <tr style=\"text-align: right;\">\n",
       "      <th></th>\n",
       "      <th>model6</th>\n",
       "      <th>model9</th>\n",
       "      <th>label</th>\n",
       "    </tr>\n",
       "  </thead>\n",
       "  <tbody>\n",
       "    <tr>\n",
       "      <th>4124</th>\n",
       "      <td>0</td>\n",
       "      <td>0</td>\n",
       "      <td>0</td>\n",
       "    </tr>\n",
       "    <tr>\n",
       "      <th>116888</th>\n",
       "      <td>0</td>\n",
       "      <td>0</td>\n",
       "      <td>0</td>\n",
       "    </tr>\n",
       "    <tr>\n",
       "      <th>410212</th>\n",
       "      <td>0</td>\n",
       "      <td>0</td>\n",
       "      <td>0</td>\n",
       "    </tr>\n",
       "    <tr>\n",
       "      <th>106580</th>\n",
       "      <td>0</td>\n",
       "      <td>0</td>\n",
       "      <td>0</td>\n",
       "    </tr>\n",
       "    <tr>\n",
       "      <th>450940</th>\n",
       "      <td>0</td>\n",
       "      <td>0</td>\n",
       "      <td>0</td>\n",
       "    </tr>\n",
       "    <tr>\n",
       "      <th>...</th>\n",
       "      <td>...</td>\n",
       "      <td>...</td>\n",
       "      <td>...</td>\n",
       "    </tr>\n",
       "    <tr>\n",
       "      <th>170826</th>\n",
       "      <td>0</td>\n",
       "      <td>0</td>\n",
       "      <td>0</td>\n",
       "    </tr>\n",
       "    <tr>\n",
       "      <th>415133</th>\n",
       "      <td>1</td>\n",
       "      <td>1</td>\n",
       "      <td>1</td>\n",
       "    </tr>\n",
       "    <tr>\n",
       "      <th>327650</th>\n",
       "      <td>0</td>\n",
       "      <td>0</td>\n",
       "      <td>0</td>\n",
       "    </tr>\n",
       "    <tr>\n",
       "      <th>67801</th>\n",
       "      <td>0</td>\n",
       "      <td>0</td>\n",
       "      <td>1</td>\n",
       "    </tr>\n",
       "    <tr>\n",
       "      <th>428932</th>\n",
       "      <td>0</td>\n",
       "      <td>0</td>\n",
       "      <td>0</td>\n",
       "    </tr>\n",
       "  </tbody>\n",
       "</table>\n",
       "<p>118108 rows × 3 columns</p>\n",
       "</div>"
      ],
      "text/plain": [
       "        model6  model9  label\n",
       "4124         0       0      0\n",
       "116888       0       0      0\n",
       "410212       0       0      0\n",
       "106580       0       0      0\n",
       "450940       0       0      0\n",
       "...        ...     ...    ...\n",
       "170826       0       0      0\n",
       "415133       1       1      1\n",
       "327650       0       0      0\n",
       "67801        0       0      1\n",
       "428932       0       0      0\n",
       "\n",
       "[118108 rows x 3 columns]"
      ]
     },
     "execution_count": 103,
     "metadata": {},
     "output_type": "execute_result"
    }
   ],
   "source": [
    "check_df"
   ]
  },
  {
   "cell_type": "code",
   "execution_count": 104,
   "metadata": {},
   "outputs": [
    {
     "data": {
      "text/plain": [
       "118107.40000000001"
      ]
     },
     "execution_count": 104,
     "metadata": {},
     "output_type": "execute_result"
    }
   ],
   "source": [
    "590537*0.2"
   ]
  },
  {
   "cell_type": "code",
   "execution_count": 105,
   "metadata": {},
   "outputs": [
    {
     "data": {
      "text/plain": [
       "0    113975\n",
       "1      4133\n",
       "Name: label, dtype: int64"
      ]
     },
     "execution_count": 105,
     "metadata": {},
     "output_type": "execute_result"
    }
   ],
   "source": [
    "check_df['label'].value_counts()"
   ]
  },
  {
   "cell_type": "code",
   "execution_count": 106,
   "metadata": {},
   "outputs": [
    {
     "data": {
      "text/plain": [
       "0    116181\n",
       "1      1927\n",
       "Name: model6, dtype: int64"
      ]
     },
     "execution_count": 106,
     "metadata": {},
     "output_type": "execute_result"
    }
   ],
   "source": [
    "check_df['model6'].value_counts()"
   ]
  },
  {
   "cell_type": "code",
   "execution_count": 107,
   "metadata": {},
   "outputs": [
    {
     "data": {
      "text/plain": [
       "0    115663\n",
       "1      2445\n",
       "Name: model9, dtype: int64"
      ]
     },
     "execution_count": 107,
     "metadata": {},
     "output_type": "execute_result"
    }
   ],
   "source": [
    "check_df['model9'].value_counts()"
   ]
  },
  {
   "cell_type": "markdown",
   "metadata": {},
   "source": [
    "Since we want True Positive Rate to be high, i.e Recall to be high, we will use the XGBoost model (model9) as our pick for test set predictions since this gives the highest Recall score of 0.53 along with the highest F1 and AUC scores."
   ]
  },
  {
   "cell_type": "code",
   "execution_count": null,
   "metadata": {},
   "outputs": [],
   "source": []
  }
 ],
 "metadata": {
  "kernelspec": {
   "display_name": "Python 3",
   "language": "python",
   "name": "python3"
  },
  "language_info": {
   "codemirror_mode": {
    "name": "ipython",
    "version": 3
   },
   "file_extension": ".py",
   "mimetype": "text/x-python",
   "name": "python",
   "nbconvert_exporter": "python",
   "pygments_lexer": "ipython3",
   "version": "3.8.3"
  }
 },
 "nbformat": 4,
 "nbformat_minor": 4
}

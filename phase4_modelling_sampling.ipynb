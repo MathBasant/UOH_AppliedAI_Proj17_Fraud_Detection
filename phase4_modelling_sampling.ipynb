{
 "cells": [
  {
   "cell_type": "code",
   "execution_count": 2,
   "metadata": {},
   "outputs": [],
   "source": [
    "#pip install xgboost"
   ]
  },
  {
   "cell_type": "markdown",
   "metadata": {},
   "source": [
    "All transformations to the data were completed in earlier phases. "
   ]
  },
  {
   "cell_type": "code",
   "execution_count": 3,
   "metadata": {},
   "outputs": [],
   "source": [
    "import pandas as pd\n",
    "pd.set_option('display.max_columns', 50)\n",
    "\n",
    "import numpy as np\n",
    "import matplotlib as mp\n",
    "import matplotlib.pyplot as mplt\n",
    "import seaborn as sn\n",
    "from scipy import stats\n",
    "\n",
    "import sklearn\n",
    "from sklearn.impute import SimpleImputer\n",
    "from sklearn.model_selection import train_test_split\n",
    "#from sklearn.model_selection import GridSearchCV\n",
    "from sklearn.preprocessing import StandardScaler\n",
    "from sklearn.linear_model import LogisticRegression\n",
    "from sklearn.ensemble import RandomForestClassifier\n",
    "from xgboost import XGBClassifier\n",
    "from sklearn.metrics import accuracy_score\n",
    "from sklearn.metrics import confusion_matrix , classification_report , f1_score"
   ]
  },
  {
   "cell_type": "code",
   "execution_count": 5,
   "metadata": {},
   "outputs": [],
   "source": [
    "df = pd.read_csv('model_df.csv')"
   ]
  },
  {
   "cell_type": "code",
   "execution_count": 6,
   "metadata": {},
   "outputs": [
    {
     "data": {
      "text/plain": [
       "0              0\n",
       "1              1\n",
       "2              2\n",
       "3              3\n",
       "4              4\n",
       "           ...  \n",
       "590532    590535\n",
       "590533    590536\n",
       "590534    590537\n",
       "590535    590538\n",
       "590536    590539\n",
       "Name: Unnamed: 0, Length: 590537, dtype: int64"
      ]
     },
     "execution_count": 6,
     "metadata": {},
     "output_type": "execute_result"
    }
   ],
   "source": [
    "df.pop('Unnamed: 0')"
   ]
  },
  {
   "cell_type": "code",
   "execution_count": 7,
   "metadata": {},
   "outputs": [],
   "source": [
    "#df.describe()"
   ]
  },
  {
   "cell_type": "code",
   "execution_count": 8,
   "metadata": {},
   "outputs": [
    {
     "data": {
      "text/plain": [
       "(590537, 228)"
      ]
     },
     "execution_count": 8,
     "metadata": {},
     "output_type": "execute_result"
    }
   ],
   "source": [
    "df.shape"
   ]
  },
  {
   "cell_type": "code",
   "execution_count": 45,
   "metadata": {},
   "outputs": [
    {
     "data": {
      "text/plain": [
       "135.02683800553552"
      ]
     },
     "execution_count": 45,
     "metadata": {},
     "output_type": "execute_result"
    }
   ],
   "source": [
    "df['TransactionAmt'].mean()"
   ]
  },
  {
   "cell_type": "code",
   "execution_count": 9,
   "metadata": {},
   "outputs": [
    {
     "data": {
      "text/html": [
       "<div>\n",
       "<style scoped>\n",
       "    .dataframe tbody tr th:only-of-type {\n",
       "        vertical-align: middle;\n",
       "    }\n",
       "\n",
       "    .dataframe tbody tr th {\n",
       "        vertical-align: top;\n",
       "    }\n",
       "\n",
       "    .dataframe thead th {\n",
       "        text-align: right;\n",
       "    }\n",
       "</style>\n",
       "<table border=\"1\" class=\"dataframe\">\n",
       "  <thead>\n",
       "    <tr style=\"text-align: right;\">\n",
       "      <th></th>\n",
       "      <th>TransactionDT</th>\n",
       "      <th>TransactionAmt</th>\n",
       "      <th>card1</th>\n",
       "      <th>card2</th>\n",
       "      <th>card3</th>\n",
       "      <th>card5</th>\n",
       "      <th>addr1</th>\n",
       "      <th>addr2</th>\n",
       "      <th>dist1</th>\n",
       "      <th>C1</th>\n",
       "      <th>C2</th>\n",
       "      <th>C3</th>\n",
       "      <th>C4</th>\n",
       "      <th>C5</th>\n",
       "      <th>C6</th>\n",
       "      <th>C7</th>\n",
       "      <th>C8</th>\n",
       "      <th>C9</th>\n",
       "      <th>C10</th>\n",
       "      <th>C11</th>\n",
       "      <th>C12</th>\n",
       "      <th>C13</th>\n",
       "      <th>C14</th>\n",
       "      <th>D1</th>\n",
       "      <th>D2</th>\n",
       "      <th>...</th>\n",
       "      <th>V313</th>\n",
       "      <th>V314</th>\n",
       "      <th>V315</th>\n",
       "      <th>V316</th>\n",
       "      <th>V317</th>\n",
       "      <th>V318</th>\n",
       "      <th>V319</th>\n",
       "      <th>V320</th>\n",
       "      <th>V321</th>\n",
       "      <th>id_01</th>\n",
       "      <th>id_02</th>\n",
       "      <th>id_03</th>\n",
       "      <th>id_04</th>\n",
       "      <th>id_05</th>\n",
       "      <th>id_06</th>\n",
       "      <th>id_09</th>\n",
       "      <th>id_10</th>\n",
       "      <th>id_11</th>\n",
       "      <th>id_13</th>\n",
       "      <th>id_14</th>\n",
       "      <th>id_17</th>\n",
       "      <th>id_18</th>\n",
       "      <th>id_19</th>\n",
       "      <th>id_20</th>\n",
       "      <th>id_32</th>\n",
       "    </tr>\n",
       "    <tr>\n",
       "      <th>isFraud</th>\n",
       "      <th></th>\n",
       "      <th></th>\n",
       "      <th></th>\n",
       "      <th></th>\n",
       "      <th></th>\n",
       "      <th></th>\n",
       "      <th></th>\n",
       "      <th></th>\n",
       "      <th></th>\n",
       "      <th></th>\n",
       "      <th></th>\n",
       "      <th></th>\n",
       "      <th></th>\n",
       "      <th></th>\n",
       "      <th></th>\n",
       "      <th></th>\n",
       "      <th></th>\n",
       "      <th></th>\n",
       "      <th></th>\n",
       "      <th></th>\n",
       "      <th></th>\n",
       "      <th></th>\n",
       "      <th></th>\n",
       "      <th></th>\n",
       "      <th></th>\n",
       "      <th></th>\n",
       "      <th></th>\n",
       "      <th></th>\n",
       "      <th></th>\n",
       "      <th></th>\n",
       "      <th></th>\n",
       "      <th></th>\n",
       "      <th></th>\n",
       "      <th></th>\n",
       "      <th></th>\n",
       "      <th></th>\n",
       "      <th></th>\n",
       "      <th></th>\n",
       "      <th></th>\n",
       "      <th></th>\n",
       "      <th></th>\n",
       "      <th></th>\n",
       "      <th></th>\n",
       "      <th></th>\n",
       "      <th></th>\n",
       "      <th></th>\n",
       "      <th></th>\n",
       "      <th></th>\n",
       "      <th></th>\n",
       "      <th></th>\n",
       "      <th></th>\n",
       "    </tr>\n",
       "  </thead>\n",
       "  <tbody>\n",
       "    <tr>\n",
       "      <th>0</th>\n",
       "      <td>7.360770e+06</td>\n",
       "      <td>134.511311</td>\n",
       "      <td>9911.495462</td>\n",
       "      <td>362.455656</td>\n",
       "      <td>152.862941</td>\n",
       "      <td>199.540366</td>\n",
       "      <td>290.652886</td>\n",
       "      <td>86.812298</td>\n",
       "      <td>118.031805</td>\n",
       "      <td>13.31477</td>\n",
       "      <td>14.173135</td>\n",
       "      <td>0.005840</td>\n",
       "      <td>3.693897</td>\n",
       "      <td>5.722353</td>\n",
       "      <td>8.786277</td>\n",
       "      <td>2.517497</td>\n",
       "      <td>4.560905</td>\n",
       "      <td>4.580767</td>\n",
       "      <td>4.723551</td>\n",
       "      <td>9.747699</td>\n",
       "      <td>3.549720</td>\n",
       "      <td>32.813804</td>\n",
       "      <td>8.220331</td>\n",
       "      <td>96.360355</td>\n",
       "      <td>170.831524</td>\n",
       "      <td>...</td>\n",
       "      <td>20.595489</td>\n",
       "      <td>42.048203</td>\n",
       "      <td>25.734789</td>\n",
       "      <td>111.098356</td>\n",
       "      <td>243.810579</td>\n",
       "      <td>161.623347</td>\n",
       "      <td>18.368728</td>\n",
       "      <td>41.624742</td>\n",
       "      <td>28.204731</td>\n",
       "      <td>-10.053223</td>\n",
       "      <td>174188.719322</td>\n",
       "      <td>0.059296</td>\n",
       "      <td>-0.057431</td>\n",
       "      <td>1.618317</td>\n",
       "      <td>-6.669510</td>\n",
       "      <td>0.089859</td>\n",
       "      <td>-0.302362</td>\n",
       "      <td>99.744727</td>\n",
       "      <td>48.067263</td>\n",
       "      <td>-344.663060</td>\n",
       "      <td>189.150161</td>\n",
       "      <td>14.235634</td>\n",
       "      <td>353.516876</td>\n",
       "      <td>403.264110</td>\n",
       "      <td>26.501285</td>\n",
       "    </tr>\n",
       "    <tr>\n",
       "      <th>1</th>\n",
       "      <td>7.690033e+06</td>\n",
       "      <td>149.244779</td>\n",
       "      <td>9547.654164</td>\n",
       "      <td>365.313219</td>\n",
       "      <td>162.351333</td>\n",
       "      <td>192.068362</td>\n",
       "      <td>292.974830</td>\n",
       "      <td>86.478811</td>\n",
       "      <td>131.407103</td>\n",
       "      <td>35.53574</td>\n",
       "      <td>45.509413</td>\n",
       "      <td>0.000242</td>\n",
       "      <td>15.077336</td>\n",
       "      <td>1.406717</td>\n",
       "      <td>16.923148</td>\n",
       "      <td>11.977157</td>\n",
       "      <td>21.242608</td>\n",
       "      <td>1.703964</td>\n",
       "      <td>19.493926</td>\n",
       "      <td>23.857475</td>\n",
       "      <td>18.597541</td>\n",
       "      <td>24.967768</td>\n",
       "      <td>10.356047</td>\n",
       "      <td>38.835164</td>\n",
       "      <td>134.603591</td>\n",
       "      <td>...</td>\n",
       "      <td>42.204210</td>\n",
       "      <td>78.378166</td>\n",
       "      <td>56.381228</td>\n",
       "      <td>74.529997</td>\n",
       "      <td>352.313168</td>\n",
       "      <td>176.780111</td>\n",
       "      <td>18.478504</td>\n",
       "      <td>54.408351</td>\n",
       "      <td>31.691347</td>\n",
       "      <td>-13.404992</td>\n",
       "      <td>189274.817221</td>\n",
       "      <td>0.084820</td>\n",
       "      <td>-0.100502</td>\n",
       "      <td>1.540216</td>\n",
       "      <td>-7.504051</td>\n",
       "      <td>0.123137</td>\n",
       "      <td>-0.266961</td>\n",
       "      <td>99.761803</td>\n",
       "      <td>47.661651</td>\n",
       "      <td>-340.207138</td>\n",
       "      <td>197.758742</td>\n",
       "      <td>14.284308</td>\n",
       "      <td>342.408008</td>\n",
       "      <td>420.942111</td>\n",
       "      <td>26.710254</td>\n",
       "    </tr>\n",
       "  </tbody>\n",
       "</table>\n",
       "<p>2 rows × 227 columns</p>\n",
       "</div>"
      ],
      "text/plain": [
       "         TransactionDT  TransactionAmt        card1       card2       card3  \\\n",
       "isFraud                                                                       \n",
       "0         7.360770e+06      134.511311  9911.495462  362.455656  152.862941   \n",
       "1         7.690033e+06      149.244779  9547.654164  365.313219  162.351333   \n",
       "\n",
       "              card5       addr1      addr2       dist1        C1         C2  \\\n",
       "isFraud                                                                       \n",
       "0        199.540366  290.652886  86.812298  118.031805  13.31477  14.173135   \n",
       "1        192.068362  292.974830  86.478811  131.407103  35.53574  45.509413   \n",
       "\n",
       "               C3         C4        C5         C6         C7         C8  \\\n",
       "isFraud                                                                   \n",
       "0        0.005840   3.693897  5.722353   8.786277   2.517497   4.560905   \n",
       "1        0.000242  15.077336  1.406717  16.923148  11.977157  21.242608   \n",
       "\n",
       "               C9        C10        C11        C12        C13        C14  \\\n",
       "isFraud                                                                    \n",
       "0        4.580767   4.723551   9.747699   3.549720  32.813804   8.220331   \n",
       "1        1.703964  19.493926  23.857475  18.597541  24.967768  10.356047   \n",
       "\n",
       "                D1          D2  ...       V313       V314       V315  \\\n",
       "isFraud                         ...                                    \n",
       "0        96.360355  170.831524  ...  20.595489  42.048203  25.734789   \n",
       "1        38.835164  134.603591  ...  42.204210  78.378166  56.381228   \n",
       "\n",
       "               V316        V317        V318       V319       V320       V321  \\\n",
       "isFraud                                                                        \n",
       "0        111.098356  243.810579  161.623347  18.368728  41.624742  28.204731   \n",
       "1         74.529997  352.313168  176.780111  18.478504  54.408351  31.691347   \n",
       "\n",
       "             id_01          id_02     id_03     id_04     id_05     id_06  \\\n",
       "isFraud                                                                     \n",
       "0       -10.053223  174188.719322  0.059296 -0.057431  1.618317 -6.669510   \n",
       "1       -13.404992  189274.817221  0.084820 -0.100502  1.540216 -7.504051   \n",
       "\n",
       "            id_09     id_10      id_11      id_13       id_14       id_17  \\\n",
       "isFraud                                                                     \n",
       "0        0.089859 -0.302362  99.744727  48.067263 -344.663060  189.150161   \n",
       "1        0.123137 -0.266961  99.761803  47.661651 -340.207138  197.758742   \n",
       "\n",
       "             id_18       id_19       id_20      id_32  \n",
       "isFraud                                                \n",
       "0        14.235634  353.516876  403.264110  26.501285  \n",
       "1        14.284308  342.408008  420.942111  26.710254  \n",
       "\n",
       "[2 rows x 227 columns]"
      ]
     },
     "execution_count": 9,
     "metadata": {},
     "output_type": "execute_result"
    }
   ],
   "source": [
    "df.groupby('isFraud').mean()"
   ]
  },
  {
   "cell_type": "markdown",
   "metadata": {},
   "source": [
    "We can see that all 228 features are numerical. \n",
    "\n",
    "Now we will run logistic regression on a balanced dataset created from df using undersampling.\n",
    "\n",
    "Undersampling idea:\n",
    "1. We will separate the legitimate and fraudulent transactions into separate dataframes\n",
    "2. A random sample of fraud.shape(axis=0) will be created using df.sample and concatenated with fraud dataframe\n",
    "3. A number of different random samples will be created"
   ]
  },
  {
   "cell_type": "code",
   "execution_count": 10,
   "metadata": {},
   "outputs": [],
   "source": [
    "# df's with only one label rows\n",
    "legit = df[df.isFraud == 0]\n",
    "fraud = df[df.isFraud == 1]"
   ]
  },
  {
   "cell_type": "code",
   "execution_count": 11,
   "metadata": {},
   "outputs": [
    {
     "data": {
      "text/plain": [
       "(569874, 228)"
      ]
     },
     "execution_count": 11,
     "metadata": {},
     "output_type": "execute_result"
    }
   ],
   "source": [
    "legit.shape"
   ]
  },
  {
   "cell_type": "code",
   "execution_count": 12,
   "metadata": {},
   "outputs": [
    {
     "data": {
      "image/png": "[encoded data removed]",
      "text/plain": [
       "<Figure size 620.125x576 with 1 Axes>"
      ]
     },
     "metadata": {
      "needs_background": "light"
     },
     "output_type": "display_data"
    }
   ],
   "source": [
    "sn.FacetGrid(legit, hue='isFraud' , height=8) \\\n",
    "   .map(sn.distplot, \"TransactionAmt\") \\\n",
    "   .add_legend();\n",
    "mplt.show();"
   ]
  },
  {
   "cell_type": "code",
   "execution_count": 13,
   "metadata": {},
   "outputs": [
    {
     "data": {
      "image/png": "[encoded data removed]",
      "text/plain": [
       "<Figure size 620.125x576 with 1 Axes>"
      ]
     },
     "metadata": {
      "needs_background": "light"
     },
     "output_type": "display_data"
    }
   ],
   "source": [
    "sn.FacetGrid(fraud, hue='isFraud' , height=8) \\\n",
    "   .map(sn.distplot, \"TransactionAmt\") \\\n",
    "   .add_legend();\n",
    "mplt.show();"
   ]
  },
  {
   "cell_type": "code",
   "execution_count": 14,
   "metadata": {},
   "outputs": [],
   "source": [
    "legit_sample = legit.sample(n=fraud.shape[0])"
   ]
  },
  {
   "cell_type": "code",
   "execution_count": 15,
   "metadata": {},
   "outputs": [
    {
     "name": "stdout",
     "output_type": "stream",
     "text": [
      "(20663, 228)\n",
      "(20663, 228)\n"
     ]
    }
   ],
   "source": [
    "print(legit_sample.shape)\n",
    "print(fraud.shape)"
   ]
  },
  {
   "cell_type": "code",
   "execution_count": 16,
   "metadata": {},
   "outputs": [],
   "source": [
    "new_df = pd.concat([legit_sample, fraud], axis=0)\n",
    "#new_df"
   ]
  },
  {
   "cell_type": "code",
   "execution_count": 17,
   "metadata": {},
   "outputs": [
    {
     "data": {
      "text/plain": [
       "(41326, 228)"
      ]
     },
     "execution_count": 17,
     "metadata": {},
     "output_type": "execute_result"
    }
   ],
   "source": [
    "new_df.shape"
   ]
  },
  {
   "cell_type": "code",
   "execution_count": 18,
   "metadata": {},
   "outputs": [
    {
     "data": {
      "text/html": [
       "<div>\n",
       "<style scoped>\n",
       "    .dataframe tbody tr th:only-of-type {\n",
       "        vertical-align: middle;\n",
       "    }\n",
       "\n",
       "    .dataframe tbody tr th {\n",
       "        vertical-align: top;\n",
       "    }\n",
       "\n",
       "    .dataframe thead th {\n",
       "        text-align: right;\n",
       "    }\n",
       "</style>\n",
       "<table border=\"1\" class=\"dataframe\">\n",
       "  <thead>\n",
       "    <tr style=\"text-align: right;\">\n",
       "      <th></th>\n",
       "      <th>TransactionDT</th>\n",
       "      <th>TransactionAmt</th>\n",
       "      <th>card1</th>\n",
       "      <th>card2</th>\n",
       "      <th>card3</th>\n",
       "      <th>card5</th>\n",
       "      <th>addr1</th>\n",
       "      <th>addr2</th>\n",
       "      <th>dist1</th>\n",
       "      <th>C1</th>\n",
       "      <th>C2</th>\n",
       "      <th>C3</th>\n",
       "      <th>C4</th>\n",
       "      <th>C5</th>\n",
       "      <th>C6</th>\n",
       "      <th>C7</th>\n",
       "      <th>C8</th>\n",
       "      <th>C9</th>\n",
       "      <th>C10</th>\n",
       "      <th>C11</th>\n",
       "      <th>C12</th>\n",
       "      <th>C13</th>\n",
       "      <th>C14</th>\n",
       "      <th>D1</th>\n",
       "      <th>D2</th>\n",
       "      <th>...</th>\n",
       "      <th>V313</th>\n",
       "      <th>V314</th>\n",
       "      <th>V315</th>\n",
       "      <th>V316</th>\n",
       "      <th>V317</th>\n",
       "      <th>V318</th>\n",
       "      <th>V319</th>\n",
       "      <th>V320</th>\n",
       "      <th>V321</th>\n",
       "      <th>id_01</th>\n",
       "      <th>id_02</th>\n",
       "      <th>id_03</th>\n",
       "      <th>id_04</th>\n",
       "      <th>id_05</th>\n",
       "      <th>id_06</th>\n",
       "      <th>id_09</th>\n",
       "      <th>id_10</th>\n",
       "      <th>id_11</th>\n",
       "      <th>id_13</th>\n",
       "      <th>id_14</th>\n",
       "      <th>id_17</th>\n",
       "      <th>id_18</th>\n",
       "      <th>id_19</th>\n",
       "      <th>id_20</th>\n",
       "      <th>id_32</th>\n",
       "    </tr>\n",
       "    <tr>\n",
       "      <th>isFraud</th>\n",
       "      <th></th>\n",
       "      <th></th>\n",
       "      <th></th>\n",
       "      <th></th>\n",
       "      <th></th>\n",
       "      <th></th>\n",
       "      <th></th>\n",
       "      <th></th>\n",
       "      <th></th>\n",
       "      <th></th>\n",
       "      <th></th>\n",
       "      <th></th>\n",
       "      <th></th>\n",
       "      <th></th>\n",
       "      <th></th>\n",
       "      <th></th>\n",
       "      <th></th>\n",
       "      <th></th>\n",
       "      <th></th>\n",
       "      <th></th>\n",
       "      <th></th>\n",
       "      <th></th>\n",
       "      <th></th>\n",
       "      <th></th>\n",
       "      <th></th>\n",
       "      <th></th>\n",
       "      <th></th>\n",
       "      <th></th>\n",
       "      <th></th>\n",
       "      <th></th>\n",
       "      <th></th>\n",
       "      <th></th>\n",
       "      <th></th>\n",
       "      <th></th>\n",
       "      <th></th>\n",
       "      <th></th>\n",
       "      <th></th>\n",
       "      <th></th>\n",
       "      <th></th>\n",
       "      <th></th>\n",
       "      <th></th>\n",
       "      <th></th>\n",
       "      <th></th>\n",
       "      <th></th>\n",
       "      <th></th>\n",
       "      <th></th>\n",
       "      <th></th>\n",
       "      <th></th>\n",
       "      <th></th>\n",
       "      <th></th>\n",
       "      <th></th>\n",
       "    </tr>\n",
       "  </thead>\n",
       "  <tbody>\n",
       "    <tr>\n",
       "      <th>0</th>\n",
       "      <td>7.350419e+06</td>\n",
       "      <td>132.642487</td>\n",
       "      <td>9978.001791</td>\n",
       "      <td>362.232199</td>\n",
       "      <td>152.912997</td>\n",
       "      <td>199.325414</td>\n",
       "      <td>290.476538</td>\n",
       "      <td>86.796997</td>\n",
       "      <td>115.767806</td>\n",
       "      <td>11.993854</td>\n",
       "      <td>12.770072</td>\n",
       "      <td>0.008760</td>\n",
       "      <td>2.975173</td>\n",
       "      <td>5.772782</td>\n",
       "      <td>8.122247</td>\n",
       "      <td>1.842182</td>\n",
       "      <td>3.513381</td>\n",
       "      <td>4.650874</td>\n",
       "      <td>3.698446</td>\n",
       "      <td>8.840778</td>\n",
       "      <td>2.606833</td>\n",
       "      <td>32.056236</td>\n",
       "      <td>7.796012</td>\n",
       "      <td>96.387394</td>\n",
       "      <td>170.448800</td>\n",
       "      <td>...</td>\n",
       "      <td>20.315387</td>\n",
       "      <td>41.404510</td>\n",
       "      <td>25.537324</td>\n",
       "      <td>107.909634</td>\n",
       "      <td>234.667252</td>\n",
       "      <td>158.845562</td>\n",
       "      <td>16.709534</td>\n",
       "      <td>39.397376</td>\n",
       "      <td>26.617559</td>\n",
       "      <td>-10.013798</td>\n",
       "      <td>173649.693845</td>\n",
       "      <td>0.061007</td>\n",
       "      <td>-0.057417</td>\n",
       "      <td>1.621034</td>\n",
       "      <td>-6.717657</td>\n",
       "      <td>0.089839</td>\n",
       "      <td>-0.305158</td>\n",
       "      <td>99.744136</td>\n",
       "      <td>48.055007</td>\n",
       "      <td>-344.251521</td>\n",
       "      <td>189.213538</td>\n",
       "      <td>14.232142</td>\n",
       "      <td>353.048992</td>\n",
       "      <td>403.360448</td>\n",
       "      <td>26.495023</td>\n",
       "    </tr>\n",
       "    <tr>\n",
       "      <th>1</th>\n",
       "      <td>7.690033e+06</td>\n",
       "      <td>149.244779</td>\n",
       "      <td>9547.654164</td>\n",
       "      <td>365.313219</td>\n",
       "      <td>162.351333</td>\n",
       "      <td>192.068362</td>\n",
       "      <td>292.974830</td>\n",
       "      <td>86.478811</td>\n",
       "      <td>131.407103</td>\n",
       "      <td>35.535740</td>\n",
       "      <td>45.509413</td>\n",
       "      <td>0.000242</td>\n",
       "      <td>15.077336</td>\n",
       "      <td>1.406717</td>\n",
       "      <td>16.923148</td>\n",
       "      <td>11.977157</td>\n",
       "      <td>21.242608</td>\n",
       "      <td>1.703964</td>\n",
       "      <td>19.493926</td>\n",
       "      <td>23.857475</td>\n",
       "      <td>18.597541</td>\n",
       "      <td>24.967768</td>\n",
       "      <td>10.356047</td>\n",
       "      <td>38.835164</td>\n",
       "      <td>134.603591</td>\n",
       "      <td>...</td>\n",
       "      <td>42.204210</td>\n",
       "      <td>78.378166</td>\n",
       "      <td>56.381228</td>\n",
       "      <td>74.529997</td>\n",
       "      <td>352.313168</td>\n",
       "      <td>176.780111</td>\n",
       "      <td>18.478504</td>\n",
       "      <td>54.408351</td>\n",
       "      <td>31.691347</td>\n",
       "      <td>-13.404992</td>\n",
       "      <td>189274.817221</td>\n",
       "      <td>0.084820</td>\n",
       "      <td>-0.100502</td>\n",
       "      <td>1.540216</td>\n",
       "      <td>-7.504051</td>\n",
       "      <td>0.123137</td>\n",
       "      <td>-0.266961</td>\n",
       "      <td>99.761803</td>\n",
       "      <td>47.661651</td>\n",
       "      <td>-340.207138</td>\n",
       "      <td>197.758742</td>\n",
       "      <td>14.284308</td>\n",
       "      <td>342.408008</td>\n",
       "      <td>420.942111</td>\n",
       "      <td>26.710254</td>\n",
       "    </tr>\n",
       "  </tbody>\n",
       "</table>\n",
       "<p>2 rows × 227 columns</p>\n",
       "</div>"
      ],
      "text/plain": [
       "         TransactionDT  TransactionAmt        card1       card2       card3  \\\n",
       "isFraud                                                                       \n",
       "0         7.350419e+06      132.642487  9978.001791  362.232199  152.912997   \n",
       "1         7.690033e+06      149.244779  9547.654164  365.313219  162.351333   \n",
       "\n",
       "              card5       addr1      addr2       dist1         C1         C2  \\\n",
       "isFraud                                                                        \n",
       "0        199.325414  290.476538  86.796997  115.767806  11.993854  12.770072   \n",
       "1        192.068362  292.974830  86.478811  131.407103  35.535740  45.509413   \n",
       "\n",
       "               C3         C4        C5         C6         C7         C8  \\\n",
       "isFraud                                                                   \n",
       "0        0.008760   2.975173  5.772782   8.122247   1.842182   3.513381   \n",
       "1        0.000242  15.077336  1.406717  16.923148  11.977157  21.242608   \n",
       "\n",
       "               C9        C10        C11        C12        C13        C14  \\\n",
       "isFraud                                                                    \n",
       "0        4.650874   3.698446   8.840778   2.606833  32.056236   7.796012   \n",
       "1        1.703964  19.493926  23.857475  18.597541  24.967768  10.356047   \n",
       "\n",
       "                D1          D2  ...       V313       V314       V315  \\\n",
       "isFraud                         ...                                    \n",
       "0        96.387394  170.448800  ...  20.315387  41.404510  25.537324   \n",
       "1        38.835164  134.603591  ...  42.204210  78.378166  56.381228   \n",
       "\n",
       "               V316        V317        V318       V319       V320       V321  \\\n",
       "isFraud                                                                        \n",
       "0        107.909634  234.667252  158.845562  16.709534  39.397376  26.617559   \n",
       "1         74.529997  352.313168  176.780111  18.478504  54.408351  31.691347   \n",
       "\n",
       "             id_01          id_02     id_03     id_04     id_05     id_06  \\\n",
       "isFraud                                                                     \n",
       "0       -10.013798  173649.693845  0.061007 -0.057417  1.621034 -6.717657   \n",
       "1       -13.404992  189274.817221  0.084820 -0.100502  1.540216 -7.504051   \n",
       "\n",
       "            id_09     id_10      id_11      id_13       id_14       id_17  \\\n",
       "isFraud                                                                     \n",
       "0        0.089839 -0.305158  99.744136  48.055007 -344.251521  189.213538   \n",
       "1        0.123137 -0.266961  99.761803  47.661651 -340.207138  197.758742   \n",
       "\n",
       "             id_18       id_19       id_20      id_32  \n",
       "isFraud                                                \n",
       "0        14.232142  353.048992  403.360448  26.495023  \n",
       "1        14.284308  342.408008  420.942111  26.710254  \n",
       "\n",
       "[2 rows x 227 columns]"
      ]
     },
     "execution_count": 18,
     "metadata": {},
     "output_type": "execute_result"
    }
   ],
   "source": [
    "new_df.groupby('isFraud').mean()"
   ]
  },
  {
   "cell_type": "markdown",
   "metadata": {},
   "source": [
    "After comparing means of class label 0 data points from the new sampled dataframe with the original dataframe, therefore the nature of the distributions for each class has not changed too much and we also have a balanced dataset"
   ]
  },
  {
   "cell_type": "markdown",
   "metadata": {},
   "source": [
    "# 1. Split data into x and y\n",
    "# 2. Standardize x"
   ]
  },
  {
   "cell_type": "code",
   "execution_count": 19,
   "metadata": {},
   "outputs": [],
   "source": [
    "x = new_df.drop(columns=['isFraud'], axis=1)\n",
    "y = new_df['isFraud']"
   ]
  },
  {
   "cell_type": "code",
   "execution_count": 20,
   "metadata": {},
   "outputs": [],
   "source": [
    "#x.shape"
   ]
  },
  {
   "cell_type": "code",
   "execution_count": 21,
   "metadata": {},
   "outputs": [],
   "source": [
    "standard = StandardScaler()\n",
    "x_sc = standard.fit_transform(x)"
   ]
  },
  {
   "cell_type": "code",
   "execution_count": 46,
   "metadata": {},
   "outputs": [],
   "source": [
    "#x_sc.shape"
   ]
  },
  {
   "cell_type": "code",
   "execution_count": 23,
   "metadata": {},
   "outputs": [],
   "source": [
    "x_train,x_test,y_train,y_test = train_test_split(x_sc,y,test_size=0.1,random_state=42,stratify=y)"
   ]
  },
  {
   "cell_type": "code",
   "execution_count": 24,
   "metadata": {},
   "outputs": [
    {
     "data": {
      "text/plain": [
       "1    18597\n",
       "0    18596\n",
       "Name: isFraud, dtype: int64"
      ]
     },
     "execution_count": 24,
     "metadata": {},
     "output_type": "execute_result"
    }
   ],
   "source": [
    "y_train.value_counts()"
   ]
  },
  {
   "cell_type": "code",
   "execution_count": 25,
   "metadata": {},
   "outputs": [
    {
     "data": {
      "text/plain": [
       "0    2067\n",
       "1    2066\n",
       "Name: isFraud, dtype: int64"
      ]
     },
     "execution_count": 25,
     "metadata": {},
     "output_type": "execute_result"
    }
   ],
   "source": [
    "y_test.value_counts()"
   ]
  },
  {
   "cell_type": "markdown",
   "metadata": {},
   "source": [
    "# 3. Logistic Regression"
   ]
  },
  {
   "cell_type": "code",
   "execution_count": 26,
   "metadata": {},
   "outputs": [
    {
     "name": "stderr",
     "output_type": "stream",
     "text": [
      "C:\\Users\\leobu\\anaconda3\\lib\\site-packages\\sklearn\\linear_model\\_logistic.py:762: ConvergenceWarning: lbfgs failed to converge (status=1):\n",
      "STOP: TOTAL NO. of ITERATIONS REACHED LIMIT.\n",
      "\n",
      "Increase the number of iterations (max_iter) or scale the data as shown in:\n",
      "    https://scikit-learn.org/stable/modules/preprocessing.html\n",
      "Please also refer to the documentation for alternative solver options:\n",
      "    https://scikit-learn.org/stable/modules/linear_model.html#logistic-regression\n",
      "  n_iter_i = _check_optimize_result(\n"
     ]
    },
    {
     "data": {
      "text/plain": [
       "LogisticRegression()"
      ]
     },
     "execution_count": 26,
     "metadata": {},
     "output_type": "execute_result"
    }
   ],
   "source": [
    "model = LogisticRegression()\n",
    "model.fit(x_train,y_train)"
   ]
  },
  {
   "cell_type": "code",
   "execution_count": 27,
   "metadata": {},
   "outputs": [],
   "source": [
    "y_pred = model.predict(x_test)"
   ]
  },
  {
   "cell_type": "code",
   "execution_count": 28,
   "metadata": {},
   "outputs": [
    {
     "name": "stdout",
     "output_type": "stream",
     "text": [
      "Train accuracy : 0.7562444546016723\n",
      "Test accuracy : 0.7669973384950399\n"
     ]
    }
   ],
   "source": [
    "print(\"Train accuracy :\", model.score(x_train,y_train))\n",
    "print(\"Test accuracy :\", model.score(x_test,y_test))"
   ]
  },
  {
   "cell_type": "code",
   "execution_count": 29,
   "metadata": {},
   "outputs": [
    {
     "name": "stdout",
     "output_type": "stream",
     "text": [
      "[[1666  401]\n",
      " [ 562 1504]]\n"
     ]
    }
   ],
   "source": [
    "print(confusion_matrix(y_test,y_pred))"
   ]
  },
  {
   "cell_type": "code",
   "execution_count": 30,
   "metadata": {},
   "outputs": [
    {
     "name": "stdout",
     "output_type": "stream",
     "text": [
      "              precision    recall  f1-score   support\n",
      "\n",
      "           0       0.75      0.81      0.78      2067\n",
      "           1       0.79      0.73      0.76      2066\n",
      "\n",
      "    accuracy                           0.77      4133\n",
      "   macro avg       0.77      0.77      0.77      4133\n",
      "weighted avg       0.77      0.77      0.77      4133\n",
      "\n"
     ]
    }
   ],
   "source": [
    "print(classification_report(y_test, y_pred))"
   ]
  },
  {
   "cell_type": "markdown",
   "metadata": {},
   "source": [
    "# 4. Random Forest"
   ]
  },
  {
   "cell_type": "code",
   "execution_count": 31,
   "metadata": {},
   "outputs": [
    {
     "data": {
      "text/plain": [
       "RandomForestClassifier()"
      ]
     },
     "execution_count": 31,
     "metadata": {},
     "output_type": "execute_result"
    }
   ],
   "source": [
    "model1 = RandomForestClassifier()\n",
    "model1.fit(x_train, y_train)"
   ]
  },
  {
   "cell_type": "code",
   "execution_count": 32,
   "metadata": {},
   "outputs": [],
   "source": [
    "y_pred = model1.predict(x_test)"
   ]
  },
  {
   "cell_type": "code",
   "execution_count": 33,
   "metadata": {},
   "outputs": [
    {
     "name": "stdout",
     "output_type": "stream",
     "text": [
      "Training Accuracy : 1.0\n",
      "Testing Accuracy : 0.854827002177595\n"
     ]
    }
   ],
   "source": [
    "print(\"Training Accuracy :\", model1.score(x_train, y_train))\n",
    "print(\"Testing Accuracy :\", model1.score(x_test, y_test))"
   ]
  },
  {
   "cell_type": "code",
   "execution_count": 34,
   "metadata": {},
   "outputs": [
    {
     "name": "stdout",
     "output_type": "stream",
     "text": [
      "              precision    recall  f1-score   support\n",
      "\n",
      "           0       0.83      0.89      0.86      2067\n",
      "           1       0.88      0.82      0.85      2066\n",
      "\n",
      "    accuracy                           0.85      4133\n",
      "   macro avg       0.86      0.85      0.85      4133\n",
      "weighted avg       0.86      0.85      0.85      4133\n",
      "\n"
     ]
    }
   ],
   "source": [
    "print(classification_report(y_test, y_pred))"
   ]
  },
  {
   "cell_type": "code",
   "execution_count": 35,
   "metadata": {},
   "outputs": [
    {
     "name": "stdout",
     "output_type": "stream",
     "text": [
      "F1 Score: 0.8496993987975952\n"
     ]
    }
   ],
   "source": [
    "print(\"F1 Score:\",f1_score(y_test, y_pred))"
   ]
  },
  {
   "cell_type": "code",
   "execution_count": 37,
   "metadata": {},
   "outputs": [
    {
     "name": "stdout",
     "output_type": "stream",
     "text": [
      "[[1837  230]\n",
      " [ 370 1696]]\n"
     ]
    }
   ],
   "source": [
    "print(confusion_matrix(y_test,y_pred))"
   ]
  },
  {
   "cell_type": "markdown",
   "metadata": {},
   "source": [
    "# 5. XGBoost"
   ]
  },
  {
   "cell_type": "code",
   "execution_count": 38,
   "metadata": {},
   "outputs": [
    {
     "data": {
      "text/plain": [
       "XGBClassifier(base_score=0.5, booster='gbtree', callbacks=None,\n",
       "              colsample_bylevel=1, colsample_bynode=1, colsample_bytree=1,\n",
       "              early_stopping_rounds=None, enable_categorical=False,\n",
       "              eval_metric=None, gamma=0, gpu_id=-1, grow_policy='depthwise',\n",
       "              importance_type=None, interaction_constraints='',\n",
       "              learning_rate=0.300000012, max_bin=256, max_cat_to_onehot=4,\n",
       "              max_delta_step=0, max_depth=6, max_leaves=0, min_child_weight=1,\n",
       "              missing=nan, monotone_constraints='()', n_estimators=100,\n",
       "              n_jobs=-1, num_parallel_tree=1, predictor='auto', random_state=0,\n",
       "              reg_alpha=0, reg_lambda=1, ...)"
      ]
     },
     "execution_count": 38,
     "metadata": {},
     "output_type": "execute_result"
    }
   ],
   "source": [
    "model2 = XGBClassifier(n_jobs=-1)\n",
    "model2.fit(x_train, y_train)"
   ]
  },
  {
   "cell_type": "code",
   "execution_count": 39,
   "metadata": {},
   "outputs": [],
   "source": [
    "y_pred = model2.predict(x_test)"
   ]
  },
  {
   "cell_type": "code",
   "execution_count": 40,
   "metadata": {},
   "outputs": [
    {
     "name": "stdout",
     "output_type": "stream",
     "text": [
      "Training Accuracy : 0.9093646653940257\n",
      "Testing Accuracy : 0.8618436970723445\n"
     ]
    }
   ],
   "source": [
    "print(\"Training Accuracy :\", model2.score(x_train, y_train))\n",
    "print(\"Testing Accuracy :\", model2.score(x_test, y_test))"
   ]
  },
  {
   "cell_type": "code",
   "execution_count": 41,
   "metadata": {},
   "outputs": [
    {
     "name": "stdout",
     "output_type": "stream",
     "text": [
      "              precision    recall  f1-score   support\n",
      "\n",
      "           0       0.84      0.90      0.87      2067\n",
      "           1       0.89      0.82      0.86      2066\n",
      "\n",
      "    accuracy                           0.86      4133\n",
      "   macro avg       0.86      0.86      0.86      4133\n",
      "weighted avg       0.86      0.86      0.86      4133\n",
      "\n"
     ]
    }
   ],
   "source": [
    "print(classification_report(y_test, y_pred))"
   ]
  },
  {
   "cell_type": "code",
   "execution_count": 42,
   "metadata": {},
   "outputs": [
    {
     "name": "stdout",
     "output_type": "stream",
     "text": [
      "F1 Score: 0.8564244405330652\n"
     ]
    }
   ],
   "source": [
    "print(\"F1 Score:\",f1_score(y_test, y_pred))"
   ]
  },
  {
   "cell_type": "code",
   "execution_count": 43,
   "metadata": {},
   "outputs": [
    {
     "name": "stdout",
     "output_type": "stream",
     "text": [
      "[[1859  208]\n",
      " [ 363 1703]]\n"
     ]
    }
   ],
   "source": [
    "print(confusion_matrix(y_test,y_pred))"
   ]
  },
  {
   "cell_type": "markdown",
   "metadata": {},
   "source": [
    "# Sampled feature correlation"
   ]
  },
  {
   "cell_type": "code",
   "execution_count": 48,
   "metadata": {},
   "outputs": [
    {
     "name": "stdout",
     "output_type": "stream",
     "text": [
      "                 isFraud  TransactionDT  TransactionAmt     card1     card2  \\\n",
      "isFraud         1.000000       0.037501        0.035744 -0.044427  0.009811   \n",
      "TransactionDT   0.037501       1.000000        0.021074  0.018150 -0.006086   \n",
      "TransactionAmt  0.035744       0.021074        1.000000  0.002551  0.043236   \n",
      "card1          -0.044427       0.018150        0.002551  1.000000  0.002817   \n",
      "card2           0.009811      -0.006086        0.043236  0.002817  1.000000   \n",
      "...                  ...            ...             ...       ...       ...   \n",
      "id_17           0.216569       0.075835       -0.168687 -0.006573 -0.067561   \n",
      "id_18           0.048695       0.037098       -0.024508  0.007902 -0.021792   \n",
      "id_19          -0.065368      -0.011257        0.038017  0.015893  0.010246   \n",
      "id_20           0.097440       0.034216       -0.043490  0.005468 -0.004596   \n",
      "id_32           0.068626      -0.039720        0.038863 -0.003881  0.007715   \n",
      "\n",
      "                   card3     card5     addr1     addr2     dist1        C1  \\\n",
      "isFraud         0.308041 -0.083543  0.013944 -0.047773  0.036038  0.062511   \n",
      "TransactionDT   0.014423 -0.004475  0.028571  0.080483 -0.015164 -0.063968   \n",
      "TransactionAmt -0.201766  0.025051 -0.018106  0.040926  0.029726 -0.028013   \n",
      "card1          -0.045221 -0.074587  0.012651  0.016714  0.011101  0.003397   \n",
      "card2          -0.051647  0.086540  0.050092 -0.026036 -0.017547 -0.004070   \n",
      "...                  ...       ...       ...       ...       ...       ...   \n",
      "id_17           0.739340 -0.173012 -0.024139 -0.056690 -0.004795  0.092789   \n",
      "id_18           0.091432 -0.024447 -0.005809 -0.004653 -0.000914 -0.003667   \n",
      "id_19          -0.207068  0.048403  0.005755  0.033284  0.001556 -0.058428   \n",
      "id_20           0.234053 -0.079961 -0.019006 -0.010614 -0.002149  0.006187   \n",
      "id_32          -0.023955  0.001762  0.005847  0.004860 -0.001406  0.008712   \n",
      "\n",
      "                      C2        C3        C4        C5        C6        C7  \\\n",
      "isFraud         0.073473 -0.024437  0.062071 -0.105251  0.044540  0.057256   \n",
      "TransactionDT  -0.064638 -0.003743 -0.066233  0.030235 -0.060774 -0.078998   \n",
      "TransactionAmt -0.032771 -0.008379 -0.017788 -0.024051 -0.019184 -0.032026   \n",
      "card1           0.001295 -0.007883  0.004350  0.006983  0.006198  0.002443   \n",
      "card2          -0.005127  0.004241  0.003838 -0.019709  0.000795 -0.003850   \n",
      "...                  ...       ...       ...       ...       ...       ...   \n",
      "id_17           0.111698 -0.033670  0.068507 -0.035396  0.060310  0.109365   \n",
      "id_18          -0.002704 -0.007493 -0.009020 -0.006749 -0.010337  0.009975   \n",
      "id_19          -0.065981 -0.001015 -0.052020  0.011482 -0.049478 -0.053974   \n",
      "id_20           0.017213 -0.001094 -0.000125 -0.015862 -0.003667  0.022165   \n",
      "id_32           0.007295 -0.034627  0.015665 -0.010379  0.014198 -0.004682   \n",
      "\n",
      "                      C8        C9       C10       C11       C12       C13  \\\n",
      "isFraud         0.065154 -0.108271  0.057930  0.056578  0.064190 -0.024450   \n",
      "TransactionDT  -0.075500  0.040950 -0.080320 -0.065921 -0.077788 -0.048377   \n",
      "TransactionAmt -0.028832 -0.016493 -0.027137 -0.025116 -0.034716 -0.035434   \n",
      "card1           0.001916  0.013074  0.002714  0.003255  0.000517  0.007619   \n",
      "card2          -0.000072 -0.019202 -0.000635 -0.000195 -0.003899 -0.008440   \n",
      "...                  ...       ...       ...       ...       ...       ...   \n",
      "id_17           0.098996 -0.047750  0.090335  0.081290  0.118920  0.030179   \n",
      "id_18           0.003273 -0.009105  0.002091 -0.006062  0.009872 -0.008497   \n",
      "id_19          -0.056706  0.015489 -0.051994 -0.056039 -0.059654 -0.032231   \n",
      "id_20           0.015278 -0.021399  0.011915  0.007145  0.027350 -0.011429   \n",
      "id_32           0.004648 -0.014002  0.004612  0.010877 -0.005105 -0.003557   \n",
      "\n",
      "                     C14        D1  ...      V313      V314      V315  \\\n",
      "isFraud         0.019444 -0.211474  ...  0.094657  0.086171  0.101032   \n",
      "TransactionDT  -0.057611  0.038307  ...  0.047855  0.048925  0.045184   \n",
      "TransactionAmt -0.018221 -0.020921  ...  0.265582  0.231139  0.254828   \n",
      "card1           0.008589  0.024440  ... -0.004566  0.003826 -0.001370   \n",
      "card2           0.000585  0.002779  ...  0.031055  0.036394  0.036354   \n",
      "...                  ...       ...  ...       ...       ...       ...   \n",
      "id_17           0.037264 -0.063284  ... -0.056889 -0.065273 -0.059228   \n",
      "id_18          -0.014047 -0.015320  ... -0.011231 -0.010945 -0.011599   \n",
      "id_19          -0.040859  0.015925  ...  0.029188  0.038964  0.029337   \n",
      "id_20          -0.012147 -0.027868  ... -0.022839 -0.027559 -0.026826   \n",
      "id_32           0.013263 -0.042902  ... -0.010367 -0.021840 -0.012680   \n",
      "\n",
      "                    V316      V317      V318      V319      V320      V321  \\\n",
      "isFraud        -0.010280  0.016975  0.004272  0.006165  0.021799  0.011661   \n",
      "TransactionDT   0.039549  0.016362  0.036192  0.010374  0.030182  0.026011   \n",
      "TransactionAmt  0.030276  0.035955  0.045325  0.212240  0.124810  0.167089   \n",
      "card1           0.036040  0.052505  0.050843  0.017275  0.053842  0.036169   \n",
      "card2           0.025904  0.039303  0.037436  0.030505  0.045997  0.038319   \n",
      "...                  ...       ...       ...       ...       ...       ...   \n",
      "id_17          -0.032258 -0.021299 -0.034343 -0.071038 -0.058784 -0.069112   \n",
      "id_18          -0.001773  0.001466 -0.001117 -0.004695 -0.003908 -0.004694   \n",
      "id_19           0.062259  0.056181  0.070785  0.036312  0.063524  0.060599   \n",
      "id_20           0.019664  0.024983  0.024411 -0.005826  0.007567  0.002472   \n",
      "id_32          -0.034726 -0.034409 -0.040928  0.003122 -0.029614 -0.020469   \n",
      "\n",
      "                   id_01     id_02     id_03     id_04     id_05     id_06  \\\n",
      "isFraud        -0.143065  0.074398  0.024193 -0.038316 -0.012452 -0.037431   \n",
      "TransactionDT  -0.029278  0.079044  0.004383 -0.005481 -0.042273  0.010772   \n",
      "TransactionAmt  0.047785 -0.009483 -0.009040  0.007664  0.056234  0.004725   \n",
      "card1          -0.015920  0.008078 -0.005121 -0.002526 -0.002418 -0.002274   \n",
      "card2           0.002249 -0.017593  0.005186  0.007041  0.034058 -0.012253   \n",
      "...                  ...       ...       ...       ...       ...       ...   \n",
      "id_17          -0.205962  0.260730  0.032994 -0.029912 -0.254688 -0.006268   \n",
      "id_18          -0.042672  0.071435 -0.001325  0.009105 -0.105511  0.036732   \n",
      "id_19          -0.029104 -0.054478 -0.031477  0.002870 -0.009067 -0.022926   \n",
      "id_20          -0.117112  0.123289  0.001525 -0.024763 -0.044746 -0.114116   \n",
      "id_32           0.006001  0.074662 -0.021839 -0.001081  0.197564 -0.097434   \n",
      "\n",
      "                   id_09     id_10     id_11     id_13     id_14     id_17  \\\n",
      "isFraud         0.027577  0.019963  0.013400 -0.026997  0.046517  0.216569   \n",
      "TransactionDT  -0.007873 -0.002504  0.015390  0.047831  0.020777  0.075835   \n",
      "TransactionAmt -0.005365 -0.003361 -0.009450  0.014254 -0.015268 -0.168687   \n",
      "card1          -0.008300 -0.001444  0.009774  0.007541 -0.024477 -0.006573   \n",
      "card2           0.000780 -0.002355  0.004827  0.008463  0.023264 -0.067561   \n",
      "...                  ...       ...       ...       ...       ...       ...   \n",
      "id_17           0.014275  0.012542  0.033904 -0.017259 -0.114102  1.000000   \n",
      "id_18          -0.015528 -0.020280  0.049041 -0.032300  0.036529  0.106803   \n",
      "id_19          -0.014577 -0.027597  0.010744  0.016803 -0.005360 -0.250677   \n",
      "id_20          -0.007702 -0.006562  0.036605 -0.004040  0.152929  0.266699   \n",
      "id_32          -0.044161  0.021310  0.098649 -0.100051  0.012736 -0.076646   \n",
      "\n",
      "                   id_18     id_19     id_20     id_32  \n",
      "isFraud         0.048695 -0.065368  0.097440  0.068626  \n",
      "TransactionDT   0.037098 -0.011257  0.034216 -0.039720  \n",
      "TransactionAmt -0.024508  0.038017 -0.043490  0.038863  \n",
      "card1           0.007902  0.015893  0.005468 -0.003881  \n",
      "card2          -0.021792  0.010246 -0.004596  0.007715  \n",
      "...                  ...       ...       ...       ...  \n",
      "id_17           0.106803 -0.250677  0.266699 -0.076646  \n",
      "id_18           1.000000  0.053164  0.102467 -0.000190  \n",
      "id_19           0.053164  1.000000 -0.053693 -0.051323  \n",
      "id_20           0.102467 -0.053693  1.000000  0.023205  \n",
      "id_32          -0.000190 -0.051323  0.023205  1.000000  \n",
      "\n",
      "[228 rows x 228 columns]\n"
     ]
    }
   ],
   "source": [
    "cor_matrix = new_df.corr()\n",
    "print(cor_matrix)"
   ]
  },
  {
   "cell_type": "code",
   "execution_count": null,
   "metadata": {},
   "outputs": [],
   "source": []
  }
 ],
 "metadata": {
  "kernelspec": {
   "display_name": "Python 3",
   "language": "python",
   "name": "python3"
  },
  "language_info": {
   "codemirror_mode": {
    "name": "ipython",
    "version": 3
   },
   "file_extension": ".py",
   "mimetype": "text/x-python",
   "name": "python",
   "nbconvert_exporter": "python",
   "pygments_lexer": "ipython3",
   "version": "3.8.3"
  }
 },
 "nbformat": 4,
 "nbformat_minor": 4
}
